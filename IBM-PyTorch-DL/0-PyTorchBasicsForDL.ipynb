{
  "nbformat": 4,
  "nbformat_minor": 0,
  "metadata": {
    "colab": {
      "provenance": [],
      "authorship_tag": "ABX9TyOklbvS8u6FLyi0gzZli/5l",
      "include_colab_link": true
    },
    "kernelspec": {
      "name": "python3",
      "display_name": "Python 3"
    },
    "language_info": {
      "name": "python"
    }
  },
  "cells": [
    {
      "cell_type": "markdown",
      "metadata": {
        "id": "view-in-github",
        "colab_type": "text"
      },
      "source": [
        "<a href=\"https://colab.research.google.com/github/Russo-Federico/DeepLearningFundamentals/blob/main/IBM-PyTorch-DL/0-PyTorchBasicsForDL.ipynb\" target=\"_parent\"><img src=\"https://colab.research.google.com/assets/colab-badge.svg\" alt=\"Open In Colab\"/></a>"
      ]
    },
    {
      "cell_type": "markdown",
      "source": [
        "# Build a Neural Network"
      ],
      "metadata": {
        "id": "WgdAWejKnCib"
      }
    },
    {
      "cell_type": "code",
      "execution_count": 1,
      "metadata": {
        "id": "mNMjR5cEm_fb"
      },
      "outputs": [],
      "source": [
        "import numpy as np\n",
        "import torch\n",
        "import torch.nn as nn\n",
        "from torch import sigmoid"
      ]
    },
    {
      "cell_type": "markdown",
      "source": [
        "Create a NN class"
      ],
      "metadata": {
        "id": "BQb4I3zin_ol"
      }
    },
    {
      "cell_type": "code",
      "source": [
        "class NN(nn.Module):\n",
        "  # D_in - input size of the network\n",
        "  # H - number of neurons\n",
        "  # D_out - output size of the netowrk\n",
        "  def __init__(self, D_in, H, D_out):\n",
        "    super(NN, self).__init__()\n",
        "    self.linear1 = nn.Linear(D_in, H) # input layer\n",
        "    self.linear2 = nn.Linear(H, D_out) # output layer\n",
        "\n",
        "  def forward(self, x):\n",
        "    x = sigmoid(self.linear1(x))\n",
        "    x = sigmoid(self.linear2(x))\n",
        "    return x"
      ],
      "metadata": {
        "id": "yIYwAST0n_E5"
      },
      "execution_count": 2,
      "outputs": []
    },
    {
      "cell_type": "code",
      "source": [
        "x = torch.tensor([1.0])\n",
        "\n",
        "model = NN(1,2,1)\n",
        "yhat = model(x)\n",
        "print(\"yhat:\", yhat)"
      ],
      "metadata": {
        "colab": {
          "base_uri": "https://localhost:8080/"
        },
        "id": "5yBHxsa7pGYY",
        "outputId": "170fac7b-844a-46b1-95f0-844e7f742cdb"
      },
      "execution_count": 3,
      "outputs": [
        {
          "output_type": "stream",
          "name": "stdout",
          "text": [
            "yhat: tensor([0.5438], grad_fn=<SigmoidBackward0>)\n"
          ]
        }
      ]
    },
    {
      "cell_type": "code",
      "source": [
        "model.state_dict()"
      ],
      "metadata": {
        "colab": {
          "base_uri": "https://localhost:8080/"
        },
        "id": "Wcs4ixVXp-uY",
        "outputId": "276f691c-3c37-44cb-f6da-839879d78ef5"
      },
      "execution_count": 4,
      "outputs": [
        {
          "output_type": "execute_result",
          "data": {
            "text/plain": [
              "OrderedDict([('linear1.weight',\n",
              "              tensor([[ 0.3154],\n",
              "                      [-0.4283]])),\n",
              "             ('linear1.bias', tensor([0.2276, 0.0460])),\n",
              "             ('linear2.weight', tensor([[-0.2009, -0.0633]])),\n",
              "             ('linear2.bias', tensor([0.3284]))])"
            ]
          },
          "metadata": {},
          "execution_count": 4
        }
      ]
    },
    {
      "cell_type": "markdown",
      "source": [
        "Build a network using the Sequential module"
      ],
      "metadata": {
        "id": "7ozWWN2nqQbK"
      }
    },
    {
      "cell_type": "code",
      "source": [
        "seq_model = torch.nn.Sequential(\n",
        "    torch.nn.Linear(1,2),\n",
        "    torch.nn.Sigmoid(),\n",
        "    torch.nn.Linear(2,1),\n",
        "    torch.nn.Sigmoid()\n",
        ")\n",
        "\n",
        "yhat = seq_model(x)\n",
        "print(\"yhat:\", yhat)"
      ],
      "metadata": {
        "colab": {
          "base_uri": "https://localhost:8080/"
        },
        "id": "rq2XcT8vqXXb",
        "outputId": "0142238f-8b23-4b17-de8e-4eb51738d4b4"
      },
      "execution_count": 5,
      "outputs": [
        {
          "output_type": "stream",
          "name": "stdout",
          "text": [
            "yhat: tensor([0.4910], grad_fn=<SigmoidBackward0>)\n"
          ]
        }
      ]
    },
    {
      "cell_type": "markdown",
      "source": [
        "Train a model"
      ],
      "metadata": {
        "id": "EkpnylJyqk3v"
      }
    },
    {
      "cell_type": "code",
      "source": [
        "def train(Y, X, model, optimizer, criterion, epochs=100):\n",
        "  cost = []\n",
        "  total = 0\n",
        "  for epoch in range(epochs):\n",
        "    total = 0\n",
        "    for x, y in zip(X, Y):\n",
        "      yhat = model(x)\n",
        "      loss = criterion(yhat, y)\n",
        "      optimizer.zero_grad()\n",
        "      loss.backward()\n",
        "      optimizer.step()\n",
        "      total += loss.item()\n",
        "    cost.append(total)\n",
        "  return cost"
      ],
      "metadata": {
        "id": "sERTHvWHqmt-"
      },
      "execution_count": 6,
      "outputs": []
    },
    {
      "cell_type": "code",
      "source": [
        "model = NN(1,2,1)\n",
        "criterion = nn.BCELoss()\n",
        "optimizer = torch.optim.SGD(model.parameters(), lr=0.01)\n",
        "\n",
        "X = torch.arange(-20,20,1).view(-1,1).type(torch.FloatTensor)\n",
        "Y = torch.zeros(X.shape[0],1)\n",
        "Y[(X[:,0] > -4) & (X[:,0] < 4)] = 1.0\n",
        "\n",
        "cost = train(Y, X, model, optimizer, criterion)\n",
        "\n",
        "print(\"cost: \", cost)"
      ],
      "metadata": {
        "colab": {
          "base_uri": "https://localhost:8080/"
        },
        "id": "eBR8W_KDuNVi",
        "outputId": "e6e144ca-1a93-4d18-9bb9-66a71677ce1d"
      },
      "execution_count": 7,
      "outputs": [
        {
          "output_type": "stream",
          "name": "stdout",
          "text": [
            "cost:  [23.140715301036835, 22.09584864974022, 21.312848418951035, 20.720101565122604, 20.266792446374893, 19.916633516550064, 19.643484324216843, 19.42833463847637, 19.257215321063995, 19.11976072192192, 19.008196085691452, 18.91663733124733, 18.84058351814747, 18.77656388282776, 18.7218729108572, 18.674383983016014, 18.63241669535637, 18.594642221927643, 18.560029059648514, 18.527814611792564, 18.497502580285072, 18.4688830524683, 18.44202721118927, 18.41723507642746, 18.3949007242918, 18.375328302383423, 18.35857367515564, 18.344417482614517, 18.332448348402977, 18.3221867531538, 18.313189432024956, 18.305096313357353, 18.297638028860092, 18.290619641542435, 18.283903136849403, 18.277394264936447, 18.271022602915764, 18.264740467071533, 18.25851060450077, 18.252308443188667, 18.246111258864403, 18.239904791116714, 18.233676075935364, 18.2274162620306, 18.221117541193962, 18.21477283537388, 18.208377867937088, 18.201928198337555, 18.195418924093246, 18.188849240541458, 18.182214677333832, 18.175514683127403, 18.16874560713768, 18.161907240748405, 18.15499773621559, 18.148015797138214, 18.14096127450466, 18.133832186460495, 18.12662960588932, 18.119351848959923, 18.11199900507927, 18.104571372270584, 18.097070157527924, 18.089493319392204, 18.081843435764313, 18.07412075996399, 18.066326186060905, 18.058460146188736, 18.050525203347206, 18.042522430419922, 18.034452691674232, 18.026319235563278, 18.018122673034668, 18.00986635684967, 18.001551747322083, 17.99318264424801, 17.98476053774357, 17.976289361715317, 17.967771776020527, 17.95921093225479, 17.95061019808054, 17.94197227060795, 17.933302752673626, 17.92460396885872, 17.915878489613533, 17.90713183581829, 17.89836659282446, 17.889587327837944, 17.88079608976841, 17.871998585760593, 17.863197416067123, 17.854395158588886, 17.845596969127655, 17.836804635822773, 17.8280213996768, 17.81925044953823, 17.810494296252728, 17.801755137741566, 17.793035224080086, 17.784335121512413]\n"
          ]
        }
      ]
    },
    {
      "cell_type": "markdown",
      "source": [
        "**More hidden neurons**"
      ],
      "metadata": {
        "id": "kRJ906Poz2RC"
      }
    },
    {
      "cell_type": "code",
      "source": [
        "from torch.utils.data import Dataset, DataLoader"
      ],
      "metadata": {
        "id": "yOn2C2wZz4Gf"
      },
      "execution_count": 8,
      "outputs": []
    },
    {
      "cell_type": "code",
      "source": [
        "class Data(Dataset):\n",
        "  def __init__(self):\n",
        "    self.x = torch.linspace(-20,20,100).view(-1,1)\n",
        "    self.y = torch.zeros(self.x.shape[0])\n",
        "    self.y[(self.x[:,0] > -10 & (self.x[:,0] < -5))] = 1\n",
        "    self.y[(self.x[:,0] > 5 & (self.x[:,0] < 10))] = 1\n",
        "    self.y = self.y.view(-1,1)\n",
        "    self.len = self.x.shape[0]\n",
        "\n",
        "  def __getitem__(self, index):\n",
        "    return self.x[index], self.y[index]\n",
        "\n",
        "  def __len__(self):\n",
        "    return self.len"
      ],
      "metadata": {
        "id": "P3jPaFFH0WYT"
      },
      "execution_count": 9,
      "outputs": []
    },
    {
      "cell_type": "code",
      "source": [
        "class NN(nn.Module):\n",
        "  def __init__(self, D_in, H, D_out):\n",
        "    super(NN, self).__init__()\n",
        "    self.linear1 = nn.Linear(D_in, H)\n",
        "    self.linear2 = nn.Linear(H, D_out)\n",
        "\n",
        "  def forward(self, x):\n",
        "    x = sigmoid(self.linear1(x))\n",
        "    x = sigmoid(self.linear2(x))\n",
        "    return x"
      ],
      "metadata": {
        "id": "vWHHhgtB1OSq"
      },
      "execution_count": 10,
      "outputs": []
    },
    {
      "cell_type": "code",
      "source": [
        "def train(data_set, model, criterion, train_loader, optimizer, epochs=5, plot_number=10):\n",
        "  cost = []\n",
        "  for epoch in range(epochs):\n",
        "    total = 0\n",
        "    for x,y in train_loader:\n",
        "      yhat = model(x)\n",
        "      loss = criterion(yhat, y)\n",
        "      optimizer.zero_grad()\n",
        "      loss.backward()\n",
        "      optimizer.step()\n",
        "      total += loss.item()\n",
        "    cost.append(total)\n",
        "  return cost"
      ],
      "metadata": {
        "id": "nVpI7zfR1pM_"
      },
      "execution_count": 11,
      "outputs": []
    },
    {
      "cell_type": "code",
      "source": [
        "model = NN(1,6,1)\n",
        "criterion = nn.BCELoss()\n",
        "optimizer = torch.optim.Adam(model.parameters(), lr=0.01)\n",
        "train_dataset = Data()\n",
        "train_loader = DataLoader(dataset=train_dataset, batch_size=100)\n",
        "\n",
        "cost = train(train_dataset, model, criterion, train_loader, optimizer, epochs=100)\n",
        "\n",
        "i = 0\n",
        "for c in cost:\n",
        "  i += 1\n",
        "  if i % 10 == 0:\n",
        "    print(c)"
      ],
      "metadata": {
        "colab": {
          "base_uri": "https://localhost:8080/"
        },
        "id": "bTLzsm3U2WEV",
        "outputId": "df0ab1ee-26f0-4bda-8ffa-628fa2f3d86f"
      },
      "execution_count": 12,
      "outputs": [
        {
          "output_type": "stream",
          "name": "stdout",
          "text": [
            "0.5898422598838806\n",
            "0.48144015669822693\n",
            "0.38984906673431396\n",
            "0.318233847618103\n",
            "0.26495039463043213\n",
            "0.22347141802310944\n",
            "0.1904567927122116\n",
            "0.16403792798519135\n",
            "0.14283877611160278\n",
            "0.1257227659225464\n"
          ]
        }
      ]
    },
    {
      "cell_type": "markdown",
      "source": [
        "same as above, but using nn.Sequential"
      ],
      "metadata": {
        "id": "Xev_vjJw4kBo"
      }
    },
    {
      "cell_type": "code",
      "source": [
        "model = torch.nn.Sequential(\n",
        "    torch.nn.Linear(1,6),\n",
        "    torch.nn.Sigmoid(),\n",
        "    torch.nn.Linear(6,1),\n",
        "    torch.nn.Sigmoid()\n",
        ")"
      ],
      "metadata": {
        "id": "IaLDekCF4Zy7"
      },
      "execution_count": 13,
      "outputs": []
    },
    {
      "cell_type": "markdown",
      "source": [
        "**Multidimensional input data**"
      ],
      "metadata": {
        "id": "AjsE_MIY5V-u"
      }
    },
    {
      "cell_type": "code",
      "source": [
        "class XOR_Data(Dataset):\n",
        "\n",
        "    # Constructor\n",
        "    def __init__(self, N_s=100):\n",
        "        self.x = torch.zeros((N_s, 2))\n",
        "        self.y = torch.zeros((N_s, 1))\n",
        "        for i in range(N_s // 4):\n",
        "            self.x[i, :] = torch.Tensor([0.0, 0.0])\n",
        "            self.y[i, 0] = torch.Tensor([0.0])\n",
        "\n",
        "            self.x[i + N_s // 4, :] = torch.Tensor([0.0, 1.0])\n",
        "            self.y[i + N_s // 4, 0] = torch.Tensor([1.0])\n",
        "\n",
        "            self.x[i + N_s // 2, :] = torch.Tensor([1.0, 0.0])\n",
        "            self.y[i + N_s // 2, 0] = torch.Tensor([1.0])\n",
        "\n",
        "            self.x[i + 3 * N_s // 4, :] = torch.Tensor([1.0, 1.0])\n",
        "            self.y[i + 3 * N_s // 4, 0] = torch.Tensor([0.0])\n",
        "\n",
        "            self.x = self.x + 0.01 * torch.randn((N_s, 2))\n",
        "        self.len = N_s\n",
        "\n",
        "    # Getter\n",
        "    def __getitem__(self, index):\n",
        "        return self.x[index],self.y[index]\n",
        "\n",
        "    # Get Length\n",
        "    def __len__(self):\n",
        "        return self.len"
      ],
      "metadata": {
        "id": "32fkfW6w5cla"
      },
      "execution_count": 14,
      "outputs": []
    },
    {
      "cell_type": "code",
      "source": [
        "# Calculate accuracy\n",
        "\n",
        "def accuracy(model, data_set):\n",
        "    return np.mean(data_set.y.view(-1).numpy() == (model(data_set.x)[:, 0] > 0.5).numpy())"
      ],
      "metadata": {
        "id": "eTUZt3y-7sJU"
      },
      "execution_count": 15,
      "outputs": []
    },
    {
      "cell_type": "code",
      "source": [
        "def train(dataset, model, criterion, train_loader, optimizer, epochs=100):\n",
        "  cost = []\n",
        "  acc = []\n",
        "  for epoch in range(epochs):\n",
        "    total = 0\n",
        "    for x,y in train_loader:\n",
        "      yhat = model(x)\n",
        "      loss = criterion(yhat, y)\n",
        "      optimizer.zero_grad()\n",
        "      loss.backward()\n",
        "      optimizer.step()\n",
        "      total = loss.item()\n",
        "    acc.append(accuracy(model, dataset))\n",
        "    cost.append(total)\n",
        "\n",
        "  return cost, acc"
      ],
      "metadata": {
        "id": "sVZwedK96lIU"
      },
      "execution_count": 16,
      "outputs": []
    },
    {
      "cell_type": "code",
      "source": [
        "model = NN(2,4,1)\n",
        "criterion = nn.BCELoss()\n",
        "optimizer = torch.optim.SGD(model.parameters(), lr=0.01)\n",
        "train_dataset = XOR_Data()\n",
        "train_loader = DataLoader(dataset=train_dataset, batch_size=1)\n",
        "\n",
        "cost, acc = train(train_dataset, model, criterion, train_loader, optimizer)"
      ],
      "metadata": {
        "id": "-d6r7HQn72NV"
      },
      "execution_count": 17,
      "outputs": []
    },
    {
      "cell_type": "code",
      "source": [
        "for i in range(len(cost)):\n",
        "  if i % 10 == 0:\n",
        "    print(f\"cost: {cost[i]} - accuracy: {acc[i]}\")"
      ],
      "metadata": {
        "colab": {
          "base_uri": "https://localhost:8080/"
        },
        "id": "_vQK9nLE8BFp",
        "outputId": "8b33d28d-a1a2-49ab-cc33-39a87ff6aede"
      },
      "execution_count": 18,
      "outputs": [
        {
          "output_type": "stream",
          "name": "stdout",
          "text": [
            "cost: 0.6628780364990234 - accuracy: 0.5\n",
            "cost: 0.7062904238700867 - accuracy: 0.5\n",
            "cost: 0.7067978382110596 - accuracy: 0.5\n",
            "cost: 0.7069502472877502 - accuracy: 0.5\n",
            "cost: 0.7073120474815369 - accuracy: 0.5\n",
            "cost: 0.7079108357429504 - accuracy: 0.5\n",
            "cost: 0.7087699770927429 - accuracy: 0.5\n",
            "cost: 0.7099165916442871 - accuracy: 0.5\n",
            "cost: 0.7113820314407349 - accuracy: 0.5\n",
            "cost: 0.7132012248039246 - accuracy: 0.5\n"
          ]
        }
      ]
    },
    {
      "cell_type": "markdown",
      "source": [
        "**Multi-Class NNs**"
      ],
      "metadata": {
        "id": "Zpd1lMrh_ZvK"
      }
    },
    {
      "cell_type": "code",
      "source": [
        "import torchvision.datasets as dsets\n",
        "import torchvision.transforms as transforms"
      ],
      "metadata": {
        "id": "l1KOaCsvC1RE"
      },
      "execution_count": 19,
      "outputs": []
    },
    {
      "cell_type": "code",
      "source": [
        "# for multi-class model the number of neurons in the outoput layer must correpond to the number of target classes\n",
        "class NN(nn.Module):\n",
        "  def __init__(self, D_in, H, D_out):\n",
        "    super(NN, self).__init__()\n",
        "    self.linear1 = nn.Linear(D_in, H)\n",
        "    self.linear2 = nn.Linear(H, D_out)\n",
        "\n",
        "  def forward(self, x):\n",
        "    x = sigmoid(self.linear1(x))\n",
        "    x = self.linear2(x) # drop the activation function in last layer\n",
        "    return x"
      ],
      "metadata": {
        "id": "QBhNP_TF_WSD"
      },
      "execution_count": 20,
      "outputs": []
    },
    {
      "cell_type": "code",
      "source": [
        "# same NN, but using nn.Sequential\n",
        "\n",
        "model = torch.nn.Sequential(\n",
        "    torch.nn.Linear(2,6),\n",
        "    torch.nn.Sigmoid(),\n",
        "    torch.nn.Linear(6,3),\n",
        ")"
      ],
      "metadata": {
        "id": "BLrEh5VVCMjm"
      },
      "execution_count": 21,
      "outputs": []
    },
    {
      "cell_type": "code",
      "source": [
        "train_dataset = dsets.MNIST(root='./data', train=True, download=True, transform=transforms.ToTensor())\n",
        "validation_dataset = dsets.MNIST(root='./data', train=False, download=True, transform=transforms.ToTensor())\n",
        "\n",
        "train_loader = DataLoader(dataset=train_dataset, batch_size=2000)\n",
        "validation_loader = DataLoader(dataset=validation_dataset, batch_size=5000)"
      ],
      "metadata": {
        "colab": {
          "base_uri": "https://localhost:8080/"
        },
        "id": "wy334MwOCoBq",
        "outputId": "6e9003d8-4aa5-4b9d-b4f6-3484b88cf434"
      },
      "execution_count": 22,
      "outputs": [
        {
          "output_type": "stream",
          "name": "stderr",
          "text": [
            "100%|██████████| 9.91M/9.91M [00:00<00:00, 16.4MB/s]\n",
            "100%|██████████| 28.9k/28.9k [00:00<00:00, 485kB/s]\n",
            "100%|██████████| 1.65M/1.65M [00:00<00:00, 4.42MB/s]\n",
            "100%|██████████| 4.54k/4.54k [00:00<00:00, 6.66MB/s]\n"
          ]
        }
      ]
    },
    {
      "cell_type": "code",
      "source": [
        "# training function\n",
        "\n",
        "def train(model, criterion, train_loader, validation_loader, optimizer, epochs=100):\n",
        "    i = 0\n",
        "    useful_stuff = {'training_loss': [],'validation_accuracy': []}\n",
        "    for epoch in range(epochs):\n",
        "        # first train on training data\n",
        "        for i, (x, y) in enumerate(train_loader):\n",
        "            optimizer.zero_grad()\n",
        "            z = model(x.view(-1, 28 * 28))\n",
        "            loss = criterion(z, y)\n",
        "            loss.backward()\n",
        "            optimizer.step()\n",
        "             #loss for every iteration\n",
        "            useful_stuff['training_loss'].append(loss.data.item())\n",
        "        correct = 0\n",
        "        # then evaluate using validation data\n",
        "        for x, y in validation_loader:\n",
        "            #validation\n",
        "            z = model(x.view(-1, 28 * 28))\n",
        "            _, label = torch.max(z, 1)\n",
        "            correct += (label == y).sum().item()\n",
        "        accuracy = 100 * (correct / len(validation_dataset))\n",
        "        useful_stuff['validation_accuracy'].append(accuracy)\n",
        "    return useful_stuff"
      ],
      "metadata": {
        "id": "67zqqyZADfxC"
      },
      "execution_count": 23,
      "outputs": []
    },
    {
      "cell_type": "code",
      "source": [
        "model = NN(28 * 28, 100, 10) # 10 classes, digits 0-9\n",
        "\n",
        "optimizer = torch.optim.SGD(model.parameters(), lr=0.01)\n",
        "criterion = nn.CrossEntropyLoss()\n",
        "\n",
        "train_results = train(model, criterion, train_loader, validation_loader, optimizer, epochs=30)"
      ],
      "metadata": {
        "id": "Bjut4RyaD01q"
      },
      "execution_count": 24,
      "outputs": []
    },
    {
      "cell_type": "code",
      "source": [
        "print(\"training loss:\", train_results['training_loss'][0])\n",
        "print(\"validation accuracy:\", train_results['validation_accuracy'][0])\n",
        "\n",
        "print(\"\\ntraining loss:\", train_results['training_loss'][-1])\n",
        "print(\"validation accuracy:\", train_results['validation_accuracy'][-1])"
      ],
      "metadata": {
        "colab": {
          "base_uri": "https://localhost:8080/"
        },
        "id": "2Q1pB7b3GzUj",
        "outputId": "85d3a15a-4c7e-4c6a-9561-97f370f3c961"
      },
      "execution_count": 25,
      "outputs": [
        {
          "output_type": "stream",
          "name": "stdout",
          "text": [
            "training loss: 2.3342654705047607\n",
            "validation accuracy: 10.22\n",
            "\n",
            "training loss: 1.9640843868255615\n",
            "validation accuracy: 65.3\n"
          ]
        }
      ]
    },
    {
      "cell_type": "markdown",
      "source": [
        "**Backpropagation and Activation Functions**\n",
        "<br><br>\n",
        "Backpropagation: compute the gradient for updating the weights\n",
        "<br>\n",
        "Activation Functions: add non linearity to the model\n",
        "<br>\n",
        "* **sigmoid**: 0,1 interval, suffers from vanishing gradient problem\n",
        "* **tanh**: similar to sigmoid, but with -1,1 interval\n",
        "* **relu**: y = max(0,x), helps against vanishing gradient problem\n",
        "\n"
      ],
      "metadata": {
        "id": "4bsidAyINt5R"
      }
    },
    {
      "cell_type": "code",
      "source": [
        "# NN w/ sigmoid activation function\n",
        "\n",
        "class Net_Sig(nn.Module):\n",
        "  def __init__(self, D_in, H, D_out):\n",
        "    super(Net_Tanh, self).__init__()\n",
        "    self.linear1 = nn.Linear(D_in, H)\n",
        "    self.linear2 = nn.Linear(H, D_out)\n",
        "\n",
        "  def forward(self, x):\n",
        "    x = torch.sigmoid(self.linear1(x))\n",
        "    x = self.linear2(x)\n",
        "    return x"
      ],
      "metadata": {
        "id": "vibiqoO_WaFN"
      },
      "execution_count": 26,
      "outputs": []
    },
    {
      "cell_type": "code",
      "source": [
        "# NN w/ tanh activation function\n",
        "\n",
        "class Net_Tanh(nn.Module):\n",
        "  def __init__(self, D_in, H, D_out):\n",
        "    super(Net_Tanh, self).__init__()\n",
        "    self.linear1 = nn.Linear(D_in, H)\n",
        "    self.linear2 = nn.Linear(H, D_out)\n",
        "\n",
        "  def forward(self, x):\n",
        "    x = torch.tanh(self.linear1(x))\n",
        "    x = self.linear2(x)\n",
        "    return x"
      ],
      "metadata": {
        "id": "Pd0eSRgWNrBK"
      },
      "execution_count": 27,
      "outputs": []
    },
    {
      "cell_type": "code",
      "source": [
        "# NN w/ relu activation function\n",
        "\n",
        "class Net_Relu(nn.Module):\n",
        "  def __init__(self, D_in, H, D_out):\n",
        "    super(Net_Tanh, self).__init__()\n",
        "    self.linear1 = nn.Linear(D_in, H)\n",
        "    self.linear2 = nn.Linear(H, D_out)\n",
        "\n",
        "  def forward(self, x):\n",
        "    x = torch.relu(self.linear1(x))\n",
        "    x = self.linear2(x)\n",
        "    return x"
      ],
      "metadata": {
        "id": "HKmJd83_WgH5"
      },
      "execution_count": 28,
      "outputs": []
    },
    {
      "cell_type": "code",
      "source": [
        "# NN w/ tanh activation function using nn.Sequential\n",
        "model_tanh = nn.Sequential(\n",
        "    nn.Linear(28 * 28, 100),\n",
        "    nn.Tanh(),\n",
        "    nn.Linear(100, 10)\n",
        ")\n",
        "\n",
        "# NN w/ relu activation function using nn.Sequential\n",
        "model_relu = nn.Sequential(\n",
        "    nn.Linear(28 * 28, 100),\n",
        "    nn.ReLU(),\n",
        "    nn.Linear(100, 10)\n",
        ")"
      ],
      "metadata": {
        "id": "aHeCBrCtWygb"
      },
      "execution_count": 29,
      "outputs": []
    },
    {
      "cell_type": "markdown",
      "source": [
        "# Deep NNs"
      ],
      "metadata": {
        "id": "_mTHb1cKWSr9"
      }
    },
    {
      "cell_type": "code",
      "source": [
        "# deep NN w/ two hidden layers\n",
        "# D_in -> dimension input features\n",
        "# H1, H2 -> number of neurons in first and second hidden layer\n",
        "# D_out -> dimension of output (equal to the numebr of classes, one for regression)\n",
        "\n",
        "class Dnn(nn.Module):\n",
        "  def __init__(self, D_in, H1, H2, D_out):\n",
        "    super(Dnn, self).__init__()\n",
        "    self.linear1 = nn.Linear(D_in, H1)\n",
        "    self.linear2 = nn.Linear(H1, H2)\n",
        "    self.linear3 = nn.Linear(H2, D_out)\n",
        "\n",
        "  def forward(self, x):\n",
        "    x = torch.sigmoid(self.linear1(x))\n",
        "    x = torch.sigmoid(self.linear2(x))\n",
        "    x = self.linear3(x)\n",
        "    return x"
      ],
      "metadata": {
        "id": "poIGorLpWU2v"
      },
      "execution_count": 30,
      "outputs": []
    },
    {
      "cell_type": "code",
      "source": [
        "model = Dnn(3,3,4,3)\n",
        "print(model.parameters)"
      ],
      "metadata": {
        "colab": {
          "base_uri": "https://localhost:8080/"
        },
        "id": "rvXs4iKVYt5T",
        "outputId": "4c86bfa5-1781-454f-d363-f701576acb76"
      },
      "execution_count": 31,
      "outputs": [
        {
          "output_type": "stream",
          "name": "stdout",
          "text": [
            "<bound method Module.parameters of Dnn(\n",
            "  (linear1): Linear(in_features=3, out_features=3, bias=True)\n",
            "  (linear2): Linear(in_features=3, out_features=4, bias=True)\n",
            "  (linear3): Linear(in_features=4, out_features=3, bias=True)\n",
            ")>\n"
          ]
        }
      ]
    },
    {
      "cell_type": "code",
      "source": [
        "model = nn.Sequential(\n",
        "    nn.Linear(3,3),\n",
        "    nn.Sigmoid(),\n",
        "    nn.Linear(3,4),\n",
        "    nn.Sigmoid(),\n",
        "    nn.Linear(4,3)\n",
        ")\n",
        "\n",
        "print(model.parameters)"
      ],
      "metadata": {
        "colab": {
          "base_uri": "https://localhost:8080/"
        },
        "id": "7c1Z7wgXZLa2",
        "outputId": "e6a530bb-2268-46e3-ee43-3cc978f53dd7"
      },
      "execution_count": 32,
      "outputs": [
        {
          "output_type": "stream",
          "name": "stdout",
          "text": [
            "<bound method Module.parameters of Sequential(\n",
            "  (0): Linear(in_features=3, out_features=3, bias=True)\n",
            "  (1): Sigmoid()\n",
            "  (2): Linear(in_features=3, out_features=4, bias=True)\n",
            "  (3): Sigmoid()\n",
            "  (4): Linear(in_features=4, out_features=3, bias=True)\n",
            ")>\n"
          ]
        }
      ]
    },
    {
      "cell_type": "markdown",
      "source": [
        "Build a DNN using **nn.ModuleList()**"
      ],
      "metadata": {
        "id": "y_N9fJZhgZkQ"
      }
    },
    {
      "cell_type": "code",
      "source": [
        "class Dnn(nn.Module):\n",
        "  def __init__(self, Layers):\n",
        "    super(Dnn, self).__init__()\n",
        "    self.hidden = nn.ModuleList()\n",
        "    # it's like doing zip([2,3,4], [3,4,3])\n",
        "    for input_size, output_size in zip(Layers, Layers[1:]):\n",
        "      # couples: (2,3) - (3,4) - (4,3)\n",
        "      self.hidden.append(nn.Linear(input_size, output_size))\n",
        "\n",
        "  def forward(self, activation):\n",
        "    L = len(self.hidden)\n",
        "    for(l, linear_transform) in zip(range(L), self.hidden):\n",
        "      if l < L - 1:\n",
        "        activation = torch.relu(linear_transform(activation))\n",
        "      else:\n",
        "        activation = linear_transform(activation)\n",
        "    return activation\n",
        "\n",
        "Layers = [2,3,4,3]\n",
        "model = Dnn(Layers)\n",
        "\n",
        "print(model.parameters)"
      ],
      "metadata": {
        "colab": {
          "base_uri": "https://localhost:8080/"
        },
        "id": "eGhNfRA3gdju",
        "outputId": "567dc9eb-01fd-418c-a9a8-193b5a40fe7e"
      },
      "execution_count": 33,
      "outputs": [
        {
          "output_type": "stream",
          "name": "stdout",
          "text": [
            "<bound method Module.parameters of Dnn(\n",
            "  (hidden): ModuleList(\n",
            "    (0): Linear(in_features=2, out_features=3, bias=True)\n",
            "    (1): Linear(in_features=3, out_features=4, bias=True)\n",
            "    (2): Linear(in_features=4, out_features=3, bias=True)\n",
            "  )\n",
            ")>\n"
          ]
        }
      ]
    },
    {
      "cell_type": "markdown",
      "source": [
        "Dropout regularisation to prevent overfitting"
      ],
      "metadata": {
        "id": "47WZYMjg1RsF"
      }
    },
    {
      "cell_type": "code",
      "source": [
        "class Dnn(nn.Module):\n",
        "  def __init__(self, in_size, n_hidden, out_size, p=0):\n",
        "    super(Dnn, self).__init__()\n",
        "    # create a dropout object passing the probability p of turning off a neuron\n",
        "    self.drop = nn.Dropout(p=p)\n",
        "    self.linear1 = nn.Linear(in_size, n_hidden)\n",
        "    self.linear2 = nn.Linear(n_hidden, n_hidden)\n",
        "    self.linear3 = nn.Linear(n_hidden, out_size)\n",
        "\n",
        "  def forward(self, x):\n",
        "    x = torch.relu(self.linear1(x))\n",
        "    x = self.drop(x)\n",
        "    x = torch.relu(self.linear2(x))\n",
        "    x = self.drop(x)\n",
        "    x = self.linear3(x)\n",
        "    return x\n",
        "\n",
        "model_drop = Dnn(2,300,2,0.5)\n",
        "\n",
        "# specify that we are in the training phase -> dropout enabled\n",
        "model_drop.train()\n",
        "print(model_drop.parameters)\n",
        "\n",
        "# specify that we are in the evaluation phase -> dropout disabled\n",
        "model_drop.eval()\n",
        "print(model_drop.parameters)"
      ],
      "metadata": {
        "colab": {
          "base_uri": "https://localhost:8080/"
        },
        "id": "4gF_AQcv1Vej",
        "outputId": "dde89350-c803-4502-bf78-a743bb8038c5"
      },
      "execution_count": 34,
      "outputs": [
        {
          "output_type": "stream",
          "name": "stdout",
          "text": [
            "<bound method Module.parameters of Dnn(\n",
            "  (drop): Dropout(p=0.5, inplace=False)\n",
            "  (linear1): Linear(in_features=2, out_features=300, bias=True)\n",
            "  (linear2): Linear(in_features=300, out_features=300, bias=True)\n",
            "  (linear3): Linear(in_features=300, out_features=2, bias=True)\n",
            ")>\n",
            "<bound method Module.parameters of Dnn(\n",
            "  (drop): Dropout(p=0.5, inplace=False)\n",
            "  (linear1): Linear(in_features=2, out_features=300, bias=True)\n",
            "  (linear2): Linear(in_features=300, out_features=300, bias=True)\n",
            "  (linear3): Linear(in_features=300, out_features=2, bias=True)\n",
            ")>\n"
          ]
        }
      ]
    },
    {
      "cell_type": "markdown",
      "source": [
        "To avoid getting stuck in a local minimum, it's possible to add a momentum parameter to the optimizer as in the example below"
      ],
      "metadata": {
        "id": "34igj7238Hv1"
      }
    },
    {
      "cell_type": "code",
      "source": [
        "optimizer = torch.optim.SGD(model.parameters(), lr=0.1, momentum=0.4)"
      ],
      "metadata": {
        "id": "iFHemkG_8ROV"
      },
      "execution_count": 35,
      "outputs": []
    },
    {
      "cell_type": "markdown",
      "source": [
        "# CNNs"
      ],
      "metadata": {
        "id": "Z47e8t1snzEq"
      }
    },
    {
      "cell_type": "code",
      "source": [
        "# conv w/ 1 inout channel, 1 output channel, 3x3 kernel\n",
        "conv = nn.Conv2d(in_channels=1, out_channels=1, kernel_size=3)\n",
        "\n",
        "# batch_size (num of images), num of channles, num of rows, num of cols\n",
        "# 1 image, gray scale, 5x5 image\n",
        "image = torch.zeros(1,1,5,5)\n",
        "# set to 1 first image, first channel, all rows, col of index 2\n",
        "image[0,0,:,2]=1\n",
        "image"
      ],
      "metadata": {
        "id": "PNaBY4lIn3W5",
        "outputId": "8aad7699-e97a-4a50-c29d-316ffcc38b73",
        "colab": {
          "base_uri": "https://localhost:8080/"
        }
      },
      "execution_count": 37,
      "outputs": [
        {
          "output_type": "execute_result",
          "data": {
            "text/plain": [
              "tensor([[[[0., 0., 1., 0., 0.],\n",
              "          [0., 0., 1., 0., 0.],\n",
              "          [0., 0., 1., 0., 0.],\n",
              "          [0., 0., 1., 0., 0.],\n",
              "          [0., 0., 1., 0., 0.]]]])"
            ]
          },
          "metadata": {},
          "execution_count": 37
        }
      ]
    },
    {
      "cell_type": "code",
      "source": [
        "# we can also specify stride and padding\n",
        "conv = nn.Conv2d(in_channels=1, out_channels=1, kernel_size=3, stride=2, padding=1)"
      ],
      "metadata": {
        "id": "-3c7GtkuwyEF"
      },
      "execution_count": 39,
      "outputs": []
    }
  ]
}