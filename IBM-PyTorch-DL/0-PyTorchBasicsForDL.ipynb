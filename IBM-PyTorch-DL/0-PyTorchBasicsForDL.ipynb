{
  "nbformat": 4,
  "nbformat_minor": 0,
  "metadata": {
    "colab": {
      "provenance": [],
      "authorship_tag": "ABX9TyMvPnkILy5G57Hu5ApRTJDE",
      "include_colab_link": true
    },
    "kernelspec": {
      "name": "python3",
      "display_name": "Python 3"
    },
    "language_info": {
      "name": "python"
    }
  },
  "cells": [
    {
      "cell_type": "markdown",
      "metadata": {
        "id": "view-in-github",
        "colab_type": "text"
      },
      "source": [
        "<a href=\"https://colab.research.google.com/github/Russo-Federico/DeepLearningFundamentals/blob/main/IBM-PyTorch-DL/0-PyTorchBasicsForDL.ipynb\" target=\"_parent\"><img src=\"https://colab.research.google.com/assets/colab-badge.svg\" alt=\"Open In Colab\"/></a>"
      ]
    },
    {
      "cell_type": "markdown",
      "source": [
        "# Build a Neural Network"
      ],
      "metadata": {
        "id": "WgdAWejKnCib"
      }
    },
    {
      "cell_type": "code",
      "execution_count": 1,
      "metadata": {
        "id": "mNMjR5cEm_fb"
      },
      "outputs": [],
      "source": [
        "import numpy as np\n",
        "import torch\n",
        "import torch.nn as nn\n",
        "from torch import sigmoid"
      ]
    },
    {
      "cell_type": "markdown",
      "source": [
        "Create a NN class"
      ],
      "metadata": {
        "id": "BQb4I3zin_ol"
      }
    },
    {
      "cell_type": "code",
      "source": [
        "class NN(nn.Module):\n",
        "  # D_in - input size of the network\n",
        "  # H - number of neurons\n",
        "  # D_out - output size of the netowrk\n",
        "  def __init__(self, D_in, H, D_out):\n",
        "    super(NN, self).__init__()\n",
        "    self.linear1 = nn.Linear(D_in, H) # input layer\n",
        "    self.linear2 = nn.Linear(H, D_out) # output layer\n",
        "\n",
        "  def forward(self, x):\n",
        "    x = sigmoid(self.linear1(x))\n",
        "    x = sigmoid(self.linear2(x))\n",
        "    return x"
      ],
      "metadata": {
        "id": "yIYwAST0n_E5"
      },
      "execution_count": 2,
      "outputs": []
    },
    {
      "cell_type": "code",
      "source": [
        "x = torch.tensor([1.0])\n",
        "\n",
        "model = NN(1,2,1)\n",
        "yhat = model(x)\n",
        "print(\"yhat:\", yhat)"
      ],
      "metadata": {
        "colab": {
          "base_uri": "https://localhost:8080/"
        },
        "id": "5yBHxsa7pGYY",
        "outputId": "ce60367d-5564-43f7-c316-cfc6cc281152"
      },
      "execution_count": 3,
      "outputs": [
        {
          "output_type": "stream",
          "name": "stdout",
          "text": [
            "yhat: tensor([0.6209], grad_fn=<SigmoidBackward0>)\n"
          ]
        }
      ]
    },
    {
      "cell_type": "code",
      "source": [
        "model.state_dict()"
      ],
      "metadata": {
        "colab": {
          "base_uri": "https://localhost:8080/"
        },
        "id": "Wcs4ixVXp-uY",
        "outputId": "50ca409e-32a9-47d7-f3e0-3d4a3dbdac00"
      },
      "execution_count": 4,
      "outputs": [
        {
          "output_type": "execute_result",
          "data": {
            "text/plain": [
              "OrderedDict([('linear1.weight',\n",
              "              tensor([[0.3446],\n",
              "                      [0.0838]])),\n",
              "             ('linear1.bias', tensor([-0.4776, -0.0582])),\n",
              "             ('linear2.weight', tensor([[ 0.0487, -0.2857]])),\n",
              "             ('linear2.bias', tensor([0.6154]))])"
            ]
          },
          "metadata": {},
          "execution_count": 4
        }
      ]
    },
    {
      "cell_type": "markdown",
      "source": [
        "Build a network using the Sequential module"
      ],
      "metadata": {
        "id": "7ozWWN2nqQbK"
      }
    },
    {
      "cell_type": "code",
      "source": [
        "seq_model = torch.nn.Sequential(\n",
        "    torch.nn.Linear(1,2),\n",
        "    torch.nn.Sigmoid(),\n",
        "    torch.nn.Linear(2,1),\n",
        "    torch.nn.Sigmoid()\n",
        ")\n",
        "\n",
        "yhat = seq_model(x)\n",
        "print(\"yhat:\", yhat)"
      ],
      "metadata": {
        "colab": {
          "base_uri": "https://localhost:8080/"
        },
        "id": "rq2XcT8vqXXb",
        "outputId": "e6bf30a9-fb49-4147-ae06-995b039313c3"
      },
      "execution_count": 5,
      "outputs": [
        {
          "output_type": "stream",
          "name": "stdout",
          "text": [
            "yhat: tensor([0.6329], grad_fn=<SigmoidBackward0>)\n"
          ]
        }
      ]
    },
    {
      "cell_type": "markdown",
      "source": [
        "Train a model"
      ],
      "metadata": {
        "id": "EkpnylJyqk3v"
      }
    },
    {
      "cell_type": "code",
      "source": [
        "def train(Y, X, model, optimizer, criterion, epochs=100):\n",
        "  cost = []\n",
        "  total = 0\n",
        "  for epoch in range(epochs):\n",
        "    total = 0\n",
        "    for x, y in zip(X, Y):\n",
        "      yhat = model(x)\n",
        "      loss = criterion(yhat, y)\n",
        "      optimizer.zero_grad()\n",
        "      loss.backward()\n",
        "      optimizer.step()\n",
        "      total += loss.item()\n",
        "    cost.append(total)\n",
        "  return cost"
      ],
      "metadata": {
        "id": "sERTHvWHqmt-"
      },
      "execution_count": 6,
      "outputs": []
    },
    {
      "cell_type": "code",
      "source": [
        "model = NN(1,2,1)\n",
        "criterion = nn.BCELoss()\n",
        "optimizer = torch.optim.SGD(model.parameters(), lr=0.01)\n",
        "\n",
        "X = torch.arange(-20,20,1).view(-1,1).type(torch.FloatTensor)\n",
        "Y = torch.zeros(X.shape[0],1)\n",
        "Y[(X[:,0] > -4) & (X[:,0] < 4)] = 1.0\n",
        "\n",
        "cost = train(Y, X, model, optimizer, criterion)\n",
        "\n",
        "print(\"cost: \", cost)"
      ],
      "metadata": {
        "colab": {
          "base_uri": "https://localhost:8080/"
        },
        "id": "eBR8W_KDuNVi",
        "outputId": "d0aa1c51-dc66-4e4a-83d5-443186031e3a"
      },
      "execution_count": 7,
      "outputs": [
        {
          "output_type": "stream",
          "name": "stdout",
          "text": [
            "cost:  [23.561915576457977, 22.429751574993134, 21.564449042081833, 20.898388355970383, 20.38161814212799, 19.977368354797363, 19.658517077565193, 19.40496288239956, 19.201710298657417, 19.037483602762222, 18.903740420937538, 18.793961003422737, 18.703127428889275, 18.62735678255558, 18.5636186003685, 18.509534522891045, 18.46322701871395, 18.423209965229034, 18.388291880488396, 18.357522055506706, 18.330134481191635, 18.305508837103844, 18.283143222332, 18.262627974152565, 18.243629425764084, 18.22587351500988, 18.209133878350258, 18.193226024508476, 18.17799712717533, 18.16331870853901, 18.149085268378258, 18.13520772755146, 18.121614322066307, 18.108241125941277, 18.09503836929798, 18.081960201263428, 18.068970501422882, 18.056037470698357, 18.04313513636589, 18.030239060521126, 18.01733075082302, 18.004393443465233, 17.991411939263344, 17.97837184369564, 17.965264052152634, 17.952077731490135, 17.93880522251129, 17.92543713748455, 17.911967128515244, 17.898389294743538, 17.88469724357128, 17.87088569998741, 17.856950044631958, 17.842886582016945, 17.828688696026802, 17.814355313777924, 17.79988081753254, 17.78526321053505, 17.770497143268585, 17.75558203458786, 17.740511998534203, 17.725285306572914, 17.709898993372917, 17.694351255893707, 17.678638488054276, 17.662758246064186, 17.646708086133003, 17.630484730005264, 17.614086836576462, 17.597510784864426, 17.580755189061165, 17.56381794810295, 17.546695828437805, 17.52938647568226, 17.511889219284058, 17.494199946522713, 17.47631871700287, 17.4582426995039, 17.43996913731098, 17.421495735645294, 17.402821987867355, 17.383945032954216, 17.364863768219948, 17.345575004816055, 17.326078087091446, 17.306370824575424, 17.286451503634453, 17.266319781541824, 17.245970472693443, 17.22540456056595, 17.20462040603161, 17.183616057038307, 17.162390246987343, 17.14094088971615, 17.119268119335175, 17.097367972135544, 17.07524174451828, 17.052886605262756, 17.030301868915558, 17.00748696923256]\n"
          ]
        }
      ]
    },
    {
      "cell_type": "markdown",
      "source": [
        "**More hidden neurons**"
      ],
      "metadata": {
        "id": "kRJ906Poz2RC"
      }
    },
    {
      "cell_type": "code",
      "source": [
        "from torch.utils.data import Dataset, DataLoader"
      ],
      "metadata": {
        "id": "yOn2C2wZz4Gf"
      },
      "execution_count": 8,
      "outputs": []
    },
    {
      "cell_type": "code",
      "source": [
        "class Data(Dataset):\n",
        "  def __init__(self):\n",
        "    self.x = torch.linspace(-20,20,100).view(-1,1)\n",
        "    self.y = torch.zeros(self.x.shape[0])\n",
        "    self.y[(self.x[:,0] > -10 & (self.x[:,0] < -5))] = 1\n",
        "    self.y[(self.x[:,0] > 5 & (self.x[:,0] < 10))] = 1\n",
        "    self.y = self.y.view(-1,1)\n",
        "    self.len = self.x.shape[0]\n",
        "\n",
        "  def __getitem__(self, index):\n",
        "    return self.x[index], self.y[index]\n",
        "\n",
        "  def __len__(self):\n",
        "    return self.len"
      ],
      "metadata": {
        "id": "P3jPaFFH0WYT"
      },
      "execution_count": 9,
      "outputs": []
    },
    {
      "cell_type": "code",
      "source": [
        "class NN(nn.Module):\n",
        "  def __init__(self, D_in, H, D_out):\n",
        "    super(NN, self).__init__()\n",
        "    self.linear1 = nn.Linear(D_in, H)\n",
        "    self.linear2 = nn.Linear(H, D_out)\n",
        "\n",
        "  def forward(self, x):\n",
        "    x = sigmoid(self.linear1(x))\n",
        "    x = sigmoid(self.linear2(x))\n",
        "    return x"
      ],
      "metadata": {
        "id": "vWHHhgtB1OSq"
      },
      "execution_count": 10,
      "outputs": []
    },
    {
      "cell_type": "code",
      "source": [
        "def train(data_set, model, criterion, train_loader, optimizer, epochs=5, plot_number=10):\n",
        "  cost = []\n",
        "  for epoch in range(epochs):\n",
        "    total = 0\n",
        "    for x,y in train_loader:\n",
        "      yhat = model(x)\n",
        "      loss = criterion(yhat, y)\n",
        "      optimizer.zero_grad()\n",
        "      loss.backward()\n",
        "      optimizer.step()\n",
        "      total += loss.item()\n",
        "    cost.append(total)\n",
        "  return cost"
      ],
      "metadata": {
        "id": "nVpI7zfR1pM_"
      },
      "execution_count": 11,
      "outputs": []
    },
    {
      "cell_type": "code",
      "source": [
        "model = NN(1,6,1)\n",
        "criterion = nn.BCELoss()\n",
        "optimizer = torch.optim.Adam(model.parameters(), lr=0.01)\n",
        "train_dataset = Data()\n",
        "train_loader = DataLoader(dataset=train_dataset, batch_size=100)\n",
        "\n",
        "cost = train(train_dataset, model, criterion, train_loader, optimizer, epochs=100)\n",
        "\n",
        "i = 0\n",
        "for c in cost:\n",
        "  i += 1\n",
        "  if i % 10 == 0:\n",
        "    print(c)"
      ],
      "metadata": {
        "colab": {
          "base_uri": "https://localhost:8080/"
        },
        "id": "bTLzsm3U2WEV",
        "outputId": "4d2ae95c-52d8-4ecf-9a41-dabc66b50521"
      },
      "execution_count": 12,
      "outputs": [
        {
          "output_type": "stream",
          "name": "stdout",
          "text": [
            "0.5412892699241638\n",
            "0.4258846044540405\n",
            "0.3392331302165985\n",
            "0.275127649307251\n",
            "0.2276940941810608\n",
            "0.19183841347694397\n",
            "0.16399738192558289\n",
            "0.14205458760261536\n",
            "0.12455186992883682\n",
            "0.11040239036083221\n"
          ]
        }
      ]
    },
    {
      "cell_type": "markdown",
      "source": [
        "same as above, but using nn.Sequential"
      ],
      "metadata": {
        "id": "Xev_vjJw4kBo"
      }
    },
    {
      "cell_type": "code",
      "source": [
        "model = torch.nn.Sequential(\n",
        "    torch.nn.Linear(1,6),\n",
        "    torch.nn.Sigmoid(),\n",
        "    torch.nn.Linear(6,1),\n",
        "    torch.nn.Sigmoid()\n",
        ")"
      ],
      "metadata": {
        "id": "IaLDekCF4Zy7"
      },
      "execution_count": 13,
      "outputs": []
    },
    {
      "cell_type": "markdown",
      "source": [
        "**Multidimensional input data**"
      ],
      "metadata": {
        "id": "AjsE_MIY5V-u"
      }
    },
    {
      "cell_type": "code",
      "source": [
        "class XOR_Data(Dataset):\n",
        "\n",
        "    # Constructor\n",
        "    def __init__(self, N_s=100):\n",
        "        self.x = torch.zeros((N_s, 2))\n",
        "        self.y = torch.zeros((N_s, 1))\n",
        "        for i in range(N_s // 4):\n",
        "            self.x[i, :] = torch.Tensor([0.0, 0.0])\n",
        "            self.y[i, 0] = torch.Tensor([0.0])\n",
        "\n",
        "            self.x[i + N_s // 4, :] = torch.Tensor([0.0, 1.0])\n",
        "            self.y[i + N_s // 4, 0] = torch.Tensor([1.0])\n",
        "\n",
        "            self.x[i + N_s // 2, :] = torch.Tensor([1.0, 0.0])\n",
        "            self.y[i + N_s // 2, 0] = torch.Tensor([1.0])\n",
        "\n",
        "            self.x[i + 3 * N_s // 4, :] = torch.Tensor([1.0, 1.0])\n",
        "            self.y[i + 3 * N_s // 4, 0] = torch.Tensor([0.0])\n",
        "\n",
        "            self.x = self.x + 0.01 * torch.randn((N_s, 2))\n",
        "        self.len = N_s\n",
        "\n",
        "    # Getter\n",
        "    def __getitem__(self, index):\n",
        "        return self.x[index],self.y[index]\n",
        "\n",
        "    # Get Length\n",
        "    def __len__(self):\n",
        "        return self.len"
      ],
      "metadata": {
        "id": "32fkfW6w5cla"
      },
      "execution_count": 14,
      "outputs": []
    },
    {
      "cell_type": "code",
      "source": [
        "# Calculate accuracy\n",
        "\n",
        "def accuracy(model, data_set):\n",
        "    return np.mean(data_set.y.view(-1).numpy() == (model(data_set.x)[:, 0] > 0.5).numpy())"
      ],
      "metadata": {
        "id": "eTUZt3y-7sJU"
      },
      "execution_count": 15,
      "outputs": []
    },
    {
      "cell_type": "code",
      "source": [
        "def train(dataset, model, criterion, train_loader, optimizer, epochs=100):\n",
        "  cost = []\n",
        "  acc = []\n",
        "  for epoch in range(epochs):\n",
        "    total = 0\n",
        "    for x,y in train_loader:\n",
        "      yhat = model(x)\n",
        "      loss = criterion(yhat, y)\n",
        "      optimizer.zero_grad()\n",
        "      loss.backward()\n",
        "      optimizer.step()\n",
        "      total = loss.item()\n",
        "    acc.append(accuracy(model, dataset))\n",
        "    cost.append(total)\n",
        "\n",
        "  return cost, acc"
      ],
      "metadata": {
        "id": "sVZwedK96lIU"
      },
      "execution_count": 16,
      "outputs": []
    },
    {
      "cell_type": "code",
      "source": [
        "model = NN(2,4,1)\n",
        "criterion = nn.BCELoss()\n",
        "optimizer = torch.optim.SGD(model.parameters(), lr=0.01)\n",
        "train_dataset = XOR_Data()\n",
        "train_loader = DataLoader(dataset=train_dataset, batch_size=1)\n",
        "\n",
        "cost, acc = train(train_dataset, model, criterion, train_loader, optimizer)"
      ],
      "metadata": {
        "id": "-d6r7HQn72NV"
      },
      "execution_count": 17,
      "outputs": []
    },
    {
      "cell_type": "code",
      "source": [
        "for i in range(len(cost)):\n",
        "  if i % 10 == 0:\n",
        "    print(f\"cost: {cost[i]} - accuracy: {acc[i]}\")"
      ],
      "metadata": {
        "colab": {
          "base_uri": "https://localhost:8080/"
        },
        "id": "_vQK9nLE8BFp",
        "outputId": "d63efdca-b4e0-4ff0-e2d4-f2e757fd2f39"
      },
      "execution_count": 18,
      "outputs": [
        {
          "output_type": "stream",
          "name": "stdout",
          "text": [
            "cost: 0.8898568153381348 - accuracy: 0.5\n",
            "cost: 0.6769763231277466 - accuracy: 0.5\n",
            "cost: 0.6747108697891235 - accuracy: 0.5\n",
            "cost: 0.673123300075531 - accuracy: 0.5\n",
            "cost: 0.6713958382606506 - accuracy: 0.5\n",
            "cost: 0.669532835483551 - accuracy: 0.5\n",
            "cost: 0.6675400733947754 - accuracy: 0.5\n",
            "cost: 0.6654186844825745 - accuracy: 0.5\n",
            "cost: 0.6631607413291931 - accuracy: 0.5\n",
            "cost: 0.6607485413551331 - accuracy: 0.5\n"
          ]
        }
      ]
    },
    {
      "cell_type": "markdown",
      "source": [
        "**Multi-Class NNs**"
      ],
      "metadata": {
        "id": "Zpd1lMrh_ZvK"
      }
    },
    {
      "cell_type": "code",
      "source": [
        "import torchvision.datasets as dsets\n",
        "import torchvision.transforms as transforms"
      ],
      "metadata": {
        "id": "l1KOaCsvC1RE"
      },
      "execution_count": 19,
      "outputs": []
    },
    {
      "cell_type": "code",
      "source": [
        "# for multi-class model the number of neurons in the outoput layer must correpond to the number of target classes\n",
        "class NN(nn.Module):\n",
        "  def __init__(self, D_in, H, D_out):\n",
        "    super(NN, self).__init__()\n",
        "    self.linear1 = nn.Linear(D_in, H)\n",
        "    self.linear2 = nn.Linear(H, D_out)\n",
        "\n",
        "  def forward(self, x):\n",
        "    x = sigmoid(self.linear1(x))\n",
        "    x = self.linear2(x) # drop the activation function in last layer\n",
        "    return x"
      ],
      "metadata": {
        "id": "QBhNP_TF_WSD"
      },
      "execution_count": 20,
      "outputs": []
    },
    {
      "cell_type": "code",
      "source": [
        "# same NN, but using nn.Sequential\n",
        "\n",
        "model = torch.nn.Sequential(\n",
        "    torch.nn.Linear(2,6),\n",
        "    torch.nn.Sigmoid(),\n",
        "    torch.nn.Linear(6,3),\n",
        ")"
      ],
      "metadata": {
        "id": "BLrEh5VVCMjm"
      },
      "execution_count": 21,
      "outputs": []
    },
    {
      "cell_type": "code",
      "source": [
        "train_dataset = dsets.MNIST(root='./data', train=True, download=True, transform=transforms.ToTensor())\n",
        "validation_dataset = dsets.MNIST(root='./data', train=False, download=True, transform=transforms.ToTensor())\n",
        "\n",
        "train_loader = DataLoader(dataset=train_dataset, batch_size=2000)\n",
        "validation_loader = DataLoader(dataset=validation_dataset, batch_size=5000)"
      ],
      "metadata": {
        "colab": {
          "base_uri": "https://localhost:8080/"
        },
        "id": "wy334MwOCoBq",
        "outputId": "c116748c-5032-42b1-f3b1-7535eea23d2a"
      },
      "execution_count": 22,
      "outputs": [
        {
          "output_type": "stream",
          "name": "stderr",
          "text": [
            "100%|██████████| 9.91M/9.91M [00:00<00:00, 20.3MB/s]\n",
            "100%|██████████| 28.9k/28.9k [00:00<00:00, 607kB/s]\n",
            "100%|██████████| 1.65M/1.65M [00:00<00:00, 5.64MB/s]\n",
            "100%|██████████| 4.54k/4.54k [00:00<00:00, 5.09MB/s]\n"
          ]
        }
      ]
    },
    {
      "cell_type": "code",
      "source": [
        "# training function\n",
        "\n",
        "def train(model, criterion, train_loader, validation_loader, optimizer, epochs=100):\n",
        "    i = 0\n",
        "    useful_stuff = {'training_loss': [],'validation_accuracy': []}\n",
        "    for epoch in range(epochs):\n",
        "        # first train on training data\n",
        "        for i, (x, y) in enumerate(train_loader):\n",
        "            optimizer.zero_grad()\n",
        "            z = model(x.view(-1, 28 * 28))\n",
        "            loss = criterion(z, y)\n",
        "            loss.backward()\n",
        "            optimizer.step()\n",
        "             #loss for every iteration\n",
        "            useful_stuff['training_loss'].append(loss.data.item())\n",
        "        correct = 0\n",
        "        # then evaluate using validation data\n",
        "        for x, y in validation_loader:\n",
        "            #validation\n",
        "            z = model(x.view(-1, 28 * 28))\n",
        "            _, label = torch.max(z, 1)\n",
        "            correct += (label == y).sum().item()\n",
        "        accuracy = 100 * (correct / len(validation_dataset))\n",
        "        useful_stuff['validation_accuracy'].append(accuracy)\n",
        "    return useful_stuff"
      ],
      "metadata": {
        "id": "67zqqyZADfxC"
      },
      "execution_count": 23,
      "outputs": []
    },
    {
      "cell_type": "code",
      "source": [
        "model = NN(28 * 28, 100, 10) # 10 classes, digits 0-9\n",
        "\n",
        "optimizer = torch.optim.SGD(model.parameters(), lr=0.01)\n",
        "criterion = nn.CrossEntropyLoss()\n",
        "\n",
        "train_results = train(model, criterion, train_loader, validation_loader, optimizer, epochs=30)"
      ],
      "metadata": {
        "id": "Bjut4RyaD01q"
      },
      "execution_count": 24,
      "outputs": []
    },
    {
      "cell_type": "code",
      "source": [
        "print(\"training loss:\", train_results['training_loss'][0])\n",
        "print(\"validation accuracy:\", train_results['validation_accuracy'][0])\n",
        "\n",
        "print(\"\\ntraining loss:\", train_results['training_loss'][-1])\n",
        "print(\"validation accuracy:\", train_results['validation_accuracy'][-1])"
      ],
      "metadata": {
        "colab": {
          "base_uri": "https://localhost:8080/"
        },
        "id": "2Q1pB7b3GzUj",
        "outputId": "9fda1fae-a2cb-4afa-b680-1069d1087cca"
      },
      "execution_count": 25,
      "outputs": [
        {
          "output_type": "stream",
          "name": "stdout",
          "text": [
            "training loss: 2.3496439456939697\n",
            "validation accuracy: 10.32\n",
            "\n",
            "training loss: 1.9734208583831787\n",
            "validation accuracy: 62.07\n"
          ]
        }
      ]
    },
    {
      "cell_type": "markdown",
      "source": [
        "**Backpropagation and Activation Functions**\n",
        "<br><br>\n",
        "Backpropagation: compute the gradient for updating the weights\n",
        "<br>\n",
        "Activation Functions: add non linearity to the model\n",
        "<br>\n",
        "* **sigmoid**: 0,1 interval, suffers from vanishing gradient problem\n",
        "* **tanh**: similar to sigmoid, but with -1,1 interval\n",
        "* **relu**: y = max(0,x), helps against vanishing gradient problem\n",
        "\n"
      ],
      "metadata": {
        "id": "4bsidAyINt5R"
      }
    },
    {
      "cell_type": "code",
      "source": [
        "# NN w/ sigmoid activation function\n",
        "\n",
        "class Net_Sig(nn.Module):\n",
        "  def __init__(self, D_in, H, D_out):\n",
        "    super(Net_Tanh, self).__init__()\n",
        "    self.linear1 = nn.Linear(D_in, H)\n",
        "    self.linear2 = nn.Linear(H, D_out)\n",
        "\n",
        "  def forward(self, x):\n",
        "    x = torch.sigmoid(self.linear1(x))\n",
        "    x = self.linear2(x)\n",
        "    return x"
      ],
      "metadata": {
        "id": "vibiqoO_WaFN"
      },
      "execution_count": 26,
      "outputs": []
    },
    {
      "cell_type": "code",
      "source": [
        "# NN w/ tanh activation function\n",
        "\n",
        "class Net_Tanh(nn.Module):\n",
        "  def __init__(self, D_in, H, D_out):\n",
        "    super(Net_Tanh, self).__init__()\n",
        "    self.linear1 = nn.Linear(D_in, H)\n",
        "    self.linear2 = nn.Linear(H, D_out)\n",
        "\n",
        "  def forward(self, x):\n",
        "    x = torch.tanh(self.linear1(x))\n",
        "    x = self.linear2(x)\n",
        "    return x"
      ],
      "metadata": {
        "id": "Pd0eSRgWNrBK"
      },
      "execution_count": 27,
      "outputs": []
    },
    {
      "cell_type": "code",
      "source": [
        "# NN w/ relu activation function\n",
        "\n",
        "class Net_Relu(nn.Module):\n",
        "  def __init__(self, D_in, H, D_out):\n",
        "    super(Net_Tanh, self).__init__()\n",
        "    self.linear1 = nn.Linear(D_in, H)\n",
        "    self.linear2 = nn.Linear(H, D_out)\n",
        "\n",
        "  def forward(self, x):\n",
        "    x = torch.relu(self.linear1(x))\n",
        "    x = self.linear2(x)\n",
        "    return x"
      ],
      "metadata": {
        "id": "HKmJd83_WgH5"
      },
      "execution_count": 28,
      "outputs": []
    },
    {
      "cell_type": "code",
      "source": [
        "# NN w/ tanh activation function using nn.Sequential\n",
        "model_tanh = nn.Sequential(\n",
        "    nn.Linear(28 * 28, 100),\n",
        "    nn.Tanh(),\n",
        "    nn.Linear(100, 10)\n",
        ")\n",
        "\n",
        "# NN w/ relu activation function using nn.Sequential\n",
        "model_relu = nn.Sequential(\n",
        "    nn.Linear(28 * 28, 100),\n",
        "    nn.ReLU(),\n",
        "    nn.Linear(100, 10)\n",
        ")"
      ],
      "metadata": {
        "id": "aHeCBrCtWygb"
      },
      "execution_count": 29,
      "outputs": []
    },
    {
      "cell_type": "markdown",
      "source": [
        "# Deep NNs"
      ],
      "metadata": {
        "id": "_mTHb1cKWSr9"
      }
    },
    {
      "cell_type": "code",
      "source": [
        "# deep NN w/ two hidden layers\n",
        "# D_in -> dimension input features\n",
        "# H1, H2 -> number of neurons in first and second hidden layer\n",
        "# D_out -> dimension of output (equal to the numebr of classes, one for regression)\n",
        "\n",
        "class Dnn(nn.Module):\n",
        "  def __init__(self, D_in, H1, H2, D_out):\n",
        "    super(Dnn, self).__init__()\n",
        "    self.linear1 = nn.Linear(D_in, H1)\n",
        "    self.linear2 = nn.Linear(H1, H2)\n",
        "    self.linear3 = nn.Linear(H2, D_out)\n",
        "\n",
        "  def forward(self, x):\n",
        "    x = torch.sigmoid(self.linear1(x))\n",
        "    x = torch.sigmoid(self.linear2(x))\n",
        "    x = self.linear3(x)\n",
        "    return x"
      ],
      "metadata": {
        "id": "poIGorLpWU2v"
      },
      "execution_count": 30,
      "outputs": []
    },
    {
      "cell_type": "code",
      "source": [
        "model = Dnn(3,3,4,3)\n",
        "print(model.parameters)"
      ],
      "metadata": {
        "colab": {
          "base_uri": "https://localhost:8080/"
        },
        "id": "rvXs4iKVYt5T",
        "outputId": "c52b7486-eb74-4693-cd62-b25f3ac77f7a"
      },
      "execution_count": 31,
      "outputs": [
        {
          "output_type": "stream",
          "name": "stdout",
          "text": [
            "<bound method Module.parameters of Dnn(\n",
            "  (linear1): Linear(in_features=3, out_features=3, bias=True)\n",
            "  (linear2): Linear(in_features=3, out_features=4, bias=True)\n",
            "  (linear3): Linear(in_features=4, out_features=3, bias=True)\n",
            ")>\n"
          ]
        }
      ]
    },
    {
      "cell_type": "code",
      "source": [
        "model = nn.Sequential(\n",
        "    nn.Linear(3,3),\n",
        "    nn.Sigmoid(),\n",
        "    nn.Linear(3,4),\n",
        "    nn.Sigmoid(),\n",
        "    nn.Linear(4,3)\n",
        ")\n",
        "\n",
        "print(model.parameters)"
      ],
      "metadata": {
        "colab": {
          "base_uri": "https://localhost:8080/"
        },
        "id": "7c1Z7wgXZLa2",
        "outputId": "07420104-643d-4d4f-df37-a683f3cec196"
      },
      "execution_count": 32,
      "outputs": [
        {
          "output_type": "stream",
          "name": "stdout",
          "text": [
            "<bound method Module.parameters of Sequential(\n",
            "  (0): Linear(in_features=3, out_features=3, bias=True)\n",
            "  (1): Sigmoid()\n",
            "  (2): Linear(in_features=3, out_features=4, bias=True)\n",
            "  (3): Sigmoid()\n",
            "  (4): Linear(in_features=4, out_features=3, bias=True)\n",
            ")>\n"
          ]
        }
      ]
    },
    {
      "cell_type": "markdown",
      "source": [
        "Build a DNN using **nn.ModuleList()**"
      ],
      "metadata": {
        "id": "y_N9fJZhgZkQ"
      }
    },
    {
      "cell_type": "code",
      "source": [
        "class Dnn(nn.Module):\n",
        "  def __init__(self, Layers):\n",
        "    super(Dnn, self).__init__()\n",
        "    self.hidden = nn.ModuleList()\n",
        "    # it's like doing zip([2,3,4], [3,4,3])\n",
        "    for input_size, output_size in zip(Layers, Layers[1:]):\n",
        "      # couples: (2,3) - (3,4) - (4,3)\n",
        "      self.hidden.append(nn.Linear(input_size, output_size))\n",
        "\n",
        "  def forward(self, activation):\n",
        "    L = len(self.hidden)\n",
        "    for(l, linear_transform) in zip(range(L), self.hidden):\n",
        "      if l < L - 1:\n",
        "        activation = torch.relu(linear_transform(activation))\n",
        "      else:\n",
        "        activation = linear_transform(activation)\n",
        "    return activation\n",
        "\n",
        "Layers = [2,3,4,3]\n",
        "model = Dnn(Layers)\n",
        "\n",
        "print(model.parameters)"
      ],
      "metadata": {
        "colab": {
          "base_uri": "https://localhost:8080/"
        },
        "id": "eGhNfRA3gdju",
        "outputId": "e69d4316-deb1-42f5-c8e5-ba49fadeabc2"
      },
      "execution_count": 33,
      "outputs": [
        {
          "output_type": "stream",
          "name": "stdout",
          "text": [
            "<bound method Module.parameters of Dnn(\n",
            "  (hidden): ModuleList(\n",
            "    (0): Linear(in_features=2, out_features=3, bias=True)\n",
            "    (1): Linear(in_features=3, out_features=4, bias=True)\n",
            "    (2): Linear(in_features=4, out_features=3, bias=True)\n",
            "  )\n",
            ")>\n"
          ]
        }
      ]
    },
    {
      "cell_type": "markdown",
      "source": [
        "Dropout regularisation to prevent overfitting"
      ],
      "metadata": {
        "id": "47WZYMjg1RsF"
      }
    },
    {
      "cell_type": "code",
      "source": [
        "class Dnn(nn.Module):\n",
        "  def __init__(self, in_size, n_hidden, out_size, p=0):\n",
        "    super(Dnn, self).__init__()\n",
        "    # create a dropout object passing the probability p of turning off a neuron\n",
        "    self.drop = nn.Dropout(p=p)\n",
        "    self.linear1 = nn.Linear(in_size, n_hidden)\n",
        "    self.linear2 = nn.Linear(n_hidden, n_hidden)\n",
        "    self.linear3 = nn.Linear(n_hidden, out_size)\n",
        "\n",
        "  def forward(self, x):\n",
        "    x = torch.relu(self.linear1(x))\n",
        "    x = self.drop(x)\n",
        "    x = torch.relu(self.linear2(x))\n",
        "    x = self.drop(x)\n",
        "    x = self.linear3(x)\n",
        "    return x\n",
        "\n",
        "model_drop = Dnn(2,300,2,0.5)\n",
        "\n",
        "# specify that we are in the training phase -> dropout enabled\n",
        "model_drop.train()\n",
        "print(model_drop.parameters)\n",
        "\n",
        "# specify that we are in the evaluation phase -> dropout disabled\n",
        "model_drop.eval()\n",
        "print(model_drop.parameters)"
      ],
      "metadata": {
        "colab": {
          "base_uri": "https://localhost:8080/"
        },
        "id": "4gF_AQcv1Vej",
        "outputId": "1af0da9d-0308-4b39-9646-8b1ddf9c3b4b"
      },
      "execution_count": 34,
      "outputs": [
        {
          "output_type": "stream",
          "name": "stdout",
          "text": [
            "<bound method Module.parameters of Dnn(\n",
            "  (drop): Dropout(p=0.5, inplace=False)\n",
            "  (linear1): Linear(in_features=2, out_features=300, bias=True)\n",
            "  (linear2): Linear(in_features=300, out_features=300, bias=True)\n",
            "  (linear3): Linear(in_features=300, out_features=2, bias=True)\n",
            ")>\n",
            "<bound method Module.parameters of Dnn(\n",
            "  (drop): Dropout(p=0.5, inplace=False)\n",
            "  (linear1): Linear(in_features=2, out_features=300, bias=True)\n",
            "  (linear2): Linear(in_features=300, out_features=300, bias=True)\n",
            "  (linear3): Linear(in_features=300, out_features=2, bias=True)\n",
            ")>\n"
          ]
        }
      ]
    },
    {
      "cell_type": "markdown",
      "source": [
        "To avoid getting stuck in a local minimum, it's possible to add a momentum parameter to the optimizer as in the example below"
      ],
      "metadata": {
        "id": "34igj7238Hv1"
      }
    },
    {
      "cell_type": "code",
      "source": [
        "optimizer = torch.optim.SGD(model.parameters(), lr=0.1, momentum=0.4)"
      ],
      "metadata": {
        "id": "iFHemkG_8ROV"
      },
      "execution_count": 35,
      "outputs": []
    }
  ]
}