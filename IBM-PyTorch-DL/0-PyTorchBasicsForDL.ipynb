{
  "nbformat": 4,
  "nbformat_minor": 0,
  "metadata": {
    "colab": {
      "provenance": [],
      "authorship_tag": "ABX9TyNcTz6y2aCPgy++K1oXwHnT",
      "include_colab_link": true
    },
    "kernelspec": {
      "name": "python3",
      "display_name": "Python 3"
    },
    "language_info": {
      "name": "python"
    }
  },
  "cells": [
    {
      "cell_type": "markdown",
      "metadata": {
        "id": "view-in-github",
        "colab_type": "text"
      },
      "source": [
        "<a href=\"https://colab.research.google.com/github/Russo-Federico/DeepLearningFundamentals/blob/main/IBM-PyTorch-DL/0-PyTorchBasicsForDL.ipynb\" target=\"_parent\"><img src=\"https://colab.research.google.com/assets/colab-badge.svg\" alt=\"Open In Colab\"/></a>"
      ]
    },
    {
      "cell_type": "markdown",
      "source": [
        "# Build a Neural Network"
      ],
      "metadata": {
        "id": "WgdAWejKnCib"
      }
    },
    {
      "cell_type": "code",
      "execution_count": 25,
      "metadata": {
        "id": "mNMjR5cEm_fb"
      },
      "outputs": [],
      "source": [
        "import numpy as np\n",
        "import torch\n",
        "import torch.nn as nn\n",
        "from torch import sigmoid"
      ]
    },
    {
      "cell_type": "markdown",
      "source": [
        "Create a NN class"
      ],
      "metadata": {
        "id": "BQb4I3zin_ol"
      }
    },
    {
      "cell_type": "code",
      "source": [
        "class NN(nn.Module):\n",
        "  # D_in - input size of the network\n",
        "  # H - number of neurons\n",
        "  # D_out - output size of the netowrk\n",
        "  def __init__(self, D_in, H, D_out):\n",
        "    super(NN, self).__init__()\n",
        "    self.linear1 = nn.Linear(D_in, H) # input layer\n",
        "    self.linear2 = nn.Linear(H, D_out) # output layer\n",
        "\n",
        "  def forward(self, x):\n",
        "    x = sigmoid(self.linear1(x))\n",
        "    x = sigmoid(self.linear2(x))\n",
        "    return x"
      ],
      "metadata": {
        "id": "yIYwAST0n_E5"
      },
      "execution_count": 6,
      "outputs": []
    },
    {
      "cell_type": "code",
      "source": [
        "x = torch.tensor([1.0])\n",
        "\n",
        "model = NN(1,2,1)\n",
        "yhat = model(x)\n",
        "print(\"yhat:\", yhat)"
      ],
      "metadata": {
        "colab": {
          "base_uri": "https://localhost:8080/"
        },
        "id": "5yBHxsa7pGYY",
        "outputId": "86f98be5-75a1-4908-e6ad-6e7372a9d9a0"
      },
      "execution_count": 7,
      "outputs": [
        {
          "output_type": "stream",
          "name": "stdout",
          "text": [
            "yhat: tensor([0.6091], grad_fn=<SigmoidBackward0>)\n"
          ]
        }
      ]
    },
    {
      "cell_type": "code",
      "source": [
        "model.state_dict()"
      ],
      "metadata": {
        "colab": {
          "base_uri": "https://localhost:8080/"
        },
        "id": "Wcs4ixVXp-uY",
        "outputId": "30266dfe-c64f-45d5-9f6d-db8b6a7b4c03"
      },
      "execution_count": 8,
      "outputs": [
        {
          "output_type": "execute_result",
          "data": {
            "text/plain": [
              "OrderedDict([('linear1.weight',\n",
              "              tensor([[-0.5834],\n",
              "                      [-0.4041]])),\n",
              "             ('linear1.bias', tensor([-0.5011,  0.8688])),\n",
              "             ('linear2.weight', tensor([[0.5401, 0.2700]])),\n",
              "             ('linear2.bias', tensor([0.1411]))])"
            ]
          },
          "metadata": {},
          "execution_count": 8
        }
      ]
    },
    {
      "cell_type": "markdown",
      "source": [
        "Build a network using the Sequential module"
      ],
      "metadata": {
        "id": "7ozWWN2nqQbK"
      }
    },
    {
      "cell_type": "code",
      "source": [
        "seq_model = torch.nn.Sequential(\n",
        "    torch.nn.Linear(1,2),\n",
        "    torch.nn.Sigmoid(),\n",
        "    torch.nn.Linear(2,1),\n",
        "    torch.nn.Sigmoid()\n",
        ")\n",
        "\n",
        "yhat = seq_model(x)\n",
        "print(\"yhat:\", yhat)"
      ],
      "metadata": {
        "colab": {
          "base_uri": "https://localhost:8080/"
        },
        "id": "rq2XcT8vqXXb",
        "outputId": "1129c0ad-5b7b-44c9-8ad8-7f07e61ac375"
      },
      "execution_count": 9,
      "outputs": [
        {
          "output_type": "stream",
          "name": "stdout",
          "text": [
            "yhat: tensor([0.5362], grad_fn=<SigmoidBackward0>)\n"
          ]
        }
      ]
    },
    {
      "cell_type": "markdown",
      "source": [
        "Train a model"
      ],
      "metadata": {
        "id": "EkpnylJyqk3v"
      }
    },
    {
      "cell_type": "code",
      "source": [
        "def train(Y, X, model, optimizer, criterion, epochs=100):\n",
        "  cost = []\n",
        "  total = 0\n",
        "  for epoch in range(epochs):\n",
        "    total = 0\n",
        "    for x, y in zip(X, Y):\n",
        "      yhat = model(x)\n",
        "      loss = criterion(yhat, y)\n",
        "      optimizer.zero_grad()\n",
        "      loss.backward()\n",
        "      optimizer.step()\n",
        "      total += loss.item()\n",
        "    cost.append(total)\n",
        "  return cost"
      ],
      "metadata": {
        "id": "sERTHvWHqmt-"
      },
      "execution_count": 10,
      "outputs": []
    },
    {
      "cell_type": "code",
      "source": [
        "model = NN(1,2,1)\n",
        "criterion = nn.BCELoss()\n",
        "optimizer = torch.optim.SGD(model.parameters(), lr=0.01)\n",
        "\n",
        "X = torch.arange(-20,20,1).view(-1,1).type(torch.FloatTensor)\n",
        "Y = torch.zeros(X.shape[0],1)\n",
        "Y[(X[:,0] > -4) & (X[:,0] < 4)] = 1.0\n",
        "\n",
        "cost = train(Y, X, model, optimizer, criterion)\n",
        "\n",
        "print(\"cost: \", cost)"
      ],
      "metadata": {
        "colab": {
          "base_uri": "https://localhost:8080/"
        },
        "id": "eBR8W_KDuNVi",
        "outputId": "2bbbb616-cfab-4526-d214-f4048a4b8441"
      },
      "execution_count": 11,
      "outputs": [
        {
          "output_type": "stream",
          "name": "stdout",
          "text": [
            "cost:  [32.79397138953209, 29.330220818519592, 26.743085086345673, 24.81369984149933, 23.37019833922386, 22.283473938703537, 21.458833009004593, 20.827566623687744, 20.33993637561798, 19.959834039211273, 19.660893619060516, 19.423719629645348, 19.233920738101006, 19.0807316750288, 18.956027939915657, 18.85363006591797, 18.768799424171448, 18.69787621498108, 18.638016134500504, 18.58698983490467, 18.543047711253166, 18.504799231886864, 18.47114270925522, 18.441194266080856, 18.414247199892998, 18.389728918671608, 18.3671785145998, 18.34622000157833, 18.326547637581825, 18.307912096381187, 18.290108159184456, 18.272967740893364, 18.256351247429848, 18.24014486372471, 18.22425177693367, 18.208595260977745, 18.193107798695564, 18.177736192941666, 18.162433996796608, 18.147163167595863, 18.131891056895256, 18.11659114062786, 18.10124135017395, 18.085822597146034, 18.070319637656212, 18.054718926548958, 18.03900983929634, 18.023184150457382, 18.007234379649162, 17.991156190633774, 17.97494401037693, 17.958594545722008, 17.942106395959854, 17.92547881603241, 17.90871162712574, 17.891804814338684, 17.874759316444397, 17.857578575611115, 17.840264335274696, 17.82282005250454, 17.80524744093418, 17.78755298256874, 17.76973970234394, 17.751812055706978, 17.733776301145554, 17.71563671529293, 17.697399273514748, 17.679068699479103, 17.66064964234829, 17.642149835824966, 17.62357322871685, 17.604924708604813, 17.586209759116173, 17.567432776093483, 17.548598259687424, 17.52971062064171, 17.510773107409477, 17.491787746548653, 17.472758173942566, 17.453687623143196, 17.434574604034424, 17.415421590209007, 17.3962292522192, 17.376996755599976, 17.357723027467728, 17.338406890630722, 17.3190458714962, 17.299638271331787, 17.28018133342266, 17.260671347379684, 17.2411045730114, 17.221476659178734, 17.201785176992416, 17.182023271918297, 17.162187412381172, 17.142272919416428, 17.12227465212345, 17.102187424898148, 17.082005560398102, 17.0617263764143]\n"
          ]
        }
      ]
    },
    {
      "cell_type": "markdown",
      "source": [
        "**More hidden neurons**"
      ],
      "metadata": {
        "id": "kRJ906Poz2RC"
      }
    },
    {
      "cell_type": "code",
      "source": [
        "from torch.utils.data import Dataset, DataLoader"
      ],
      "metadata": {
        "id": "yOn2C2wZz4Gf"
      },
      "execution_count": 12,
      "outputs": []
    },
    {
      "cell_type": "code",
      "source": [
        "class Data(Dataset):\n",
        "  def __init__(self):\n",
        "    self.x = torch.linspace(-20,20,100).view(-1,1)\n",
        "    self.y = torch.zeros(self.x.shape[0])\n",
        "    self.y[(self.x[:,0] > -10 & (self.x[:,0] < -5))] = 1\n",
        "    self.y[(self.x[:,0] > 5 & (self.x[:,0] < 10))] = 1\n",
        "    self.y = self.y.view(-1,1)\n",
        "    self.len = self.x.shape[0]\n",
        "\n",
        "  def __getitem__(self, index):\n",
        "    return self.x[index], self.y[index]\n",
        "\n",
        "  def __len__(self):\n",
        "    return self.len"
      ],
      "metadata": {
        "id": "P3jPaFFH0WYT"
      },
      "execution_count": 17,
      "outputs": []
    },
    {
      "cell_type": "code",
      "source": [
        "class NN(nn.Module):\n",
        "  def __init__(self, D_in, H, D_out):\n",
        "    super(NN, self).__init__()\n",
        "    self.linear1 = nn.Linear(D_in, H)\n",
        "    self.linear2 = nn.Linear(H, D_out)\n",
        "\n",
        "  def forward(self, x):\n",
        "    x = sigmoid(self.linear1(x))\n",
        "    x = sigmoid(self.linear2(x))\n",
        "    return x"
      ],
      "metadata": {
        "id": "vWHHhgtB1OSq"
      },
      "execution_count": 14,
      "outputs": []
    },
    {
      "cell_type": "code",
      "source": [
        "def train(data_set, model, criterion, train_loader, optimizer, epochs=5, plot_number=10):\n",
        "  cost = []\n",
        "  for epoch in range(epochs):\n",
        "    total = 0\n",
        "    for x,y in train_loader:\n",
        "      yhat = model(x)\n",
        "      loss = criterion(yhat, y)\n",
        "      optimizer.zero_grad()\n",
        "      loss.backward()\n",
        "      optimizer.step()\n",
        "      total += loss.item()\n",
        "    cost.append(total)\n",
        "  return cost"
      ],
      "metadata": {
        "id": "nVpI7zfR1pM_"
      },
      "execution_count": 15,
      "outputs": []
    },
    {
      "cell_type": "code",
      "source": [
        "model = NN(1,6,1)\n",
        "criterion = nn.BCELoss()\n",
        "optimizer = torch.optim.Adam(model.parameters(), lr=0.01)\n",
        "train_dataset = Data()\n",
        "train_loader = DataLoader(dataset=train_dataset, batch_size=100)\n",
        "\n",
        "cost = train(train_dataset, model, criterion, train_loader, optimizer, epochs=100)\n",
        "\n",
        "i = 0\n",
        "for c in cost:\n",
        "  i += 1\n",
        "  if i % 10 == 0:\n",
        "    print(c)"
      ],
      "metadata": {
        "id": "bTLzsm3U2WEV",
        "outputId": "bcc17a35-bf5e-4405-ade6-4bef00d0d2a0",
        "colab": {
          "base_uri": "https://localhost:8080/"
        }
      },
      "execution_count": 22,
      "outputs": [
        {
          "output_type": "stream",
          "name": "stdout",
          "text": [
            "0.6289365887641907\n",
            "0.5013830065727234\n",
            "0.41113007068634033\n",
            "0.3389420211315155\n",
            "0.28094714879989624\n",
            "0.23523074388504028\n",
            "0.1994495987892151\n",
            "0.17137759923934937\n",
            "0.1491583287715912\n",
            "0.1313517540693283\n"
          ]
        }
      ]
    },
    {
      "cell_type": "markdown",
      "source": [
        "same as above, but using nn.Sequential"
      ],
      "metadata": {
        "id": "Xev_vjJw4kBo"
      }
    },
    {
      "cell_type": "code",
      "source": [
        "model = torch.nn.Sequential(\n",
        "    torch.nn.Linear(1,6),\n",
        "    torch.nn.Sigmoid(),\n",
        "    torch.nn.Linear(6,1),\n",
        "    torch.nn.Sigmoid()\n",
        ")"
      ],
      "metadata": {
        "id": "IaLDekCF4Zy7"
      },
      "execution_count": 23,
      "outputs": []
    },
    {
      "cell_type": "markdown",
      "source": [
        "**Multidimensional input data**"
      ],
      "metadata": {
        "id": "AjsE_MIY5V-u"
      }
    },
    {
      "cell_type": "code",
      "source": [
        "class XOR_Data(Dataset):\n",
        "\n",
        "    # Constructor\n",
        "    def __init__(self, N_s=100):\n",
        "        self.x = torch.zeros((N_s, 2))\n",
        "        self.y = torch.zeros((N_s, 1))\n",
        "        for i in range(N_s // 4):\n",
        "            self.x[i, :] = torch.Tensor([0.0, 0.0])\n",
        "            self.y[i, 0] = torch.Tensor([0.0])\n",
        "\n",
        "            self.x[i + N_s // 4, :] = torch.Tensor([0.0, 1.0])\n",
        "            self.y[i + N_s // 4, 0] = torch.Tensor([1.0])\n",
        "\n",
        "            self.x[i + N_s // 2, :] = torch.Tensor([1.0, 0.0])\n",
        "            self.y[i + N_s // 2, 0] = torch.Tensor([1.0])\n",
        "\n",
        "            self.x[i + 3 * N_s // 4, :] = torch.Tensor([1.0, 1.0])\n",
        "            self.y[i + 3 * N_s // 4, 0] = torch.Tensor([0.0])\n",
        "\n",
        "            self.x = self.x + 0.01 * torch.randn((N_s, 2))\n",
        "        self.len = N_s\n",
        "\n",
        "    # Getter\n",
        "    def __getitem__(self, index):\n",
        "        return self.x[index],self.y[index]\n",
        "\n",
        "    # Get Length\n",
        "    def __len__(self):\n",
        "        return self.len"
      ],
      "metadata": {
        "id": "32fkfW6w5cla"
      },
      "execution_count": 24,
      "outputs": []
    },
    {
      "cell_type": "code",
      "source": [
        "# Calculate accuracy\n",
        "\n",
        "def accuracy(model, data_set):\n",
        "    return np.mean(data_set.y.view(-1).numpy() == (model(data_set.x)[:, 0] > 0.5).numpy())"
      ],
      "metadata": {
        "id": "eTUZt3y-7sJU"
      },
      "execution_count": 26,
      "outputs": []
    },
    {
      "cell_type": "code",
      "source": [
        "def train(dataset, model, criterion, train_loader, optimizer, epochs=100):\n",
        "  cost = []\n",
        "  acc = []\n",
        "  for epoch in range(epochs):\n",
        "    total = 0\n",
        "    for x,y in train_loader:\n",
        "      yhat = model(x)\n",
        "      loss = criterion(yhat, y)\n",
        "      optimizer.zero_grad()\n",
        "      loss.backward()\n",
        "      optimizer.step()\n",
        "      total = loss.item()\n",
        "    acc.append(accuracy(model, dataset))\n",
        "    cost.append(total)\n",
        "\n",
        "  return cost, acc"
      ],
      "metadata": {
        "id": "sVZwedK96lIU"
      },
      "execution_count": 31,
      "outputs": []
    },
    {
      "cell_type": "code",
      "source": [
        "model = NN(2,4,1)\n",
        "criterion = nn.BCELoss()\n",
        "optimizer = torch.optim.SGD(model.parameters(), lr=0.01)\n",
        "train_dataset = XOR_Data()\n",
        "train_loader = DataLoader(dataset=train_dataset, batch_size=1)\n",
        "\n",
        "cost, acc = train(train_dataset, model, criterion, train_loader, optimizer)"
      ],
      "metadata": {
        "id": "-d6r7HQn72NV"
      },
      "execution_count": 32,
      "outputs": []
    },
    {
      "cell_type": "code",
      "source": [
        "for i in range(len(cost)):\n",
        "  if i % 10 == 0:\n",
        "    print(f\"cost: {cost[i]} - accuracy: {acc[i]}\")"
      ],
      "metadata": {
        "id": "_vQK9nLE8BFp",
        "outputId": "e0216e88-4da7-4144-b280-9773bff5c943",
        "colab": {
          "base_uri": "https://localhost:8080/"
        }
      },
      "execution_count": 35,
      "outputs": [
        {
          "output_type": "stream",
          "name": "stdout",
          "text": [
            "cost: 0.712531566619873 - accuracy: 0.5\n",
            "cost: 0.6888075470924377 - accuracy: 0.25\n",
            "cost: 0.6877162456512451 - accuracy: 0.25\n",
            "cost: 0.6867204308509827 - accuracy: 0.25\n",
            "cost: 0.6857218146324158 - accuracy: 0.49\n",
            "cost: 0.6847257018089294 - accuracy: 0.5\n",
            "cost: 0.6837389469146729 - accuracy: 0.5\n",
            "cost: 0.6827698349952698 - accuracy: 0.5\n",
            "cost: 0.6818262934684753 - accuracy: 0.5\n",
            "cost: 0.680915892124176 - accuracy: 0.5\n"
          ]
        }
      ]
    }
  ]
}