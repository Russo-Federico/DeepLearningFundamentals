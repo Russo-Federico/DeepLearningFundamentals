{
  "nbformat": 4,
  "nbformat_minor": 0,
  "metadata": {
    "colab": {
      "provenance": [],
      "authorship_tag": "ABX9TyPrhupyCo8EHya02Hq/vB4Y",
      "include_colab_link": true
    },
    "kernelspec": {
      "name": "python3",
      "display_name": "Python 3"
    },
    "language_info": {
      "name": "python"
    }
  },
  "cells": [
    {
      "cell_type": "markdown",
      "metadata": {
        "id": "view-in-github",
        "colab_type": "text"
      },
      "source": [
        "<a href=\"https://colab.research.google.com/github/Russo-Federico/DeepLearningFundamentals/blob/main/IBM-PyTorch-DL/0-PyTorchBasicsForDL.ipynb\" target=\"_parent\"><img src=\"https://colab.research.google.com/assets/colab-badge.svg\" alt=\"Open In Colab\"/></a>"
      ]
    },
    {
      "cell_type": "markdown",
      "source": [
        "# Build a Neural Network"
      ],
      "metadata": {
        "id": "WgdAWejKnCib"
      }
    },
    {
      "cell_type": "code",
      "execution_count": 2,
      "metadata": {
        "id": "mNMjR5cEm_fb"
      },
      "outputs": [],
      "source": [
        "import torch\n",
        "import torch.nn as nn\n",
        "from torch import sigmoid"
      ]
    },
    {
      "cell_type": "markdown",
      "source": [
        "Create a NN class"
      ],
      "metadata": {
        "id": "BQb4I3zin_ol"
      }
    },
    {
      "cell_type": "code",
      "source": [
        "class NN(nn.Module):\n",
        "  # D_in - input size of the network\n",
        "  # H - number of neurons\n",
        "  # D_out - output size of the netowrk\n",
        "  def __init__(self, D_in, H, D_out):\n",
        "    super(NN, self).__init__()\n",
        "    self.linear1 = nn.Linear(D_in, H) # input layer\n",
        "    self.linear2 = nn.Linear(H, D_out) # output layer\n",
        "\n",
        "  def forward(self, x):\n",
        "    x = sigmoid(self.linear1(x))\n",
        "    x = sigmoid(self.linear2(x))\n",
        "    return x"
      ],
      "metadata": {
        "id": "yIYwAST0n_E5"
      },
      "execution_count": 3,
      "outputs": []
    },
    {
      "cell_type": "code",
      "source": [
        "x = torch.tensor([1.0])\n",
        "\n",
        "model = NN(1,2,1)\n",
        "yhat = model(x)\n",
        "print(\"yhat:\", yhat)"
      ],
      "metadata": {
        "colab": {
          "base_uri": "https://localhost:8080/"
        },
        "id": "5yBHxsa7pGYY",
        "outputId": "12ad1389-a573-43a2-9db3-f448eb68f9e5"
      },
      "execution_count": 4,
      "outputs": [
        {
          "output_type": "stream",
          "name": "stdout",
          "text": [
            "yhat: tensor([0.5798], grad_fn=<SigmoidBackward0>)\n"
          ]
        }
      ]
    },
    {
      "cell_type": "code",
      "source": [
        "model.state_dict()"
      ],
      "metadata": {
        "colab": {
          "base_uri": "https://localhost:8080/"
        },
        "id": "Wcs4ixVXp-uY",
        "outputId": "9fbfd014-a551-4340-cc42-60f16f738fc7"
      },
      "execution_count": 5,
      "outputs": [
        {
          "output_type": "execute_result",
          "data": {
            "text/plain": [
              "OrderedDict([('linear1.weight',\n",
              "              tensor([[-0.8517],\n",
              "                      [-0.9562]])),\n",
              "             ('linear1.bias', tensor([ 0.0344, -0.0562])),\n",
              "             ('linear2.weight', tensor([[-0.3093,  0.0581]])),\n",
              "             ('linear2.bias', tensor([0.4012]))])"
            ]
          },
          "metadata": {},
          "execution_count": 5
        }
      ]
    },
    {
      "cell_type": "markdown",
      "source": [
        "Build a network using the Sequential module"
      ],
      "metadata": {
        "id": "7ozWWN2nqQbK"
      }
    },
    {
      "cell_type": "code",
      "source": [
        "seq_model = torch.nn.Sequential(\n",
        "    torch.nn.Linear(1,2),\n",
        "    torch.nn.Sigmoid(),\n",
        "    torch.nn.Linear(2,1),\n",
        "    torch.nn.Sigmoid()\n",
        ")\n",
        "\n",
        "yhat = seq_model(x)\n",
        "print(\"yhat:\", yhat)"
      ],
      "metadata": {
        "colab": {
          "base_uri": "https://localhost:8080/"
        },
        "id": "rq2XcT8vqXXb",
        "outputId": "ff6a5dda-763f-45f6-b3e5-77d2e301662d"
      },
      "execution_count": 7,
      "outputs": [
        {
          "output_type": "stream",
          "name": "stdout",
          "text": [
            "yhat: tensor([0.4922], grad_fn=<SigmoidBackward0>)\n"
          ]
        }
      ]
    },
    {
      "cell_type": "markdown",
      "source": [
        "Train a model"
      ],
      "metadata": {
        "id": "EkpnylJyqk3v"
      }
    },
    {
      "cell_type": "code",
      "source": [
        "def train(Y, X, model, optimizer, criterion, epochs=100):\n",
        "  cost = []\n",
        "  total = 0\n",
        "  for epoch in range(epochs):\n",
        "    total = 0\n",
        "    for x, y in zip(X, Y):\n",
        "      yhat = model(x)\n",
        "      loss = criterion(yhat, y)\n",
        "      optimizer.zero_grad()\n",
        "      loss.backward()\n",
        "      optimizer.step()\n",
        "      total += loss.item()\n",
        "    cost.append(total)\n",
        "  return cost"
      ],
      "metadata": {
        "id": "sERTHvWHqmt-"
      },
      "execution_count": 8,
      "outputs": []
    },
    {
      "cell_type": "code",
      "source": [
        "model = NN(1,2,1)\n",
        "criterion = nn.BCELoss()\n",
        "optimizer = torch.optim.SGD(model.parameters(), lr=0.01)\n",
        "\n",
        "X = torch.arange(-20,20,1).view(-1,1).type(torch.FloatTensor)\n",
        "Y = torch.zeros(X.shape[0],1)\n",
        "Y[(X[:,0] > -4) & (X[:,0] < 4)] = 1.0\n",
        "\n",
        "cost = train(Y, X, model, optimizer, criterion)\n",
        "\n",
        "print(\"cost: \", cost)"
      ],
      "metadata": {
        "colab": {
          "base_uri": "https://localhost:8080/"
        },
        "id": "eBR8W_KDuNVi",
        "outputId": "1ae0719f-5339-4891-d883-d8860a0606a1"
      },
      "execution_count": 11,
      "outputs": [
        {
          "output_type": "stream",
          "name": "stdout",
          "text": [
            "cost:  [27.439201295375824, 25.403576135635376, 23.88390800356865, 22.74214059114456, 21.878220349550247, 21.219715178012848, 20.713930368423462, 20.32234263420105, 20.016667306423187, 19.776038885116577, 19.584981471300125, 19.431942850351334, 19.30824166536331, 19.207310900092125, 19.124153167009354, 19.05494910478592, 18.996771708130836, 18.947377860546112, 18.905066192150116, 18.868557184934616, 18.836918339133263, 18.809488832950592, 18.78580704331398, 18.765535041689873, 18.748384058475494, 18.73404349386692, 18.722141474485397, 18.71226066350937, 18.70396415889263, 18.696845307946205, 18.690568044781685, 18.68487124145031, 18.679569974541664, 18.674537137150764, 18.669690057635307, 18.664968356490135, 18.660332411527634, 18.655751809477806, 18.651199460029602, 18.646653398871422, 18.642090663313866, 18.637491911649704, 18.63283821940422, 18.62811204791069, 18.623296856880188, 18.618378177285194, 18.613341212272644, 18.608176484704018, 18.602872863411903, 18.59742161631584, 18.59181834757328, 18.586055755615234, 18.58013141155243, 18.5740437656641, 18.567791000008583, 18.561374604701996, 18.5547955930233, 18.548056095838547, 18.54115767776966, 18.534105628728867, 18.52690263092518, 18.51955233514309, 18.512058794498444, 18.504426062107086, 18.49665702879429, 18.48875665664673, 18.480727434158325, 18.472570702433586, 18.464293256402016, 18.45589281618595, 18.447372928261757, 18.438735231757164, 18.429978996515274, 18.421106353402138, 18.412116169929504, 18.403007715940475, 18.393781304359436, 18.384433090686798, 18.37496368587017, 18.36536931991577, 18.35564884543419, 18.345797449350357, 18.33581294119358, 18.3256913125515, 18.315429866313934, 18.30502323806286, 18.294467076659203, 18.28375805914402, 18.272889599204063, 18.26185865700245, 18.250660195946693, 18.239287480711937, 18.227737322449684, 18.216003507375717, 18.204082027077675, 18.19196619093418, 18.179653123021126, 18.167136892676353, 18.15441356599331, 18.141478523612022]\n"
          ]
        }
      ]
    }
  ]
}