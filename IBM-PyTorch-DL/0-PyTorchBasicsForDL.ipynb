{
  "nbformat": 4,
  "nbformat_minor": 0,
  "metadata": {
    "colab": {
      "provenance": [],
      "authorship_tag": "ABX9TyOEhbQ0eDJEmawCJDM+PWVx",
      "include_colab_link": true
    },
    "kernelspec": {
      "name": "python3",
      "display_name": "Python 3"
    },
    "language_info": {
      "name": "python"
    }
  },
  "cells": [
    {
      "cell_type": "markdown",
      "metadata": {
        "id": "view-in-github",
        "colab_type": "text"
      },
      "source": [
        "<a href=\"https://colab.research.google.com/github/Russo-Federico/DeepLearningFundamentals/blob/main/IBM-PyTorch-DL/0-PyTorchBasicsForDL.ipynb\" target=\"_parent\"><img src=\"https://colab.research.google.com/assets/colab-badge.svg\" alt=\"Open In Colab\"/></a>"
      ]
    },
    {
      "cell_type": "markdown",
      "source": [
        "# Build a Neural Network"
      ],
      "metadata": {
        "id": "WgdAWejKnCib"
      }
    },
    {
      "cell_type": "code",
      "execution_count": 1,
      "metadata": {
        "id": "mNMjR5cEm_fb"
      },
      "outputs": [],
      "source": [
        "import numpy as np\n",
        "import torch\n",
        "import torch.nn as nn\n",
        "from torch import sigmoid"
      ]
    },
    {
      "cell_type": "markdown",
      "source": [
        "Create a NN class"
      ],
      "metadata": {
        "id": "BQb4I3zin_ol"
      }
    },
    {
      "cell_type": "code",
      "source": [
        "class NN(nn.Module):\n",
        "  # D_in - input size of the network\n",
        "  # H - number of neurons\n",
        "  # D_out - output size of the netowrk\n",
        "  def __init__(self, D_in, H, D_out):\n",
        "    super(NN, self).__init__()\n",
        "    self.linear1 = nn.Linear(D_in, H) # input layer\n",
        "    self.linear2 = nn.Linear(H, D_out) # output layer\n",
        "\n",
        "  def forward(self, x):\n",
        "    x = sigmoid(self.linear1(x))\n",
        "    x = sigmoid(self.linear2(x))\n",
        "    return x"
      ],
      "metadata": {
        "id": "yIYwAST0n_E5"
      },
      "execution_count": 2,
      "outputs": []
    },
    {
      "cell_type": "code",
      "source": [
        "x = torch.tensor([1.0])\n",
        "\n",
        "model = NN(1,2,1)\n",
        "yhat = model(x)\n",
        "print(\"yhat:\", yhat)"
      ],
      "metadata": {
        "colab": {
          "base_uri": "https://localhost:8080/"
        },
        "id": "5yBHxsa7pGYY",
        "outputId": "c5c5f302-f23f-4cdc-9029-6703dfa8974c"
      },
      "execution_count": 3,
      "outputs": [
        {
          "output_type": "stream",
          "name": "stdout",
          "text": [
            "yhat: tensor([0.5643], grad_fn=<SigmoidBackward0>)\n"
          ]
        }
      ]
    },
    {
      "cell_type": "code",
      "source": [
        "model.state_dict()"
      ],
      "metadata": {
        "colab": {
          "base_uri": "https://localhost:8080/"
        },
        "id": "Wcs4ixVXp-uY",
        "outputId": "da81a68b-49af-4eb1-ce77-c75060223660"
      },
      "execution_count": 4,
      "outputs": [
        {
          "output_type": "execute_result",
          "data": {
            "text/plain": [
              "OrderedDict([('linear1.weight',\n",
              "              tensor([[-0.6540],\n",
              "                      [-0.2665]])),\n",
              "             ('linear1.bias', tensor([ 0.6798, -0.9020])),\n",
              "             ('linear2.weight', tensor([[ 0.6610, -0.2444]])),\n",
              "             ('linear2.bias', tensor([-0.0181]))])"
            ]
          },
          "metadata": {},
          "execution_count": 4
        }
      ]
    },
    {
      "cell_type": "markdown",
      "source": [
        "Build a network using the Sequential module"
      ],
      "metadata": {
        "id": "7ozWWN2nqQbK"
      }
    },
    {
      "cell_type": "code",
      "source": [
        "seq_model = torch.nn.Sequential(\n",
        "    torch.nn.Linear(1,2),\n",
        "    torch.nn.Sigmoid(),\n",
        "    torch.nn.Linear(2,1),\n",
        "    torch.nn.Sigmoid()\n",
        ")\n",
        "\n",
        "yhat = seq_model(x)\n",
        "print(\"yhat:\", yhat)"
      ],
      "metadata": {
        "colab": {
          "base_uri": "https://localhost:8080/"
        },
        "id": "rq2XcT8vqXXb",
        "outputId": "7b8a9763-446c-4f7c-bc6c-5ada4fe7614c"
      },
      "execution_count": 5,
      "outputs": [
        {
          "output_type": "stream",
          "name": "stdout",
          "text": [
            "yhat: tensor([0.6243], grad_fn=<SigmoidBackward0>)\n"
          ]
        }
      ]
    },
    {
      "cell_type": "markdown",
      "source": [
        "Train a model"
      ],
      "metadata": {
        "id": "EkpnylJyqk3v"
      }
    },
    {
      "cell_type": "code",
      "source": [
        "def train(Y, X, model, optimizer, criterion, epochs=100):\n",
        "  cost = []\n",
        "  total = 0\n",
        "  for epoch in range(epochs):\n",
        "    total = 0\n",
        "    for x, y in zip(X, Y):\n",
        "      yhat = model(x)\n",
        "      loss = criterion(yhat, y)\n",
        "      optimizer.zero_grad()\n",
        "      loss.backward()\n",
        "      optimizer.step()\n",
        "      total += loss.item()\n",
        "    cost.append(total)\n",
        "  return cost"
      ],
      "metadata": {
        "id": "sERTHvWHqmt-"
      },
      "execution_count": 6,
      "outputs": []
    },
    {
      "cell_type": "code",
      "source": [
        "model = NN(1,2,1)\n",
        "criterion = nn.BCELoss()\n",
        "optimizer = torch.optim.SGD(model.parameters(), lr=0.01)\n",
        "\n",
        "X = torch.arange(-20,20,1).view(-1,1).type(torch.FloatTensor)\n",
        "Y = torch.zeros(X.shape[0],1)\n",
        "Y[(X[:,0] > -4) & (X[:,0] < 4)] = 1.0\n",
        "\n",
        "cost = train(Y, X, model, optimizer, criterion)\n",
        "\n",
        "print(\"cost: \", cost)"
      ],
      "metadata": {
        "colab": {
          "base_uri": "https://localhost:8080/"
        },
        "id": "eBR8W_KDuNVi",
        "outputId": "95d41572-a0ef-4263-d9f6-7581eb7e512e"
      },
      "execution_count": 7,
      "outputs": [
        {
          "output_type": "stream",
          "name": "stdout",
          "text": [
            "cost:  [22.109044402837753, 21.13212439417839, 20.38023230433464, 19.7957224547863, 19.336709439754486, 18.97259023785591, 18.680828988552094, 18.44469502568245, 18.251649752259254, 18.092217564582825, 17.95917296409607, 17.846962600946426, 17.75128497183323, 17.668784022331238, 17.596823900938034, 17.53332108259201, 17.476620882749557, 17.425398379564285, 17.378590300679207, 17.335340082645416, 17.294952616095543, 17.25686340034008, 17.220609426498413, 17.1858132481575, 17.15216553211212, 17.11940921843052, 17.08733355998993, 17.055763840675354, 17.024554938077927, 16.993584975600243, 16.96275319159031, 16.93197710812092, 16.901186406612396, 16.870322838425636, 16.839338093996048, 16.808189675211906, 16.776846766471863, 16.745277270674706, 16.713462218642235, 16.681378811597824, 16.64901426434517, 16.616353824734688, 16.5833892673254, 16.550111055374146, 16.516516119241714, 16.482599169015884, 16.448358863592148, 16.413795441389084, 16.37890875339508, 16.343702122569084, 16.308179065585136, 16.272343456745148, 16.23620094358921, 16.19976046681404, 16.163027927279472, 16.12601402401924, 16.088727742433548, 16.05117902159691, 16.013382136821747, 15.975346773862839, 15.937086001038551, 15.898614913225174, 15.859946727752686, 15.82109585404396, 15.78207615017891, 15.742902725934982, 15.703589782118797, 15.664149805903435, 15.624600574374199, 15.584952741861343, 15.545217394828796, 15.505410462617874, 15.465538799762726, 15.425612777471542, 15.385641649365425, 15.345632702112198, 15.305591225624084, 15.265525072813034, 15.225436195731163, 15.185327216982841, 15.14519952237606, 15.105054557323456, 15.06489011645317, 15.02470551431179, 14.984497711062431, 14.944266930222511, 14.904007464647293, 14.86371847987175, 14.823395386338234, 14.783035308122635, 14.742634251713753, 14.70218975841999, 14.66169886291027, 14.621157988905907, 14.580565840005875, 14.539919018745422, 14.499215930700302, 14.45845651626587, 14.417638912796974, 14.376764595508575]\n"
          ]
        }
      ]
    },
    {
      "cell_type": "markdown",
      "source": [
        "**More hidden neurons**"
      ],
      "metadata": {
        "id": "kRJ906Poz2RC"
      }
    },
    {
      "cell_type": "code",
      "source": [
        "from torch.utils.data import Dataset, DataLoader"
      ],
      "metadata": {
        "id": "yOn2C2wZz4Gf"
      },
      "execution_count": 8,
      "outputs": []
    },
    {
      "cell_type": "code",
      "source": [
        "class Data(Dataset):\n",
        "  def __init__(self):\n",
        "    self.x = torch.linspace(-20,20,100).view(-1,1)\n",
        "    self.y = torch.zeros(self.x.shape[0])\n",
        "    self.y[(self.x[:,0] > -10 & (self.x[:,0] < -5))] = 1\n",
        "    self.y[(self.x[:,0] > 5 & (self.x[:,0] < 10))] = 1\n",
        "    self.y = self.y.view(-1,1)\n",
        "    self.len = self.x.shape[0]\n",
        "\n",
        "  def __getitem__(self, index):\n",
        "    return self.x[index], self.y[index]\n",
        "\n",
        "  def __len__(self):\n",
        "    return self.len"
      ],
      "metadata": {
        "id": "P3jPaFFH0WYT"
      },
      "execution_count": 9,
      "outputs": []
    },
    {
      "cell_type": "code",
      "source": [
        "class NN(nn.Module):\n",
        "  def __init__(self, D_in, H, D_out):\n",
        "    super(NN, self).__init__()\n",
        "    self.linear1 = nn.Linear(D_in, H)\n",
        "    self.linear2 = nn.Linear(H, D_out)\n",
        "\n",
        "  def forward(self, x):\n",
        "    x = sigmoid(self.linear1(x))\n",
        "    x = sigmoid(self.linear2(x))\n",
        "    return x"
      ],
      "metadata": {
        "id": "vWHHhgtB1OSq"
      },
      "execution_count": 10,
      "outputs": []
    },
    {
      "cell_type": "code",
      "source": [
        "def train(data_set, model, criterion, train_loader, optimizer, epochs=5, plot_number=10):\n",
        "  cost = []\n",
        "  for epoch in range(epochs):\n",
        "    total = 0\n",
        "    for x,y in train_loader:\n",
        "      yhat = model(x)\n",
        "      loss = criterion(yhat, y)\n",
        "      optimizer.zero_grad()\n",
        "      loss.backward()\n",
        "      optimizer.step()\n",
        "      total += loss.item()\n",
        "    cost.append(total)\n",
        "  return cost"
      ],
      "metadata": {
        "id": "nVpI7zfR1pM_"
      },
      "execution_count": 11,
      "outputs": []
    },
    {
      "cell_type": "code",
      "source": [
        "model = NN(1,6,1)\n",
        "criterion = nn.BCELoss()\n",
        "optimizer = torch.optim.Adam(model.parameters(), lr=0.01)\n",
        "train_dataset = Data()\n",
        "train_loader = DataLoader(dataset=train_dataset, batch_size=100)\n",
        "\n",
        "cost = train(train_dataset, model, criterion, train_loader, optimizer, epochs=100)\n",
        "\n",
        "i = 0\n",
        "for c in cost:\n",
        "  i += 1\n",
        "  if i % 10 == 0:\n",
        "    print(c)"
      ],
      "metadata": {
        "colab": {
          "base_uri": "https://localhost:8080/"
        },
        "id": "bTLzsm3U2WEV",
        "outputId": "0381ed00-3e4d-4505-c472-1aa7ace5cde6"
      },
      "execution_count": 12,
      "outputs": [
        {
          "output_type": "stream",
          "name": "stdout",
          "text": [
            "0.5749016404151917\n",
            "0.46442973613739014\n",
            "0.37221625447273254\n",
            "0.29882100224494934\n",
            "0.2430441975593567\n",
            "0.20110797882080078\n",
            "0.1694575697183609\n",
            "0.14529277384281158\n",
            "0.1265193223953247\n",
            "0.11164810508489609\n"
          ]
        }
      ]
    },
    {
      "cell_type": "markdown",
      "source": [
        "same as above, but using nn.Sequential"
      ],
      "metadata": {
        "id": "Xev_vjJw4kBo"
      }
    },
    {
      "cell_type": "code",
      "source": [
        "model = torch.nn.Sequential(\n",
        "    torch.nn.Linear(1,6),\n",
        "    torch.nn.Sigmoid(),\n",
        "    torch.nn.Linear(6,1),\n",
        "    torch.nn.Sigmoid()\n",
        ")"
      ],
      "metadata": {
        "id": "IaLDekCF4Zy7"
      },
      "execution_count": 13,
      "outputs": []
    },
    {
      "cell_type": "markdown",
      "source": [
        "**Multidimensional input data**"
      ],
      "metadata": {
        "id": "AjsE_MIY5V-u"
      }
    },
    {
      "cell_type": "code",
      "source": [
        "class XOR_Data(Dataset):\n",
        "\n",
        "    # Constructor\n",
        "    def __init__(self, N_s=100):\n",
        "        self.x = torch.zeros((N_s, 2))\n",
        "        self.y = torch.zeros((N_s, 1))\n",
        "        for i in range(N_s // 4):\n",
        "            self.x[i, :] = torch.Tensor([0.0, 0.0])\n",
        "            self.y[i, 0] = torch.Tensor([0.0])\n",
        "\n",
        "            self.x[i + N_s // 4, :] = torch.Tensor([0.0, 1.0])\n",
        "            self.y[i + N_s // 4, 0] = torch.Tensor([1.0])\n",
        "\n",
        "            self.x[i + N_s // 2, :] = torch.Tensor([1.0, 0.0])\n",
        "            self.y[i + N_s // 2, 0] = torch.Tensor([1.0])\n",
        "\n",
        "            self.x[i + 3 * N_s // 4, :] = torch.Tensor([1.0, 1.0])\n",
        "            self.y[i + 3 * N_s // 4, 0] = torch.Tensor([0.0])\n",
        "\n",
        "            self.x = self.x + 0.01 * torch.randn((N_s, 2))\n",
        "        self.len = N_s\n",
        "\n",
        "    # Getter\n",
        "    def __getitem__(self, index):\n",
        "        return self.x[index],self.y[index]\n",
        "\n",
        "    # Get Length\n",
        "    def __len__(self):\n",
        "        return self.len"
      ],
      "metadata": {
        "id": "32fkfW6w5cla"
      },
      "execution_count": 14,
      "outputs": []
    },
    {
      "cell_type": "code",
      "source": [
        "# Calculate accuracy\n",
        "\n",
        "def accuracy(model, data_set):\n",
        "    return np.mean(data_set.y.view(-1).numpy() == (model(data_set.x)[:, 0] > 0.5).numpy())"
      ],
      "metadata": {
        "id": "eTUZt3y-7sJU"
      },
      "execution_count": 15,
      "outputs": []
    },
    {
      "cell_type": "code",
      "source": [
        "def train(dataset, model, criterion, train_loader, optimizer, epochs=100):\n",
        "  cost = []\n",
        "  acc = []\n",
        "  for epoch in range(epochs):\n",
        "    total = 0\n",
        "    for x,y in train_loader:\n",
        "      yhat = model(x)\n",
        "      loss = criterion(yhat, y)\n",
        "      optimizer.zero_grad()\n",
        "      loss.backward()\n",
        "      optimizer.step()\n",
        "      total = loss.item()\n",
        "    acc.append(accuracy(model, dataset))\n",
        "    cost.append(total)\n",
        "\n",
        "  return cost, acc"
      ],
      "metadata": {
        "id": "sVZwedK96lIU"
      },
      "execution_count": 16,
      "outputs": []
    },
    {
      "cell_type": "code",
      "source": [
        "model = NN(2,4,1)\n",
        "criterion = nn.BCELoss()\n",
        "optimizer = torch.optim.SGD(model.parameters(), lr=0.01)\n",
        "train_dataset = XOR_Data()\n",
        "train_loader = DataLoader(dataset=train_dataset, batch_size=1)\n",
        "\n",
        "cost, acc = train(train_dataset, model, criterion, train_loader, optimizer)"
      ],
      "metadata": {
        "id": "-d6r7HQn72NV"
      },
      "execution_count": 17,
      "outputs": []
    },
    {
      "cell_type": "code",
      "source": [
        "for i in range(len(cost)):\n",
        "  if i % 10 == 0:\n",
        "    print(f\"cost: {cost[i]} - accuracy: {acc[i]}\")"
      ],
      "metadata": {
        "colab": {
          "base_uri": "https://localhost:8080/"
        },
        "id": "_vQK9nLE8BFp",
        "outputId": "2b299ac1-4768-4aaa-d39e-3d2faa2ae6e9"
      },
      "execution_count": 18,
      "outputs": [
        {
          "output_type": "stream",
          "name": "stdout",
          "text": [
            "cost: 0.587478756904602 - accuracy: 0.5\n",
            "cost: 0.6765233278274536 - accuracy: 0.29\n",
            "cost: 0.6771535277366638 - accuracy: 0.28\n",
            "cost: 0.6772976517677307 - accuracy: 0.27\n",
            "cost: 0.6773310899734497 - accuracy: 0.27\n",
            "cost: 0.6772513389587402 - accuracy: 0.26\n",
            "cost: 0.6770526170730591 - accuracy: 0.25\n",
            "cost: 0.6767285466194153 - accuracy: 0.25\n",
            "cost: 0.6762719750404358 - accuracy: 0.25\n",
            "cost: 0.675674319267273 - accuracy: 0.25\n"
          ]
        }
      ]
    },
    {
      "cell_type": "markdown",
      "source": [
        "**Multi-Class NNs**"
      ],
      "metadata": {
        "id": "Zpd1lMrh_ZvK"
      }
    },
    {
      "cell_type": "code",
      "source": [
        "import torchvision.datasets as dsets\n",
        "import torchvision.transforms as transforms"
      ],
      "metadata": {
        "id": "l1KOaCsvC1RE"
      },
      "execution_count": 19,
      "outputs": []
    },
    {
      "cell_type": "code",
      "source": [
        "# for multi-class model the number of neurons in the outoput layer must correpond to the number of target classes\n",
        "class NN(nn.Module):\n",
        "  def __init__(self, D_in, H, D_out):\n",
        "    super(NN, self).__init__()\n",
        "    self.linear1 = nn.Linear(D_in, H)\n",
        "    self.linear2 = nn.Linear(H, D_out)\n",
        "\n",
        "  def forward(self, x):\n",
        "    x = sigmoid(self.linear1(x))\n",
        "    x = self.linear2(x) # drop the activation function in last layer\n",
        "    return x"
      ],
      "metadata": {
        "id": "QBhNP_TF_WSD"
      },
      "execution_count": 20,
      "outputs": []
    },
    {
      "cell_type": "code",
      "source": [
        "# same NN, but using nn.Sequential\n",
        "\n",
        "model = torch.nn.Sequential(\n",
        "    torch.nn.Linear(2,6),\n",
        "    torch.nn.Sigmoid(),\n",
        "    torch.nn.Linear(6,3),\n",
        ")"
      ],
      "metadata": {
        "id": "BLrEh5VVCMjm"
      },
      "execution_count": 21,
      "outputs": []
    },
    {
      "cell_type": "code",
      "source": [
        "train_dataset = dsets.MNIST(root='./data', train=True, download=True, transform=transforms.ToTensor())\n",
        "validation_dataset = dsets.MNIST(root='./data', train=False, download=True, transform=transforms.ToTensor())\n",
        "\n",
        "train_loader = DataLoader(dataset=train_dataset, batch_size=2000)\n",
        "validation_loader = DataLoader(dataset=validation_dataset, batch_size=5000)"
      ],
      "metadata": {
        "colab": {
          "base_uri": "https://localhost:8080/"
        },
        "id": "wy334MwOCoBq",
        "outputId": "2f8f3214-e8ec-4eb7-cf52-ed9cc64c1b00"
      },
      "execution_count": 22,
      "outputs": [
        {
          "output_type": "stream",
          "name": "stderr",
          "text": [
            "100%|██████████| 9.91M/9.91M [00:00<00:00, 35.2MB/s]\n",
            "100%|██████████| 28.9k/28.9k [00:00<00:00, 24.8MB/s]\n",
            "100%|██████████| 1.65M/1.65M [00:00<00:00, 45.6MB/s]\n",
            "100%|██████████| 4.54k/4.54k [00:00<00:00, 5.00MB/s]\n"
          ]
        }
      ]
    },
    {
      "cell_type": "code",
      "source": [
        "# training function\n",
        "\n",
        "def train(model, criterion, train_loader, validation_loader, optimizer, epochs=100):\n",
        "    i = 0\n",
        "    useful_stuff = {'training_loss': [],'validation_accuracy': []}\n",
        "    for epoch in range(epochs):\n",
        "        # first train on training data\n",
        "        for i, (x, y) in enumerate(train_loader):\n",
        "            optimizer.zero_grad()\n",
        "            z = model(x.view(-1, 28 * 28))\n",
        "            loss = criterion(z, y)\n",
        "            loss.backward()\n",
        "            optimizer.step()\n",
        "             #loss for every iteration\n",
        "            useful_stuff['training_loss'].append(loss.data.item())\n",
        "        correct = 0\n",
        "        # then evaluate using validation data\n",
        "        for x, y in validation_loader:\n",
        "            #validation\n",
        "            z = model(x.view(-1, 28 * 28))\n",
        "            _, label = torch.max(z, 1)\n",
        "            correct += (label == y).sum().item()\n",
        "        accuracy = 100 * (correct / len(validation_dataset))\n",
        "        useful_stuff['validation_accuracy'].append(accuracy)\n",
        "    return useful_stuff"
      ],
      "metadata": {
        "id": "67zqqyZADfxC"
      },
      "execution_count": 23,
      "outputs": []
    },
    {
      "cell_type": "code",
      "source": [
        "model = NN(28 * 28, 100, 10) # 10 classes, digits 0-9\n",
        "\n",
        "optimizer = torch.optim.SGD(model.parameters(), lr=0.01)\n",
        "criterion = nn.CrossEntropyLoss()\n",
        "\n",
        "train_results = train(model, criterion, train_loader, validation_loader, optimizer, epochs=30)"
      ],
      "metadata": {
        "id": "Bjut4RyaD01q"
      },
      "execution_count": 24,
      "outputs": []
    },
    {
      "cell_type": "code",
      "source": [
        "print(\"training loss:\", train_results['training_loss'][0])\n",
        "print(\"validation accuracy:\", train_results['validation_accuracy'][0])\n",
        "\n",
        "print(\"\\ntraining loss:\", train_results['training_loss'][-1])\n",
        "print(\"validation accuracy:\", train_results['validation_accuracy'][-1])"
      ],
      "metadata": {
        "colab": {
          "base_uri": "https://localhost:8080/"
        },
        "id": "2Q1pB7b3GzUj",
        "outputId": "82b76b90-fbe1-4f82-c4e9-d27358a5f191"
      },
      "execution_count": 25,
      "outputs": [
        {
          "output_type": "stream",
          "name": "stdout",
          "text": [
            "training loss: 2.336042881011963\n",
            "validation accuracy: 11.28\n",
            "\n",
            "training loss: 1.9470173120498657\n",
            "validation accuracy: 63.029999999999994\n"
          ]
        }
      ]
    },
    {
      "cell_type": "markdown",
      "source": [
        "**Backpropagation and Activation Functions**\n",
        "<br><br>\n",
        "Backpropagation: compute the gradient for updating the weights\n",
        "<br>\n",
        "Activation Functions: add non linearity to the model\n",
        "<br>\n",
        "* **sigmoid**: 0,1 interval, suffers from vanishing gradient problem\n",
        "* **tanh**: similar to sigmoid, but with -1,1 interval\n",
        "* **relu**: y = max(0,x), helps against vanishing gradient problem\n",
        "\n"
      ],
      "metadata": {
        "id": "4bsidAyINt5R"
      }
    },
    {
      "cell_type": "code",
      "source": [
        "# NN w/ sigmoid activation function\n",
        "\n",
        "class Net_Sig(nn.Module):\n",
        "  def __init__(self, D_in, H, D_out):\n",
        "    super(Net_Tanh, self).__init__()\n",
        "    self.linear1 = nn.Linear(D_in, H)\n",
        "    self.linear2 = nn.Linear(H, D_out)\n",
        "\n",
        "  def forward(self, x):\n",
        "    x = torch.sigmoid(self.linear1(x))\n",
        "    x = self.linear2(x)\n",
        "    return x"
      ],
      "metadata": {
        "id": "vibiqoO_WaFN"
      },
      "execution_count": 26,
      "outputs": []
    },
    {
      "cell_type": "code",
      "source": [
        "# NN w/ tanh activation function\n",
        "\n",
        "class Net_Tanh(nn.Module):\n",
        "  def __init__(self, D_in, H, D_out):\n",
        "    super(Net_Tanh, self).__init__()\n",
        "    self.linear1 = nn.Linear(D_in, H)\n",
        "    self.linear2 = nn.Linear(H, D_out)\n",
        "\n",
        "  def forward(self, x):\n",
        "    x = torch.tanh(self.linear1(x))\n",
        "    x = self.linear2(x)\n",
        "    return x"
      ],
      "metadata": {
        "id": "Pd0eSRgWNrBK"
      },
      "execution_count": 27,
      "outputs": []
    },
    {
      "cell_type": "code",
      "source": [
        "# NN w/ relu activation function\n",
        "\n",
        "class Net_Relu(nn.Module):\n",
        "  def __init__(self, D_in, H, D_out):\n",
        "    super(Net_Tanh, self).__init__()\n",
        "    self.linear1 = nn.Linear(D_in, H)\n",
        "    self.linear2 = nn.Linear(H, D_out)\n",
        "\n",
        "  def forward(self, x):\n",
        "    x = torch.relu(self.linear1(x))\n",
        "    x = self.linear2(x)\n",
        "    return x"
      ],
      "metadata": {
        "id": "HKmJd83_WgH5"
      },
      "execution_count": 28,
      "outputs": []
    },
    {
      "cell_type": "code",
      "source": [
        "# NN w/ tanh activation function using nn.Sequential\n",
        "model_tanh = nn.Sequential(\n",
        "    nn.Linear(28 * 28, 100),\n",
        "    nn.Tanh(),\n",
        "    nn.Linear(100, 10)\n",
        ")\n",
        "\n",
        "# NN w/ relu activation function using nn.Sequential\n",
        "model_relu = nn.Sequential(\n",
        "    nn.Linear(28 * 28, 100),\n",
        "    nn.ReLU(),\n",
        "    nn.Linear(100, 10)\n",
        ")"
      ],
      "metadata": {
        "id": "aHeCBrCtWygb"
      },
      "execution_count": 29,
      "outputs": []
    },
    {
      "cell_type": "markdown",
      "source": [
        "# Deep NNs"
      ],
      "metadata": {
        "id": "_mTHb1cKWSr9"
      }
    },
    {
      "cell_type": "code",
      "source": [
        "# deep NN w/ two hidden layers\n",
        "# D_in -> dimension input features\n",
        "# H1, H2 -> number of neurons in first and second hidden layer\n",
        "# D_out -> dimension of output (equal to the numebr of classes, one for regression)\n",
        "\n",
        "class Dnn(nn.Module):\n",
        "  def __init__(self, D_in, H1, H2, D_out):\n",
        "    super(Dnn, self).__init__()\n",
        "    self.linear1 = nn.Linear(D_in, H1)\n",
        "    self.linear2 = nn.Linear(H1, H2)\n",
        "    self.linear3 = nn.Linear(H2, D_out)\n",
        "\n",
        "  def forward(self, x):\n",
        "    x = torch.sigmoid(self.linear1(x))\n",
        "    x = torch.sigmoid(self.linear2(x))\n",
        "    x = self.linear3(x)\n",
        "    return x"
      ],
      "metadata": {
        "id": "poIGorLpWU2v"
      },
      "execution_count": 32,
      "outputs": []
    },
    {
      "cell_type": "code",
      "source": [
        "model = Dnn(3,3,4,3)\n",
        "print(model.parameters)"
      ],
      "metadata": {
        "id": "rvXs4iKVYt5T",
        "outputId": "ef690ba1-cace-416f-fd27-7af35ae23e2e",
        "colab": {
          "base_uri": "https://localhost:8080/"
        }
      },
      "execution_count": 34,
      "outputs": [
        {
          "output_type": "stream",
          "name": "stdout",
          "text": [
            "<bound method Module.parameters of Dnn(\n",
            "  (linear1): Linear(in_features=3, out_features=3, bias=True)\n",
            "  (linear2): Linear(in_features=3, out_features=4, bias=True)\n",
            "  (linear3): Linear(in_features=4, out_features=3, bias=True)\n",
            ")>\n"
          ]
        }
      ]
    },
    {
      "cell_type": "code",
      "source": [
        "model = nn.Sequential(\n",
        "    nn.Linear(3,3),\n",
        "    nn.Sigmoid(),\n",
        "    nn.Linear(3,4),\n",
        "    nn.Sigmoid(),\n",
        "    nn.Linear(4,3)\n",
        ")\n",
        "\n",
        "print(model.parameters)"
      ],
      "metadata": {
        "id": "7c1Z7wgXZLa2",
        "outputId": "ca949a45-b339-405c-8b14-85bc6c8ac712",
        "colab": {
          "base_uri": "https://localhost:8080/"
        }
      },
      "execution_count": 35,
      "outputs": [
        {
          "output_type": "stream",
          "name": "stdout",
          "text": [
            "<bound method Module.parameters of Sequential(\n",
            "  (0): Linear(in_features=3, out_features=3, bias=True)\n",
            "  (1): Sigmoid()\n",
            "  (2): Linear(in_features=3, out_features=4, bias=True)\n",
            "  (3): Sigmoid()\n",
            "  (4): Linear(in_features=4, out_features=3, bias=True)\n",
            ")>\n"
          ]
        }
      ]
    }
  ]
}