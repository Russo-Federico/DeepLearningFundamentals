{
  "nbformat": 4,
  "nbformat_minor": 0,
  "metadata": {
    "colab": {
      "provenance": [],
      "authorship_tag": "ABX9TyMUiS+m5v5N7qxuoC6NjhNA",
      "include_colab_link": true
    },
    "kernelspec": {
      "name": "python3",
      "display_name": "Python 3"
    },
    "language_info": {
      "name": "python"
    }
  },
  "cells": [
    {
      "cell_type": "markdown",
      "metadata": {
        "id": "view-in-github",
        "colab_type": "text"
      },
      "source": [
        "<a href=\"https://colab.research.google.com/github/Russo-Federico/DeepLearningFundamentals/blob/main/IBM-PyTorch-Basics/0-PyTorchBasics.ipynb\" target=\"_parent\"><img src=\"https://colab.research.google.com/assets/colab-badge.svg\" alt=\"Open In Colab\"/></a>"
      ]
    },
    {
      "cell_type": "code",
      "execution_count": 2,
      "metadata": {
        "id": "235qZawiGTAE"
      },
      "outputs": [],
      "source": [
        "import torch\n",
        "import numpy as np\n",
        "import matplotlib.pyplot as plt\n",
        "import pandas as pd"
      ]
    },
    {
      "cell_type": "markdown",
      "source": [
        "Basic operations on tensors"
      ],
      "metadata": {
        "id": "Du7_JvzvGdk4"
      }
    },
    {
      "cell_type": "code",
      "source": [
        "torch_tensor = torch.tensor([1,2,3,4,5])\n",
        "print(torch_tensor)\n",
        "\n",
        "torch_tensor_casting = torch.tensor([1,2,3,4,5], dtype=torch.float32)\n",
        "print(torch_tensor_casting)\n",
        "\n",
        "print(torch_tensor.dtype)\n",
        "print(torch_tensor.type())\n",
        "\n",
        "print(torch_tensor.ndimension())\n",
        "a_col = torch_tensor.view(-1,1)\n",
        "print(a_col)"
      ],
      "metadata": {
        "colab": {
          "base_uri": "https://localhost:8080/"
        },
        "id": "kJc2vxw1GcDM",
        "outputId": "fb9b1d0f-738d-491e-ae77-d4a9aebaefb7"
      },
      "execution_count": 3,
      "outputs": [
        {
          "output_type": "stream",
          "name": "stdout",
          "text": [
            "tensor([1, 2, 3, 4, 5])\n",
            "tensor([1., 2., 3., 4., 5.])\n",
            "torch.int64\n",
            "torch.LongTensor\n",
            "1\n",
            "tensor([[1],\n",
            "        [2],\n",
            "        [3],\n",
            "        [4],\n",
            "        [5]])\n"
          ]
        }
      ]
    },
    {
      "cell_type": "markdown",
      "source": [
        "**N.B.** each element of a tensor is a tensor itself, to get the python number use the .item() funciton"
      ],
      "metadata": {
        "id": "-1UIwsimIjwD"
      }
    },
    {
      "cell_type": "code",
      "source": [
        "print(torch_tensor[0])\n",
        "print(torch_tensor[0].item())"
      ],
      "metadata": {
        "colab": {
          "base_uri": "https://localhost:8080/"
        },
        "id": "HceJthPtIU--",
        "outputId": "ee7f0695-dd47-468f-d19c-995f26ceeb93"
      },
      "execution_count": 4,
      "outputs": [
        {
          "output_type": "stream",
          "name": "stdout",
          "text": [
            "tensor(1)\n",
            "1\n"
          ]
        }
      ]
    },
    {
      "cell_type": "code",
      "source": [
        "section_tensor = torch_tensor[1:3]\n",
        "print(section_tensor)"
      ],
      "metadata": {
        "colab": {
          "base_uri": "https://localhost:8080/"
        },
        "id": "lJBPnbijIvrS",
        "outputId": "9847a532-4651-48de-d78e-bbdb58729408"
      },
      "execution_count": 5,
      "outputs": [
        {
          "output_type": "stream",
          "name": "stdout",
          "text": [
            "tensor([2, 3])\n"
          ]
        }
      ]
    },
    {
      "cell_type": "markdown",
      "source": [
        "assign new values to tensor elements"
      ],
      "metadata": {
        "id": "seJMk_RaI9mp"
      }
    },
    {
      "cell_type": "code",
      "source": [
        "# single value\n",
        "torch_tensor[2] = 7\n",
        "print(torch_tensor)\n",
        "print(section_tensor)\n",
        "\n",
        "# multiple values\n",
        "torch_tensor[1:3] = torch.tensor([27, 45])\n",
        "print(torch_tensor)\n",
        "print(section_tensor)"
      ],
      "metadata": {
        "colab": {
          "base_uri": "https://localhost:8080/"
        },
        "id": "PM5qLXszJAeg",
        "outputId": "24c39ec8-80a1-497e-cc0f-8ccbd91d18fa"
      },
      "execution_count": 6,
      "outputs": [
        {
          "output_type": "stream",
          "name": "stdout",
          "text": [
            "tensor([1, 2, 7, 4, 5])\n",
            "tensor([2, 7])\n",
            "tensor([ 1, 27, 45,  4,  5])\n",
            "tensor([27, 45])\n"
          ]
        }
      ]
    },
    {
      "cell_type": "markdown",
      "source": [
        "N.B as can be seen above, the tensor rifer to the original, so changing one changes all the others"
      ],
      "metadata": {
        "id": "z3mwDT9UJsA7"
      }
    },
    {
      "cell_type": "markdown",
      "source": [
        "Flowless integration within the python environment"
      ],
      "metadata": {
        "id": "-PFgL2MxHp4p"
      }
    },
    {
      "cell_type": "code",
      "source": [
        "numpy_array = np.array([9,8,7,6])\n",
        "print(numpy_array)\n",
        "\n",
        "to_torch = torch.from_numpy(numpy_array)\n",
        "print(to_torch)\n",
        "\n",
        "back_to_numpy = to_torch.numpy()\n",
        "print(back_to_numpy)"
      ],
      "metadata": {
        "colab": {
          "base_uri": "https://localhost:8080/"
        },
        "id": "TMO2z_-gHmmQ",
        "outputId": "39d16709-4e1d-46dd-df38-2c3238445585"
      },
      "execution_count": 7,
      "outputs": [
        {
          "output_type": "stream",
          "name": "stdout",
          "text": [
            "[9 8 7 6]\n",
            "tensor([9, 8, 7, 6])\n",
            "[9 8 7 6]\n"
          ]
        }
      ]
    },
    {
      "cell_type": "markdown",
      "source": [
        "# Basic Operations"
      ],
      "metadata": {
        "id": "Mkzi6oRFJ4rm"
      }
    },
    {
      "cell_type": "code",
      "source": [
        "# init\n",
        "a = torch.tensor([1,2])\n",
        "b = torch.tensor([3,4])\n",
        "\n",
        "c = a+b\n",
        "print(c)\n",
        "\n",
        "# scalar product\n",
        "c = c * 2\n",
        "print(c)\n",
        "\n",
        "# tensor product\n",
        "c = a * b\n",
        "print(c)\n",
        "\n",
        "# dot product\n",
        "c = torch.dot(a,b)\n",
        "print(c)\n",
        "\n",
        "# adding constant\n",
        "c = a + 2\n",
        "print(c)"
      ],
      "metadata": {
        "colab": {
          "base_uri": "https://localhost:8080/"
        },
        "id": "HfVZHb44KCVD",
        "outputId": "c02d7e5c-6b57-4640-f655-c3f3e5117c04"
      },
      "execution_count": 8,
      "outputs": [
        {
          "output_type": "stream",
          "name": "stdout",
          "text": [
            "tensor([4, 6])\n",
            "tensor([ 8, 12])\n",
            "tensor([3, 8])\n",
            "tensor(11)\n",
            "tensor([3, 4])\n"
          ]
        }
      ]
    },
    {
      "cell_type": "markdown",
      "source": [
        "**universal functions**"
      ],
      "metadata": {
        "id": "eDKMm34mLcgm"
      }
    },
    {
      "cell_type": "code",
      "source": [
        "a_float = a.type(torch.FloatTensor)\n",
        "print(a_float)\n",
        "\n",
        "# get mean\n",
        "mean_a = a_float.mean()\n",
        "print(mean_a)\n",
        "\n",
        "# get max\n",
        "a_max = a.max()\n",
        "print(a_max)"
      ],
      "metadata": {
        "colab": {
          "base_uri": "https://localhost:8080/"
        },
        "id": "sf_b__edKbXp",
        "outputId": "0c87e258-f9c5-43eb-8240-5c7a7111c920"
      },
      "execution_count": 9,
      "outputs": [
        {
          "output_type": "stream",
          "name": "stdout",
          "text": [
            "tensor([1., 2.])\n",
            "tensor(1.5000)\n",
            "tensor(2)\n"
          ]
        }
      ]
    },
    {
      "cell_type": "code",
      "source": [
        "# linspace ideal for plotting funcitons\n",
        "x = torch.linspace(-5,5,11) #starting point, ending point, steps\n",
        "print(x)\n",
        "\n",
        "y = torch.sin(x)\n",
        "print(y)\n",
        "\n",
        "plt.plot(x.numpy(), y.numpy())"
      ],
      "metadata": {
        "colab": {
          "base_uri": "https://localhost:8080/",
          "height": 501
        },
        "id": "xmsZkkdtMuIP",
        "outputId": "8babdc76-3e65-42b3-a7ea-2fff2542dd3d"
      },
      "execution_count": 10,
      "outputs": [
        {
          "output_type": "stream",
          "name": "stdout",
          "text": [
            "tensor([-5., -4., -3., -2., -1.,  0.,  1.,  2.,  3.,  4.,  5.])\n",
            "tensor([ 0.9589,  0.7568, -0.1411, -0.9093, -0.8415,  0.0000,  0.8415,  0.9093,\n",
            "         0.1411, -0.7568, -0.9589])\n"
          ]
        },
        {
          "output_type": "execute_result",
          "data": {
            "text/plain": [
              "[<matplotlib.lines.Line2D at 0x79085a09eb50>]"
            ]
          },
          "metadata": {},
          "execution_count": 10
        },
        {
          "output_type": "display_data",
          "data": {
            "text/plain": [
              "<Figure size 640x480 with 1 Axes>"
            ],
            "image/png": "[encoded data removed]"
          },
          "metadata": {}
        }
      ]
    },
    {
      "cell_type": "markdown",
      "source": [
        "# 2D Tensors"
      ],
      "metadata": {
        "id": "7AtjZolviivh"
      }
    },
    {
      "cell_type": "markdown",
      "source": [
        "Create 2D tensors"
      ],
      "metadata": {
        "id": "fDjsOZ9PkUwN"
      }
    },
    {
      "cell_type": "code",
      "source": [
        "a = [[0,1,2],[3,4,5],[6,7,8]]\n",
        "\n",
        "my_tensor = torch.tensor(a)\n",
        "print(my_tensor)\n",
        "\n",
        "# rows and cols\n",
        "print(\"Tensor size: \", my_tensor.shape)\n",
        "\n",
        "# dimensions: 3x3 => 2 dim\n",
        "print(\"Dimensions: \", my_tensor.ndimension())\n",
        "\n",
        "print(\"Number of elements: \", my_tensor.numel())"
      ],
      "metadata": {
        "colab": {
          "base_uri": "https://localhost:8080/"
        },
        "id": "3xplws-wkYPb",
        "outputId": "ec19f103-956e-4d24-b52e-f12ee9c6a891"
      },
      "execution_count": 11,
      "outputs": [
        {
          "output_type": "stream",
          "name": "stdout",
          "text": [
            "tensor([[0, 1, 2],\n",
            "        [3, 4, 5],\n",
            "        [6, 7, 8]])\n",
            "Tensor size:  torch.Size([3, 3])\n",
            "Dimensions:  2\n",
            "Number of elements:  9\n"
          ]
        }
      ]
    },
    {
      "cell_type": "markdown",
      "source": [
        "**Indexing & Slicing**"
      ],
      "metadata": {
        "id": "rEJGeSxamGhA"
      }
    },
    {
      "cell_type": "code",
      "source": [
        "print(my_tensor[1][0])\n",
        "\n",
        "print(my_tensor[0,1:])\n",
        "\n",
        "print(my_tensor[1:,2])\n",
        "\n",
        "print(my_tensor[1:,:-1])"
      ],
      "metadata": {
        "colab": {
          "base_uri": "https://localhost:8080/"
        },
        "id": "VSbCybJ1mPks",
        "outputId": "44385638-6ff6-4695-9d01-da8f7e0bb684"
      },
      "execution_count": 12,
      "outputs": [
        {
          "output_type": "stream",
          "name": "stdout",
          "text": [
            "tensor(3)\n",
            "tensor([1, 2])\n",
            "tensor([5, 8])\n",
            "tensor([[3, 4],\n",
            "        [6, 7]])\n"
          ]
        }
      ]
    },
    {
      "cell_type": "markdown",
      "source": [
        "**Operations on 2D Tensors**"
      ],
      "metadata": {
        "id": "DvII6Sucno7v"
      }
    },
    {
      "cell_type": "code",
      "source": [
        "x = torch.tensor([[1,0],[0,1]])\n",
        "y = torch.tensor([[2,1],[1,2]])\n",
        "\n",
        "print(f\"x: {x}\")\n",
        "print(f\"y: {y}\")"
      ],
      "metadata": {
        "colab": {
          "base_uri": "https://localhost:8080/"
        },
        "id": "YiXWcZ5Vnk4I",
        "outputId": "ae3da506-22ce-436c-8c7d-e30775fb130a"
      },
      "execution_count": 13,
      "outputs": [
        {
          "output_type": "stream",
          "name": "stdout",
          "text": [
            "x: tensor([[1, 0],\n",
            "        [0, 1]])\n",
            "y: tensor([[2, 1],\n",
            "        [1, 2]])\n"
          ]
        }
      ]
    },
    {
      "cell_type": "code",
      "source": [
        "# add\n",
        "z = x + y\n",
        "print(z)\n",
        "\n",
        "# multiply scalar\n",
        "z = 2*z\n",
        "print(z)\n",
        "\n",
        "# hadamard product\n",
        "z = x*y\n",
        "print(z)\n",
        "\n",
        "# matrix multiplications\n",
        "a = torch.tensor([[0,1,1],[1,0,1]])\n",
        "b = torch.tensor([[1,1],[1,1],[-1,1]])\n",
        "c = torch.mm(a,b)\n",
        "print(c)"
      ],
      "metadata": {
        "colab": {
          "base_uri": "https://localhost:8080/"
        },
        "id": "-UlbqrFAoRUJ",
        "outputId": "c1e7cf94-f4fc-4ca0-fb70-a79cb88b48d5"
      },
      "execution_count": 14,
      "outputs": [
        {
          "output_type": "stream",
          "name": "stdout",
          "text": [
            "tensor([[3, 1],\n",
            "        [1, 3]])\n",
            "tensor([[6, 2],\n",
            "        [2, 6]])\n",
            "tensor([[2, 0],\n",
            "        [0, 2]])\n",
            "tensor([[0, 2],\n",
            "        [0, 2]])\n"
          ]
        }
      ]
    },
    {
      "cell_type": "markdown",
      "source": [
        "# Differencition\n",
        "<br>\n",
        "calculating derivatives of a loss function with respect of model parameters to update weights and biases"
      ],
      "metadata": {
        "id": "lvEbIFwj8Baf"
      }
    },
    {
      "cell_type": "code",
      "source": [
        "# requires_grad => enable gradient tracking\n",
        "# Track operations on this tensor, because I’ll want to compute gradients with respect to it later\n",
        "x = torch.tensor(2., requires_grad=True)\n",
        "y = x**2\n",
        "\n",
        "# calculate derivative of y\n",
        "y.backward()\n",
        "print(x.grad)\n",
        "\n",
        "x = torch.tensor(2., requires_grad=True)\n",
        "z = x**2 + 2*x + 1\n",
        "z.backward()\n",
        "print(x.grad)"
      ],
      "metadata": {
        "colab": {
          "base_uri": "https://localhost:8080/"
        },
        "id": "Efjrbtv_8SZO",
        "outputId": "2bfef998-67a8-4c31-c868-dd74a8b2447c"
      },
      "execution_count": 15,
      "outputs": [
        {
          "output_type": "stream",
          "name": "stdout",
          "text": [
            "tensor(4.)\n",
            "tensor(6.)\n"
          ]
        }
      ]
    },
    {
      "cell_type": "markdown",
      "source": [
        "Partial derivatives"
      ],
      "metadata": {
        "id": "fx9b3Dg_-HF-"
      }
    },
    {
      "cell_type": "code",
      "source": [
        "u = torch.tensor(1., requires_grad=True)\n",
        "v = torch.tensor(2., requires_grad=True)\n",
        "\n",
        "f = u*v + u**2\n",
        "\n",
        "f.backward()\n",
        "print(u.grad)\n",
        "print(v.grad)"
      ],
      "metadata": {
        "colab": {
          "base_uri": "https://localhost:8080/"
        },
        "id": "dPkqJUjn-FK2",
        "outputId": "e6a99d6c-3b0a-4783-8fe8-2807c375e901"
      },
      "execution_count": 16,
      "outputs": [
        {
          "output_type": "stream",
          "name": "stdout",
          "text": [
            "tensor(4.)\n",
            "tensor(1.)\n"
          ]
        }
      ]
    },
    {
      "cell_type": "markdown",
      "source": [
        "# Datasets"
      ],
      "metadata": {
        "id": "GcojDCDAQXde"
      }
    },
    {
      "cell_type": "code",
      "source": [
        "from torch.utils.data import Dataset"
      ],
      "metadata": {
        "id": "KyTUC6w-QZd4"
      },
      "execution_count": 17,
      "outputs": []
    },
    {
      "cell_type": "code",
      "source": [
        "class toy_set(Dataset):\n",
        "  def __init__(self, length=100, transform=None):\n",
        "    self.len = length\n",
        "    self.x = 2 * torch.ones(length, 2)  # tensor of 1s, two dimensions, mult per 2, number of elements=length\n",
        "    self.y = torch.ones(length, 1)  # tensor of 1s, one dimension, number of elements=length\n",
        "    self.transform = transform\n",
        "\n",
        "  def __getitem__(self, index):\n",
        "    sample = self.x[index], self.y[index]\n",
        "    if self.transform:\n",
        "      sample = self.transform(sample)\n",
        "    return sample\n",
        "\n",
        "  def __len__(self):\n",
        "    return self.len"
      ],
      "metadata": {
        "id": "KpQX5kr_Qcch"
      },
      "execution_count": 18,
      "outputs": []
    },
    {
      "cell_type": "code",
      "source": [
        "dataset = toy_set()\n",
        "\n",
        "print(len(dataset))\n",
        "\n",
        "print(dataset[0])\n",
        "\n",
        "for i in range(3):\n",
        "  x,y = dataset[i]\n",
        "  print(f\"x: {x}, y: {y}\")"
      ],
      "metadata": {
        "colab": {
          "base_uri": "https://localhost:8080/"
        },
        "id": "ZvZmcsDnQ6NZ",
        "outputId": "c8a28f63-b94f-4a74-9866-be55593d019a"
      },
      "execution_count": 19,
      "outputs": [
        {
          "output_type": "stream",
          "name": "stdout",
          "text": [
            "100\n",
            "(tensor([2., 2.]), tensor([1.]))\n",
            "x: tensor([2., 2.]), y: tensor([1.])\n",
            "x: tensor([2., 2.]), y: tensor([1.])\n",
            "x: tensor([2., 2.]), y: tensor([1.])\n"
          ]
        }
      ]
    },
    {
      "cell_type": "markdown",
      "source": [
        "**Transfrom** data\n",
        "in following example some classes will be created, these classese will apply *transforms* to the tensors"
      ],
      "metadata": {
        "id": "tv2HwAf2R5nr"
      }
    },
    {
      "cell_type": "code",
      "source": [
        "class add_mult(object):\n",
        "  def __init__(self, addx=1, muly=1):\n",
        "    self.addx=addx\n",
        "    self.muly=muly\n",
        "\n",
        "  def __call__(self, sample):\n",
        "    x=sample[0]\n",
        "    y=sample[1]\n",
        "    x=x+self.addx\n",
        "    y=y*self.muly\n",
        "    sample=x,y\n",
        "    return sample"
      ],
      "metadata": {
        "id": "3RwLH7eFR2Q0"
      },
      "execution_count": 20,
      "outputs": []
    },
    {
      "cell_type": "code",
      "source": [
        "dataset=toy_set()\n",
        "print(f\"Before transform: {dataset[0]}\")\n",
        "\n",
        "a_m = add_mult()\n",
        "print(a_m)\n",
        "\n",
        "x_,y_ = a_m(dataset[0])\n",
        "print(x_,y_)\n",
        "print(f\"Before transform: {x_} {y_}\")\n"
      ],
      "metadata": {
        "colab": {
          "base_uri": "https://localhost:8080/"
        },
        "id": "wLPQlxBgS03R",
        "outputId": "cc8763bf-6350-4bee-9182-c294d4247667"
      },
      "execution_count": 21,
      "outputs": [
        {
          "output_type": "stream",
          "name": "stdout",
          "text": [
            "Before transform: (tensor([2., 2.]), tensor([1.]))\n",
            "<__main__.add_mult object at 0x79085a066d10>\n",
            "tensor([3., 3.]) tensor([1.])\n",
            "Before transform: tensor([3., 3.]) tensor([1.])\n"
          ]
        }
      ]
    },
    {
      "cell_type": "code",
      "source": [
        "a_m = add_mult()\n",
        "dataset = toy_set(transform=a_m)\n",
        "print(dataset[0])"
      ],
      "metadata": {
        "colab": {
          "base_uri": "https://localhost:8080/"
        },
        "id": "YcgFWQvhTvYS",
        "outputId": "d8f7dd9d-9ee5-4101-83af-482972e6f76c"
      },
      "execution_count": 22,
      "outputs": [
        {
          "output_type": "stream",
          "name": "stdout",
          "text": [
            "(tensor([3., 3.]), tensor([1.]))\n"
          ]
        }
      ]
    },
    {
      "cell_type": "markdown",
      "source": [
        "Transform **Compose** class"
      ],
      "metadata": {
        "id": "1ZFw4OTyUVQt"
      }
    },
    {
      "cell_type": "code",
      "source": [
        "from torchvision import transforms"
      ],
      "metadata": {
        "id": "95XJo_ByUYQ6"
      },
      "execution_count": 23,
      "outputs": []
    },
    {
      "cell_type": "code",
      "source": [
        "class mult(object):\n",
        "  def __init__(self, mul=100):\n",
        "    self.mul=mul\n",
        "\n",
        "  def __call__(self, sample):\n",
        "    x=sample[0]\n",
        "    y=sample[1]\n",
        "    x=x*self.mul\n",
        "    y=y*self.mul\n",
        "    sample=x,y\n",
        "    return sample"
      ],
      "metadata": {
        "id": "isD4A15tU5OB"
      },
      "execution_count": 24,
      "outputs": []
    },
    {
      "cell_type": "code",
      "source": [
        "data_transform = transforms.Compose([add_mult(), mult()])\n",
        "\n",
        "x_, y_ = data_transform(dataset[0])\n",
        "print(f\"After transform: {x_} {y_}\")"
      ],
      "metadata": {
        "colab": {
          "base_uri": "https://localhost:8080/"
        },
        "id": "5CBKXTpwUf_-",
        "outputId": "5728dfcd-7274-4e19-d90c-81a658ea0b8a"
      },
      "execution_count": 25,
      "outputs": [
        {
          "output_type": "stream",
          "name": "stdout",
          "text": [
            "After transform: tensor([400., 400.]) tensor([100.])\n"
          ]
        }
      ]
    },
    {
      "cell_type": "code",
      "source": [
        "dataset_ = toy_set(transform=data_transform)\n",
        "print(dataset_[0])"
      ],
      "metadata": {
        "colab": {
          "base_uri": "https://localhost:8080/"
        },
        "id": "Ldmjh0ZaVe8j",
        "outputId": "3c5493a1-d4ef-4ae4-fafe-e6be5b543044"
      },
      "execution_count": 26,
      "outputs": [
        {
          "output_type": "stream",
          "name": "stdout",
          "text": [
            "(tensor([300., 300.]), tensor([100.]))\n"
          ]
        }
      ]
    },
    {
      "cell_type": "markdown",
      "source": [
        "# Linear Regression\n",
        "linear equation"
      ],
      "metadata": {
        "id": "eAyc7wDbC-Xd"
      }
    },
    {
      "cell_type": "code",
      "source": [
        "w = torch.tensor(2., requires_grad=True) #weight\n",
        "b = torch.tensor(-1., requires_grad=True) #bias\n",
        "\n",
        "def forward(x):\n",
        "  y = w*x + b\n",
        "  return y\n",
        "\n",
        "x = torch.tensor([1.])\n",
        "\n",
        "yhat = forward(x)\n",
        "yhat"
      ],
      "metadata": {
        "colab": {
          "base_uri": "https://localhost:8080/"
        },
        "id": "RDXUGuMCDHZy",
        "outputId": "7fa20e3c-0147-4a42-e771-2152feb2f4b8"
      },
      "execution_count": 27,
      "outputs": [
        {
          "output_type": "execute_result",
          "data": {
            "text/plain": [
              "tensor([1.], grad_fn=<AddBackward0>)"
            ]
          },
          "metadata": {},
          "execution_count": 27
        }
      ]
    },
    {
      "cell_type": "markdown",
      "source": [
        "**linear class** package"
      ],
      "metadata": {
        "id": "qDE0judUE_nU"
      }
    },
    {
      "cell_type": "code",
      "source": [
        "from torch.nn import Linear"
      ],
      "metadata": {
        "id": "AkDNGLeMFDl-"
      },
      "execution_count": 28,
      "outputs": []
    },
    {
      "cell_type": "code",
      "source": [
        "# slope and bias randomly intialized, set seed to get same result at each run\n",
        "torch.manual_seed(1)\n",
        "\n",
        "# in_features => number of input cols\n",
        "# out_features => size of each output sample\n",
        "model = Linear(in_features=1, out_features=1)\n",
        "\n",
        "# frist slope, secom bias\n",
        "print(list(model.parameters()))\n",
        "\n",
        "x = torch.tensor([0.])\n",
        "\n",
        "# forward method called implictly\n",
        "yhat = model(x)\n",
        "print(yhat)"
      ],
      "metadata": {
        "colab": {
          "base_uri": "https://localhost:8080/"
        },
        "id": "WZwGxnoPFGK0",
        "outputId": "0c72407b-1233-4c21-a149-573718bca6fb"
      },
      "execution_count": 29,
      "outputs": [
        {
          "output_type": "stream",
          "name": "stdout",
          "text": [
            "[Parameter containing:\n",
            "tensor([[0.5153]], requires_grad=True), Parameter containing:\n",
            "tensor([-0.4414], requires_grad=True)]\n",
            "tensor([-0.4414], grad_fn=<ViewBackward0>)\n"
          ]
        }
      ]
    },
    {
      "cell_type": "markdown",
      "source": [
        "**custom module** package - wrap mutliple models together to make more complex modules"
      ],
      "metadata": {
        "id": "RqiHvbtpGpeA"
      }
    },
    {
      "cell_type": "code",
      "source": [
        "import torch.nn as nn"
      ],
      "metadata": {
        "id": "QpyKI-NgGsmR"
      },
      "execution_count": 30,
      "outputs": []
    },
    {
      "cell_type": "code",
      "source": [
        "class LR(nn.Module):\n",
        "  def __init__(self, input_size, output_size):\n",
        "    super(LR, self).__init__()\n",
        "    self.linear=nn.Linear(input_size, output_size)\n",
        "\n",
        "  def forward(self, x):\n",
        "    out=self.linear(x)\n",
        "    return out"
      ],
      "metadata": {
        "id": "zQ2Nn9AjH3wF"
      },
      "execution_count": 31,
      "outputs": []
    },
    {
      "cell_type": "code",
      "source": [
        "model = LR(1,1)\n",
        "\n",
        "model.state_dict()['linear.weight'].data[0] = torch.tensor([0.5153])\n",
        "model.state_dict()['linear.bias'].data[0] = torch.tensor([-0.4414])\n",
        "\n",
        "print(list(model.parameters()))\n",
        "\n",
        "x = torch.tensor([1.0])\n",
        "yhat = model(x)\n",
        "print(yhat)"
      ],
      "metadata": {
        "colab": {
          "base_uri": "https://localhost:8080/"
        },
        "id": "DRw8Zxg5IM49",
        "outputId": "e017e88a-380f-42bc-8f66-9a405b3b7391"
      },
      "execution_count": 32,
      "outputs": [
        {
          "output_type": "stream",
          "name": "stdout",
          "text": [
            "[Parameter containing:\n",
            "tensor([[0.5153]], requires_grad=True), Parameter containing:\n",
            "tensor([-0.4414], requires_grad=True)]\n",
            "tensor([0.0739], grad_fn=<ViewBackward0>)\n"
          ]
        }
      ]
    },
    {
      "cell_type": "markdown",
      "source": [
        "# Gradient descent"
      ],
      "metadata": {
        "id": "7kgTar3ruyks"
      }
    },
    {
      "cell_type": "code",
      "source": [
        "w = torch.tensor(-10., requires_grad=True)\n",
        "\n",
        "X = torch.arange(-3,3,0.1).view(-1,1)\n",
        "f = -3*X\n",
        "\n",
        "plt.plot(X.numpy(), f.numpy())\n",
        "plt.show"
      ],
      "metadata": {
        "colab": {
          "base_uri": "https://localhost:8080/",
          "height": 600
        },
        "id": "vpEyuXeRu032",
        "outputId": "4ee5f5d6-139c-4b01-9385-3ffa0b88bb3e"
      },
      "execution_count": 33,
      "outputs": [
        {
          "output_type": "execute_result",
          "data": {
            "text/plain": [
              "<function matplotlib.pyplot.show(close=None, block=None)>"
            ],
            "text/html": [
              "<div style=\"max-width:800px; border: 1px solid var(--colab-border-color);\"><style>\n",
              "      pre.function-repr-contents {\n",
              "        overflow-x: auto;\n",
              "        padding: 8px 12px;\n",
              "        max-height: 500px;\n",
              "      }\n",
              "\n",
              "      pre.function-repr-contents.function-repr-contents-collapsed {\n",
              "        cursor: pointer;\n",
              "        max-height: 100px;\n",
              "      }\n",
              "    </style>\n",
              "    <pre style=\"white-space: initial; background:\n",
              "         var(--colab-secondary-surface-color); padding: 8px 12px;\n",
              "         border-bottom: 1px solid var(--colab-border-color);\"><b>matplotlib.pyplot.show</b><br/>def show(*args, **kwargs) -&gt; None</pre><pre class=\"function-repr-contents function-repr-contents-collapsed\" style=\"\"><a class=\"filepath\" style=\"display:none\" href=\"#\">/usr/local/lib/python3.11/dist-packages/matplotlib/pyplot.py</a>Display all open figures.\n",
              "\n",
              "Parameters\n",
              "----------\n",
              "block : bool, optional\n",
              "    Whether to wait for all figures to be closed before returning.\n",
              "\n",
              "    If `True` block and run the GUI main loop until all figure windows\n",
              "    are closed.\n",
              "\n",
              "    If `False` ensure that all figure windows are displayed and return\n",
              "    immediately.  In this case, you are responsible for ensuring\n",
              "    that the event loop is running to have responsive figures.\n",
              "\n",
              "    Defaults to True in non-interactive mode and to False in interactive\n",
              "    mode (see `.pyplot.isinteractive`).\n",
              "\n",
              "See Also\n",
              "--------\n",
              "ion : Enable interactive mode, which shows / updates the figure after\n",
              "      every plotting command, so that calling ``show()`` is not necessary.\n",
              "ioff : Disable interactive mode.\n",
              "savefig : Save the figure to an image file instead of showing it on screen.\n",
              "\n",
              "Notes\n",
              "-----\n",
              "**Saving figures to file and showing a window at the same time**\n",
              "\n",
              "If you want an image file as well as a user interface window, use\n",
              "`.pyplot.savefig` before `.pyplot.show`. At the end of (a blocking)\n",
              "``show()`` the figure is closed and thus unregistered from pyplot. Calling\n",
              "`.pyplot.savefig` afterwards would save a new and thus empty figure. This\n",
              "limitation of command order does not apply if the show is non-blocking or\n",
              "if you keep a reference to the figure and use `.Figure.savefig`.\n",
              "\n",
              "**Auto-show in jupyter notebooks**\n",
              "\n",
              "The jupyter backends (activated via ``%matplotlib inline``,\n",
              "``%matplotlib notebook``, or ``%matplotlib widget``), call ``show()`` at\n",
              "the end of every cell by default. Thus, you usually don&#x27;t have to call it\n",
              "explicitly there.</pre>\n",
              "      <script>\n",
              "      if (google.colab.kernel.accessAllowed && google.colab.files && google.colab.files.view) {\n",
              "        for (const element of document.querySelectorAll('.filepath')) {\n",
              "          element.style.display = 'block'\n",
              "          element.onclick = (event) => {\n",
              "            event.preventDefault();\n",
              "            event.stopPropagation();\n",
              "            google.colab.files.view(element.textContent, 569);\n",
              "          };\n",
              "        }\n",
              "      }\n",
              "      for (const element of document.querySelectorAll('.function-repr-contents')) {\n",
              "        element.onclick = (event) => {\n",
              "          event.preventDefault();\n",
              "          event.stopPropagation();\n",
              "          element.classList.toggle('function-repr-contents-collapsed');\n",
              "        };\n",
              "      }\n",
              "      </script>\n",
              "      </div>"
            ]
          },
          "metadata": {},
          "execution_count": 33
        },
        {
          "output_type": "display_data",
          "data": {
            "text/plain": [
              "<Figure size 640x480 with 1 Axes>"
            ],
            "image/png": "[encoded data removed]"
          },
          "metadata": {}
        }
      ]
    },
    {
      "cell_type": "code",
      "source": [
        "# add random noise over the line\n",
        "Y = f+0.1*torch.randn(X.size())\n",
        "\n",
        "plt.plot(X.numpy(), Y.numpy(),'ro')\n",
        "plt.show()"
      ],
      "metadata": {
        "colab": {
          "base_uri": "https://localhost:8080/",
          "height": 430
        },
        "id": "R3NoMFcDvhZC",
        "outputId": "ad1aa852-bf74-4324-e9d3-5619fa2e84b0"
      },
      "execution_count": 34,
      "outputs": [
        {
          "output_type": "display_data",
          "data": {
            "text/plain": [
              "<Figure size 640x480 with 1 Axes>"
            ],
            "image/png": "[encoded data removed]"
          },
          "metadata": {}
        }
      ]
    },
    {
      "cell_type": "code",
      "source": [
        "def forward(x):\n",
        "  return w*x\n",
        "\n",
        "# define loss function as mse\n",
        "def criterion(yhat, y):\n",
        "  return torch.mean((yhat-2)**2)\n",
        "\n",
        "\n",
        "# set learing rete\n",
        "lr=0.1\n",
        "\n",
        "cost=[]\n",
        "\n",
        "for epoch in range(4):\n",
        "  Yhat = forward(X)\n",
        "  loss = criterion(Yhat, Y)\n",
        "  # calc dericative with respect to all the variables in loss func\n",
        "  loss.backward()\n",
        "  # update the weights based on current data and the gradient times the lr\n",
        "  w.data = w.data - lr*w.grad.data\n",
        "  # set gradient to zero, this way the gradient in the next cycle will be only based on the updated weights\n",
        "  w.grad.data.zero_()\n",
        "  print(f\"epoch: {epoch}, loss: {loss.item()}\")\n",
        "\n",
        "  cost.append(loss.item())"
      ],
      "metadata": {
        "colab": {
          "base_uri": "https://localhost:8080/"
        },
        "id": "y1S7JiBAvtu2",
        "outputId": "e0dd80c5-c778-4bb3-ab5e-82c00286e557"
      },
      "execution_count": 35,
      "outputs": [
        {
          "output_type": "stream",
          "name": "stdout",
          "text": [
            "epoch: 0, loss: 302.1666564941406\n",
            "epoch: 1, loss: 51.624366760253906\n",
            "epoch: 2, loss: 11.604402542114258\n",
            "epoch: 3, loss: 5.211877346038818\n"
          ]
        }
      ]
    },
    {
      "cell_type": "markdown",
      "source": [
        "N.B. cost = avarage loss"
      ],
      "metadata": {
        "id": "c77HK2Lc1Fma"
      }
    },
    {
      "cell_type": "code",
      "source": [
        "# graph, avarage loss per epoch\n",
        "plt.plot(range(len(cost)), cost)\n",
        "plt.xlabel('Epoch')\n",
        "plt.ylabel('Cost')\n",
        "plt.title('Training Loss Over Epochs')\n",
        "plt.show()"
      ],
      "metadata": {
        "colab": {
          "base_uri": "https://localhost:8080/",
          "height": 472
        },
        "id": "5dHPc4pfyXlU",
        "outputId": "6966e25d-170a-4e28-c004-dc289e51c77e"
      },
      "execution_count": 36,
      "outputs": [
        {
          "output_type": "display_data",
          "data": {
            "text/plain": [
              "<Figure size 640x480 with 1 Axes>"
            ],
            "image/png": "[encoded data removed]"
          },
          "metadata": {}
        }
      ]
    },
    {
      "cell_type": "markdown",
      "source": [
        "In true linear regression, the cost function is of two variables the slope and bias, to truly capture the loss we have to consider both weights and biases as below\n",
        "\n",
        "The cost is the average loss, it's a function of the slope.\n",
        "The slope controls the relationship between x and y while the bias controls the horizontal offset.\n"
      ],
      "metadata": {
        "id": "Wc0Mz8J732G-"
      }
    },
    {
      "cell_type": "code",
      "source": [
        "def forward(x):\n",
        "  return w*x + b\n",
        "\n",
        "# define loss function as mse\n",
        "def criterion(yhat, y):\n",
        "  return torch.mean((yhat-2)**2)\n",
        "\n",
        "w = torch.tensor(-15., requires_grad=True)\n",
        "b = torch.tensor(-10., requires_grad=True)\n",
        "X = torch.arange(-3,3,0.1).view(-1,1)\n",
        "f = 1*x-1\n",
        "Y = f+0.1*torch.randn(X.size())\n",
        "\n",
        "lr=0.1\n",
        "\n",
        "cost=[]\n",
        "\n",
        "for epoch in range(10):\n",
        "  Yhat = forward(X)\n",
        "  loss = criterion(Yhat, Y)\n",
        "\n",
        "  # calc dericative\n",
        "  loss.backward()\n",
        "\n",
        "  # update the weights\n",
        "  w.data = w.data - lr*w.grad.data\n",
        "  w.grad.data.zero_()\n",
        "\n",
        "  # update the biases\n",
        "  b.data = b.data - lr*b.grad.data\n",
        "  b.grad.data.zero_()\n",
        "\n",
        "  print(f\"epoch: {epoch}, loss: {loss.item()}\")\n",
        "\n",
        "  cost.append(loss.item())"
      ],
      "metadata": {
        "colab": {
          "base_uri": "https://localhost:8080/"
        },
        "id": "4dpt0D6S2ms9",
        "outputId": "a1867ca3-b356-4cd1-cba4-b7ace0f8f84d"
      },
      "execution_count": 37,
      "outputs": [
        {
          "output_type": "stream",
          "name": "stdout",
          "text": [
            "epoch: 0, loss: 801.375\n",
            "epoch: 1, loss: 201.34234619140625\n",
            "epoch: 2, loss: 79.18762969970703\n",
            "epoch: 3, loss: 42.77460479736328\n",
            "epoch: 4, loss: 26.1265926361084\n",
            "epoch: 5, loss: 16.52944564819336\n",
            "epoch: 6, loss: 10.553221702575684\n",
            "epoch: 7, loss: 6.753136157989502\n",
            "epoch: 8, loss: 4.3238844871521\n",
            "epoch: 9, loss: 2.7688825130462646\n"
          ]
        }
      ]
    },
    {
      "cell_type": "code",
      "source": [
        "# graph, avarage loss per epoch\n",
        "plt.plot(range(len(cost)), cost)\n",
        "plt.xlabel('Epoch')\n",
        "plt.ylabel('Cost')\n",
        "plt.title('Training Loss Over Epochs')\n",
        "plt.show()"
      ],
      "metadata": {
        "colab": {
          "base_uri": "https://localhost:8080/",
          "height": 472
        },
        "id": "GU2At8RC3ZbF",
        "outputId": "a972554b-e381-410a-c428-ee0dea8f0714"
      },
      "execution_count": 38,
      "outputs": [
        {
          "output_type": "display_data",
          "data": {
            "text/plain": [
              "<Figure size 640x480 with 1 Axes>"
            ],
            "image/png": "[encoded data removed]"
          },
          "metadata": {}
        }
      ]
    },
    {
      "cell_type": "markdown",
      "source": [
        "# SGD w/ Optimizer"
      ],
      "metadata": {
        "id": "5t0cknbk0YC5"
      }
    },
    {
      "cell_type": "code",
      "source": [
        "from torch import nn, optim\n",
        "from torch.utils.data import Dataset, DataLoader"
      ],
      "metadata": {
        "id": "MJxDZu2v0bD5"
      },
      "execution_count": 39,
      "outputs": []
    },
    {
      "cell_type": "code",
      "source": [
        "class LR(nn.Module):\n",
        "  def __init__(self, input_size, output_size):\n",
        "    super(LR, self).__init__()\n",
        "    self.linear=nn.Linear(input_size, output_size)\n",
        "\n",
        "  def forward(self, x):\n",
        "    out=self.linear(x)\n",
        "    return out\n",
        "\n",
        "criterion = nn.MSELoss()"
      ],
      "metadata": {
        "id": "koYGNAL40sU6"
      },
      "execution_count": 40,
      "outputs": []
    },
    {
      "cell_type": "code",
      "source": [
        "class Data(Dataset):\n",
        "\n",
        "    # Constructor\n",
        "    def __init__(self):\n",
        "        self.x = torch.arange(-3, 3, 0.1).view(-1, 1)\n",
        "        self.y = 1 * X - 1\n",
        "        self.len = self.x.shape[0]\n",
        "\n",
        "    # Getter\n",
        "    def __getitem__(self, index):\n",
        "        return self.x[index], self.y[index]\n",
        "\n",
        "    # Get length\n",
        "    def __len__(self):\n",
        "        return self.len\n",
        "\n",
        "dataset = Data()\n",
        "trainloader = DataLoader(dataset=dataset, batch_size=1)"
      ],
      "metadata": {
        "id": "743l_jHb1UGD"
      },
      "execution_count": 41,
      "outputs": []
    },
    {
      "cell_type": "code",
      "source": [
        "model = LR(1,1)\n",
        "\n",
        "optimizer = optim.SGD(model.parameters(), lr=0.01) # model.parameters() - contains all learnable parameters\n",
        "optimizer.state_dict()"
      ],
      "metadata": {
        "colab": {
          "base_uri": "https://localhost:8080/"
        },
        "id": "aYx0cHz-1wMy",
        "outputId": "a72c7ec9-4a44-44b9-b7e0-a7c219e1795a"
      },
      "execution_count": 42,
      "outputs": [
        {
          "output_type": "execute_result",
          "data": {
            "text/plain": [
              "{'state': {},\n",
              " 'param_groups': [{'lr': 0.01,\n",
              "   'momentum': 0,\n",
              "   'dampening': 0,\n",
              "   'weight_decay': 0,\n",
              "   'nesterov': False,\n",
              "   'maximize': False,\n",
              "   'foreach': None,\n",
              "   'differentiable': False,\n",
              "   'fused': None,\n",
              "   'params': [0, 1]}]}"
            ]
          },
          "metadata": {},
          "execution_count": 42
        }
      ]
    },
    {
      "cell_type": "code",
      "source": [
        "# loss and optimizer are implictly connected\n",
        "\n",
        "for epoch in range(10):\n",
        "  for x,y in trainloader:\n",
        "    yhat = forward(x)\n",
        "    loss = criterion(yhat, y)\n",
        "    optimizer.zero_grad()\n",
        "    loss.backward()\n",
        "    optimizer.step()  # automate the updates to weights and biases"
      ],
      "metadata": {
        "id": "JVMGmRoc1-dR"
      },
      "execution_count": 43,
      "outputs": []
    },
    {
      "cell_type": "markdown",
      "source": [
        "# Linear Class\n",
        "import and use linear class to perform linear regression in multiple dimensions"
      ],
      "metadata": {
        "id": "O_qkvevicteV"
      }
    },
    {
      "cell_type": "code",
      "source": [
        "from torch.nn import Linear"
      ],
      "metadata": {
        "id": "UF_uwVAfc2NY"
      },
      "execution_count": 44,
      "outputs": []
    },
    {
      "cell_type": "markdown",
      "source": [
        "![image.png](data:image/png;base64,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)"
      ],
      "metadata": {
        "id": "w_Q52GRCdPP_"
      }
    },
    {
      "cell_type": "code",
      "source": [
        "torch.manual_seed(1)\n",
        "\n",
        "model = Linear(in_features=2, out_features=1)\n",
        "\n",
        "# first weights, then bias\n",
        "print(\"parameters() function: \", list(model.parameters()))\n",
        "\n",
        "print(\"\\nstate_dict() function: \", model.state_dict())\n",
        "\n",
        "# 2 dim tensor - 3 row, 2 cols each\n",
        "x = torch.tensor([[1.,1.],[1.,2.],[1.,3.]])\n",
        "yhat = model(x)\n",
        "\n",
        "# result is 3 by 1 tensor - 1 col per row\n",
        "print(\"\\nyhat: \", yhat)"
      ],
      "metadata": {
        "id": "LKbq6ki1c9Xv",
        "outputId": "b0e38a86-58ab-4eb5-f3b3-2a92df6119d6",
        "colab": {
          "base_uri": "https://localhost:8080/"
        }
      },
      "execution_count": 45,
      "outputs": [
        {
          "output_type": "stream",
          "name": "stdout",
          "text": [
            "parameters() function:  [Parameter containing:\n",
            "tensor([[ 0.3643, -0.3121]], requires_grad=True), Parameter containing:\n",
            "tensor([-0.1371], requires_grad=True)]\n",
            "\n",
            "state_dict() function:  OrderedDict([('weight', tensor([[ 0.3643, -0.3121]])), ('bias', tensor([-0.1371]))])\n",
            "\n",
            "yhat:  tensor([[-0.0848],\n",
            "        [-0.3969],\n",
            "        [-0.7090]], grad_fn=<AddmmBackward0>)\n"
          ]
        }
      ]
    },
    {
      "cell_type": "markdown",
      "source": [
        "# Building NNs\n",
        "Create a logistic regression model using PyTorch and nn.Sequential package"
      ],
      "metadata": {
        "id": "qzkokcJcmBFE"
      }
    },
    {
      "cell_type": "code",
      "source": [
        "x = torch.arange(-3,3,0.1).view(-1,1)\n",
        "\n",
        "# logistic regression, so we add a sigmoid function at the end\n",
        "model = nn.Sequential(\n",
        "    nn.Linear(1,1),\n",
        "    nn.Sigmoid()\n",
        ")\n",
        "\n",
        "yhat = model(x)\n",
        "print(\"yhat[0]: \", yhat[0])"
      ],
      "metadata": {
        "colab": {
          "base_uri": "https://localhost:8080/"
        },
        "id": "Jt0BDtyDmaIt",
        "outputId": "5c3804a0-4c2b-4c48-ad44-d0370456251f"
      },
      "execution_count": 46,
      "outputs": [
        {
          "output_type": "stream",
          "name": "stdout",
          "text": [
            "yhat[0]:  tensor([0.0871], grad_fn=<SelectBackward0>)\n"
          ]
        }
      ]
    },
    {
      "cell_type": "code",
      "source": [
        "class logistic_regression(nn.Module):\n",
        "  def __init__(self, input_size):\n",
        "    super(logistic_regression, self).__init__()\n",
        "    self.linear = nn.Linear(input_size, 1)\n",
        "\n",
        "  def forward(self, x):\n",
        "    x = torch.sigmoid(self.linear(x))\n",
        "    return x\n",
        "\n",
        "model = logistic_regression(1)\n",
        "yhat = model(x)\n",
        "print(\"yhat[10]: \", yhat[10])"
      ],
      "metadata": {
        "colab": {
          "base_uri": "https://localhost:8080/"
        },
        "id": "ggFjx2omnHXf",
        "outputId": "c7e8fcff-73e8-426a-be3a-2719815a69eb"
      },
      "execution_count": 47,
      "outputs": [
        {
          "output_type": "stream",
          "name": "stdout",
          "text": [
            "yhat[10]:  tensor([0.1970], grad_fn=<SelectBackward0>)\n"
          ]
        }
      ]
    },
    {
      "cell_type": "markdown",
      "source": [
        "Implementing a loss function for the model"
      ],
      "metadata": {
        "id": "KkwLwN729vKn"
      }
    },
    {
      "cell_type": "code",
      "source": [
        "class logistic_regression(nn.Module):\n",
        "  def __init__(self, input_size):\n",
        "    super(logistic_regression, self).__init__()\n",
        "    self.linear = nn.Linear(input_size, 1)\n",
        "\n",
        "  def forward(self, x):\n",
        "    x = torch.sigmoid(self.linear(x))\n",
        "    return x\n",
        "\n",
        "  # cross entropy\n",
        "  #def criterion(yhat, y):\n",
        "    #out = -1 * torch.mean(y * torch.log(yhat) + (1 - y) * torch.log(1 - yhat)))\n",
        "    #return out\n",
        "\n",
        "# alternative cross entropy loss\n",
        "criterion = nn.BCELoss()\n",
        "\n",
        "class Data(Dataset):\n",
        "\n",
        "    # Constructor\n",
        "    def __init__(self):\n",
        "        self.x = torch.arange(-1, 1, 0.1).view(-1, 1)\n",
        "        self.y = torch.zeros(self.x.shape[0], 1)\n",
        "        self.y[self.x[:, 0] > 0.2] = 1\n",
        "        self.len = self.x.shape[0]\n",
        "\n",
        "    # Getter\n",
        "    def __getitem__(self, index):\n",
        "        return self.x[index], self.y[index]\n",
        "\n",
        "    # Get Length\n",
        "    def __len__(self):\n",
        "        return self.len\n",
        "\n",
        "dataset = Data()\n",
        "trainloader = DataLoader(dataset=dataset, batch_size=1)\n",
        "\n",
        "model = logistic_regression(1)\n",
        "optimizer = optim.SGD(model.parameters(), lr=0.01)\n",
        "\n",
        "for epoch in range(100):\n",
        "  for x, y in trainloader:\n",
        "    yhat = model(x)\n",
        "    loss = criterion(yhat, y)\n",
        "    optimizer.zero_grad()\n",
        "    loss.backward()\n",
        "    optimizer.step()"
      ],
      "metadata": {
        "id": "2-PDNRcM9y2z"
      },
      "execution_count": 55,
      "outputs": []
    }
  ]
}