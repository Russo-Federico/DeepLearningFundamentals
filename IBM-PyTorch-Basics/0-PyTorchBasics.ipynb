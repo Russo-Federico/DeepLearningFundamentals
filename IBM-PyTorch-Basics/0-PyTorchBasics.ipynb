{
  "nbformat": 4,
  "nbformat_minor": 0,
  "metadata": {
    "colab": {
      "provenance": [],
      "authorship_tag": "ABX9TyNHPiS3jFjK8bsg8rT4EKBu",
      "include_colab_link": true
    },
    "kernelspec": {
      "name": "python3",
      "display_name": "Python 3"
    },
    "language_info": {
      "name": "python"
    }
  },
  "cells": [
    {
      "cell_type": "markdown",
      "metadata": {
        "id": "view-in-github",
        "colab_type": "text"
      },
      "source": [
        "<a href=\"https://colab.research.google.com/github/Russo-Federico/DeepLearningFundamentals/blob/main/IBM-PyTorch-Basics/0-PyTorchBasics.ipynb\" target=\"_parent\"><img src=\"https://colab.research.google.com/assets/colab-badge.svg\" alt=\"Open In Colab\"/></a>"
      ]
    },
    {
      "cell_type": "code",
      "execution_count": 1,
      "metadata": {
        "id": "235qZawiGTAE"
      },
      "outputs": [],
      "source": [
        "import torch\n",
        "import numpy as np\n",
        "import matplotlib.pyplot as plt\n",
        "import pandas as pd"
      ]
    },
    {
      "cell_type": "markdown",
      "source": [
        "Basic operations on tensors"
      ],
      "metadata": {
        "id": "Du7_JvzvGdk4"
      }
    },
    {
      "cell_type": "code",
      "source": [
        "torch_tensor = torch.tensor([1,2,3,4,5])\n",
        "print(torch_tensor)\n",
        "\n",
        "torch_tensor_casting = torch.tensor([1,2,3,4,5], dtype=torch.float32)\n",
        "print(torch_tensor_casting)\n",
        "\n",
        "print(torch_tensor.dtype)\n",
        "print(torch_tensor.type())\n",
        "\n",
        "print(torch_tensor.ndimension())\n",
        "a_col = torch_tensor.view(-1,1)\n",
        "print(a_col)"
      ],
      "metadata": {
        "colab": {
          "base_uri": "https://localhost:8080/"
        },
        "id": "kJc2vxw1GcDM",
        "outputId": "cf6825ac-fd18-4017-a4be-d5f390a3ddf6"
      },
      "execution_count": 2,
      "outputs": [
        {
          "output_type": "stream",
          "name": "stdout",
          "text": [
            "tensor([1, 2, 3, 4, 5])\n",
            "tensor([1., 2., 3., 4., 5.])\n",
            "torch.int64\n",
            "torch.LongTensor\n",
            "1\n",
            "tensor([[1],\n",
            "        [2],\n",
            "        [3],\n",
            "        [4],\n",
            "        [5]])\n"
          ]
        }
      ]
    },
    {
      "cell_type": "markdown",
      "source": [
        "**N.B.** each element of a tensor is a tensor itself, to get the python number use the .item() funciton"
      ],
      "metadata": {
        "id": "-1UIwsimIjwD"
      }
    },
    {
      "cell_type": "code",
      "source": [
        "print(torch_tensor[0])\n",
        "print(torch_tensor[0].item())"
      ],
      "metadata": {
        "colab": {
          "base_uri": "https://localhost:8080/"
        },
        "id": "HceJthPtIU--",
        "outputId": "265c305e-706f-4111-a671-9cbffefdf70c"
      },
      "execution_count": 3,
      "outputs": [
        {
          "output_type": "stream",
          "name": "stdout",
          "text": [
            "tensor(1)\n",
            "1\n"
          ]
        }
      ]
    },
    {
      "cell_type": "code",
      "source": [
        "section_tensor = torch_tensor[1:3]\n",
        "print(section_tensor)"
      ],
      "metadata": {
        "colab": {
          "base_uri": "https://localhost:8080/"
        },
        "id": "lJBPnbijIvrS",
        "outputId": "805436df-e04e-4e43-c38c-fcbac2a2d483"
      },
      "execution_count": 4,
      "outputs": [
        {
          "output_type": "stream",
          "name": "stdout",
          "text": [
            "tensor([2, 3])\n"
          ]
        }
      ]
    },
    {
      "cell_type": "markdown",
      "source": [
        "assign new values to tensor elements"
      ],
      "metadata": {
        "id": "seJMk_RaI9mp"
      }
    },
    {
      "cell_type": "code",
      "source": [
        "# single value\n",
        "torch_tensor[2] = 7\n",
        "print(torch_tensor)\n",
        "print(section_tensor)\n",
        "\n",
        "# multiple values\n",
        "torch_tensor[1:3] = torch.tensor([27, 45])\n",
        "print(torch_tensor)\n",
        "print(section_tensor)"
      ],
      "metadata": {
        "colab": {
          "base_uri": "https://localhost:8080/"
        },
        "id": "PM5qLXszJAeg",
        "outputId": "7b41d5b2-72ce-479c-901e-d02c9f9afdca"
      },
      "execution_count": 5,
      "outputs": [
        {
          "output_type": "stream",
          "name": "stdout",
          "text": [
            "tensor([1, 2, 7, 4, 5])\n",
            "tensor([2, 7])\n",
            "tensor([ 1, 27, 45,  4,  5])\n",
            "tensor([27, 45])\n"
          ]
        }
      ]
    },
    {
      "cell_type": "markdown",
      "source": [
        "N.B as can be seen above, the tensor rifer to the original, so changing one changes all the others"
      ],
      "metadata": {
        "id": "z3mwDT9UJsA7"
      }
    },
    {
      "cell_type": "markdown",
      "source": [
        "Flowless integration within the python environment"
      ],
      "metadata": {
        "id": "-PFgL2MxHp4p"
      }
    },
    {
      "cell_type": "code",
      "source": [
        "numpy_array = np.array([9,8,7,6])\n",
        "print(numpy_array)\n",
        "\n",
        "to_torch = torch.from_numpy(numpy_array)\n",
        "print(to_torch)\n",
        "\n",
        "back_to_numpy = to_torch.numpy()\n",
        "print(back_to_numpy)"
      ],
      "metadata": {
        "colab": {
          "base_uri": "https://localhost:8080/"
        },
        "id": "TMO2z_-gHmmQ",
        "outputId": "8130e951-6d89-4bab-9e23-8a32bf807162"
      },
      "execution_count": 6,
      "outputs": [
        {
          "output_type": "stream",
          "name": "stdout",
          "text": [
            "[9 8 7 6]\n",
            "tensor([9, 8, 7, 6])\n",
            "[9 8 7 6]\n"
          ]
        }
      ]
    },
    {
      "cell_type": "markdown",
      "source": [
        "# Basic Operations"
      ],
      "metadata": {
        "id": "Mkzi6oRFJ4rm"
      }
    },
    {
      "cell_type": "code",
      "source": [
        "# init\n",
        "a = torch.tensor([1,2])\n",
        "b = torch.tensor([3,4])\n",
        "\n",
        "c = a+b\n",
        "print(c)\n",
        "\n",
        "# scalar product\n",
        "c = c * 2\n",
        "print(c)\n",
        "\n",
        "# tensor product\n",
        "c = a * b\n",
        "print(c)\n",
        "\n",
        "# dot product\n",
        "c = torch.dot(a,b)\n",
        "print(c)\n",
        "\n",
        "# adding constant\n",
        "c = a + 2\n",
        "print(c)"
      ],
      "metadata": {
        "colab": {
          "base_uri": "https://localhost:8080/"
        },
        "id": "HfVZHb44KCVD",
        "outputId": "90e820e8-910f-4e28-b73b-3dbedec2eccf"
      },
      "execution_count": 7,
      "outputs": [
        {
          "output_type": "stream",
          "name": "stdout",
          "text": [
            "tensor([4, 6])\n",
            "tensor([ 8, 12])\n",
            "tensor([3, 8])\n",
            "tensor(11)\n",
            "tensor([3, 4])\n"
          ]
        }
      ]
    },
    {
      "cell_type": "markdown",
      "source": [
        "**universal functions**"
      ],
      "metadata": {
        "id": "eDKMm34mLcgm"
      }
    },
    {
      "cell_type": "code",
      "source": [
        "a_float = a.type(torch.FloatTensor)\n",
        "print(a_float)\n",
        "\n",
        "# get mean\n",
        "mean_a = a_float.mean()\n",
        "print(mean_a)\n",
        "\n",
        "# get max\n",
        "a_max = a.max()\n",
        "print(a_max)"
      ],
      "metadata": {
        "colab": {
          "base_uri": "https://localhost:8080/"
        },
        "id": "sf_b__edKbXp",
        "outputId": "b74eae8f-87b1-43b8-ad6a-74afa9f47ff8"
      },
      "execution_count": 8,
      "outputs": [
        {
          "output_type": "stream",
          "name": "stdout",
          "text": [
            "tensor([1., 2.])\n",
            "tensor(1.5000)\n",
            "tensor(2)\n"
          ]
        }
      ]
    },
    {
      "cell_type": "code",
      "source": [
        "# linspace ideal for plotting funcitons\n",
        "x = torch.linspace(-5,5,11) #starting point, ending point, steps\n",
        "print(x)\n",
        "\n",
        "y = torch.sin(x)\n",
        "print(y)\n",
        "\n",
        "plt.plot(x.numpy(), y.numpy())"
      ],
      "metadata": {
        "colab": {
          "base_uri": "https://localhost:8080/",
          "height": 501
        },
        "id": "xmsZkkdtMuIP",
        "outputId": "ca1c23a0-0977-469d-dcce-319c882033f1"
      },
      "execution_count": 9,
      "outputs": [
        {
          "output_type": "stream",
          "name": "stdout",
          "text": [
            "tensor([-5., -4., -3., -2., -1.,  0.,  1.,  2.,  3.,  4.,  5.])\n",
            "tensor([ 0.9589,  0.7568, -0.1411, -0.9093, -0.8415,  0.0000,  0.8415,  0.9093,\n",
            "         0.1411, -0.7568, -0.9589])\n"
          ]
        },
        {
          "output_type": "execute_result",
          "data": {
            "text/plain": [
              "[<matplotlib.lines.Line2D at 0x7827530436d0>]"
            ]
          },
          "metadata": {},
          "execution_count": 9
        },
        {
          "output_type": "display_data",
          "data": {
            "text/plain": [
              "<Figure size 640x480 with 1 Axes>"
            ],
            "image/png": "[encoded data removed]"
          },
          "metadata": {}
        }
      ]
    },
    {
      "cell_type": "markdown",
      "source": [
        "# 2D Tensors"
      ],
      "metadata": {
        "id": "7AtjZolviivh"
      }
    },
    {
      "cell_type": "markdown",
      "source": [
        "Create 2D tensors"
      ],
      "metadata": {
        "id": "fDjsOZ9PkUwN"
      }
    },
    {
      "cell_type": "code",
      "source": [
        "a = [[0,1,2],[3,4,5],[6,7,8]]\n",
        "\n",
        "my_tensor = torch.tensor(a)\n",
        "print(my_tensor)\n",
        "\n",
        "# rows and cols\n",
        "print(\"Tensor size: \", my_tensor.shape)\n",
        "\n",
        "# dimensions: 3x3 => 2 dim\n",
        "print(\"Dimensions: \", my_tensor.ndimension())\n",
        "\n",
        "print(\"Number of elements: \", my_tensor.numel())"
      ],
      "metadata": {
        "colab": {
          "base_uri": "https://localhost:8080/"
        },
        "id": "3xplws-wkYPb",
        "outputId": "db7e96c7-1d11-4f97-a0f2-bc248fb4ccb7"
      },
      "execution_count": 10,
      "outputs": [
        {
          "output_type": "stream",
          "name": "stdout",
          "text": [
            "tensor([[0, 1, 2],\n",
            "        [3, 4, 5],\n",
            "        [6, 7, 8]])\n",
            "Tensor size:  torch.Size([3, 3])\n",
            "Dimensions:  2\n",
            "Number of elements:  9\n"
          ]
        }
      ]
    },
    {
      "cell_type": "markdown",
      "source": [
        "**Indexing & Slicing**"
      ],
      "metadata": {
        "id": "rEJGeSxamGhA"
      }
    },
    {
      "cell_type": "code",
      "source": [
        "print(my_tensor[1][0])\n",
        "\n",
        "print(my_tensor[0,1:])\n",
        "\n",
        "print(my_tensor[1:,2])\n",
        "\n",
        "print(my_tensor[1:,:-1])"
      ],
      "metadata": {
        "colab": {
          "base_uri": "https://localhost:8080/"
        },
        "id": "VSbCybJ1mPks",
        "outputId": "86cfa3b2-bcf0-4b0d-ee8f-62a340e7ac05"
      },
      "execution_count": 11,
      "outputs": [
        {
          "output_type": "stream",
          "name": "stdout",
          "text": [
            "tensor(3)\n",
            "tensor([1, 2])\n",
            "tensor([5, 8])\n",
            "tensor([[3, 4],\n",
            "        [6, 7]])\n"
          ]
        }
      ]
    },
    {
      "cell_type": "markdown",
      "source": [
        "**Operations on 2D Tensors**"
      ],
      "metadata": {
        "id": "DvII6Sucno7v"
      }
    },
    {
      "cell_type": "code",
      "source": [
        "x = torch.tensor([[1,0],[0,1]])\n",
        "y = torch.tensor([[2,1],[1,2]])\n",
        "\n",
        "print(f\"x: {x}\")\n",
        "print(f\"y: {y}\")"
      ],
      "metadata": {
        "colab": {
          "base_uri": "https://localhost:8080/"
        },
        "id": "YiXWcZ5Vnk4I",
        "outputId": "d6366df3-93c8-4238-d20b-d11ea923f33c"
      },
      "execution_count": 12,
      "outputs": [
        {
          "output_type": "stream",
          "name": "stdout",
          "text": [
            "x: tensor([[1, 0],\n",
            "        [0, 1]])\n",
            "y: tensor([[2, 1],\n",
            "        [1, 2]])\n"
          ]
        }
      ]
    },
    {
      "cell_type": "code",
      "source": [
        "# add\n",
        "z = x + y\n",
        "print(z)\n",
        "\n",
        "# multiply scalar\n",
        "z = 2*z\n",
        "print(z)\n",
        "\n",
        "# hadamard product\n",
        "z = x*y\n",
        "print(z)\n",
        "\n",
        "# matrix multiplications\n",
        "a = torch.tensor([[0,1,1],[1,0,1]])\n",
        "b = torch.tensor([[1,1],[1,1],[-1,1]])\n",
        "c = torch.mm(a,b)\n",
        "print(c)"
      ],
      "metadata": {
        "colab": {
          "base_uri": "https://localhost:8080/"
        },
        "id": "-UlbqrFAoRUJ",
        "outputId": "f70a7b34-c217-4042-d75e-f2a8b8d10bb9"
      },
      "execution_count": 13,
      "outputs": [
        {
          "output_type": "stream",
          "name": "stdout",
          "text": [
            "tensor([[3, 1],\n",
            "        [1, 3]])\n",
            "tensor([[6, 2],\n",
            "        [2, 6]])\n",
            "tensor([[2, 0],\n",
            "        [0, 2]])\n",
            "tensor([[0, 2],\n",
            "        [0, 2]])\n"
          ]
        }
      ]
    },
    {
      "cell_type": "markdown",
      "source": [
        "# Differencition\n",
        "<br>\n",
        "calculating derivatives of a loss function with respect of model parameters to update weights and biases"
      ],
      "metadata": {
        "id": "lvEbIFwj8Baf"
      }
    },
    {
      "cell_type": "code",
      "source": [
        "# requires_grad => enable gradient tracking\n",
        "# Track operations on this tensor, because I’ll want to compute gradients with respect to it later\n",
        "x = torch.tensor(2., requires_grad=True)\n",
        "y = x**2\n",
        "\n",
        "# calculate derivative of y\n",
        "y.backward()\n",
        "print(x.grad)\n",
        "\n",
        "x = torch.tensor(2., requires_grad=True)\n",
        "z = x**2 + 2*x + 1\n",
        "z.backward()\n",
        "print(x.grad)"
      ],
      "metadata": {
        "colab": {
          "base_uri": "https://localhost:8080/"
        },
        "id": "Efjrbtv_8SZO",
        "outputId": "28cf3ef7-d7f4-4e1d-c7c9-b2d810d1cc7a"
      },
      "execution_count": 14,
      "outputs": [
        {
          "output_type": "stream",
          "name": "stdout",
          "text": [
            "tensor(4.)\n",
            "tensor(6.)\n"
          ]
        }
      ]
    },
    {
      "cell_type": "markdown",
      "source": [
        "Partial derivatives"
      ],
      "metadata": {
        "id": "fx9b3Dg_-HF-"
      }
    },
    {
      "cell_type": "code",
      "source": [
        "u = torch.tensor(1., requires_grad=True)\n",
        "v = torch.tensor(2., requires_grad=True)\n",
        "\n",
        "f = u*v + u**2\n",
        "\n",
        "f.backward()\n",
        "print(u.grad)\n",
        "print(v.grad)"
      ],
      "metadata": {
        "colab": {
          "base_uri": "https://localhost:8080/"
        },
        "id": "dPkqJUjn-FK2",
        "outputId": "be0c454d-6fed-4ec3-8b18-dee874fb6332"
      },
      "execution_count": 15,
      "outputs": [
        {
          "output_type": "stream",
          "name": "stdout",
          "text": [
            "tensor(4.)\n",
            "tensor(1.)\n"
          ]
        }
      ]
    },
    {
      "cell_type": "markdown",
      "source": [
        "# Datasets"
      ],
      "metadata": {
        "id": "GcojDCDAQXde"
      }
    },
    {
      "cell_type": "code",
      "source": [
        "from torch.utils.data import Dataset"
      ],
      "metadata": {
        "id": "KyTUC6w-QZd4"
      },
      "execution_count": 16,
      "outputs": []
    },
    {
      "cell_type": "code",
      "source": [
        "class toy_set(Dataset):\n",
        "  def __init__(self, length=100, transform=None):\n",
        "    self.len = length\n",
        "    self.x = 2 * torch.ones(length, 2)  # tensor of 1s, two dimensions, mult per 2, number of elements=length\n",
        "    self.y = torch.ones(length, 1)  # tensor of 1s, one dimension, number of elements=length\n",
        "    self.transform = transform\n",
        "\n",
        "  def __getitem__(self, index):\n",
        "    sample = self.x[index], self.y[index]\n",
        "    if self.transform:\n",
        "      sample = self.transform(sample)\n",
        "    return sample\n",
        "\n",
        "  def __len__(self):\n",
        "    return self.len"
      ],
      "metadata": {
        "id": "KpQX5kr_Qcch"
      },
      "execution_count": 17,
      "outputs": []
    },
    {
      "cell_type": "code",
      "source": [
        "dataset = toy_set()\n",
        "\n",
        "print(len(dataset))\n",
        "\n",
        "print(dataset[0])\n",
        "\n",
        "for i in range(3):\n",
        "  x,y = dataset[i]\n",
        "  print(f\"x: {x}, y: {y}\")"
      ],
      "metadata": {
        "colab": {
          "base_uri": "https://localhost:8080/"
        },
        "id": "ZvZmcsDnQ6NZ",
        "outputId": "026c9be0-fbbe-4bd6-c154-8af5e5b9fe2b"
      },
      "execution_count": 18,
      "outputs": [
        {
          "output_type": "stream",
          "name": "stdout",
          "text": [
            "100\n",
            "(tensor([2., 2.]), tensor([1.]))\n",
            "x: tensor([2., 2.]), y: tensor([1.])\n",
            "x: tensor([2., 2.]), y: tensor([1.])\n",
            "x: tensor([2., 2.]), y: tensor([1.])\n"
          ]
        }
      ]
    },
    {
      "cell_type": "markdown",
      "source": [
        "**Transfrom** data\n",
        "in following example some classes will be created, these classese will apply *transforms* to the tensors"
      ],
      "metadata": {
        "id": "tv2HwAf2R5nr"
      }
    },
    {
      "cell_type": "code",
      "source": [
        "class add_mult(object):\n",
        "  def __init__(self, addx=1, muly=1):\n",
        "    self.addx=addx\n",
        "    self.muly=muly\n",
        "\n",
        "  def __call__(self, sample):\n",
        "    x=sample[0]\n",
        "    y=sample[1]\n",
        "    x=x+self.addx\n",
        "    y=y*self.muly\n",
        "    sample=x,y\n",
        "    return sample"
      ],
      "metadata": {
        "id": "3RwLH7eFR2Q0"
      },
      "execution_count": 19,
      "outputs": []
    },
    {
      "cell_type": "code",
      "source": [
        "dataset=toy_set()\n",
        "print(f\"Before transform: {dataset[0]}\")\n",
        "\n",
        "a_m = add_mult()\n",
        "print(a_m)\n",
        "\n",
        "x_,y_ = a_m(dataset[0])\n",
        "print(x_,y_)\n",
        "print(f\"Before transform: {x_} {y_}\")\n"
      ],
      "metadata": {
        "colab": {
          "base_uri": "https://localhost:8080/"
        },
        "id": "wLPQlxBgS03R",
        "outputId": "3a1a563b-8161-4176-8af3-ce158535da43"
      },
      "execution_count": 20,
      "outputs": [
        {
          "output_type": "stream",
          "name": "stdout",
          "text": [
            "Before transform: (tensor([2., 2.]), tensor([1.]))\n",
            "<__main__.add_mult object at 0x782752e57e10>\n",
            "tensor([3., 3.]) tensor([1.])\n",
            "Before transform: tensor([3., 3.]) tensor([1.])\n"
          ]
        }
      ]
    },
    {
      "cell_type": "code",
      "source": [
        "a_m = add_mult()\n",
        "dataset = toy_set(transform=a_m)\n",
        "print(dataset[0])"
      ],
      "metadata": {
        "colab": {
          "base_uri": "https://localhost:8080/"
        },
        "id": "YcgFWQvhTvYS",
        "outputId": "3097492a-7a8c-4751-cc51-0d084fe4ac2b"
      },
      "execution_count": 21,
      "outputs": [
        {
          "output_type": "stream",
          "name": "stdout",
          "text": [
            "(tensor([3., 3.]), tensor([1.]))\n"
          ]
        }
      ]
    },
    {
      "cell_type": "markdown",
      "source": [
        "Transform **Compose** class"
      ],
      "metadata": {
        "id": "1ZFw4OTyUVQt"
      }
    },
    {
      "cell_type": "code",
      "source": [
        "from torchvision import transforms"
      ],
      "metadata": {
        "id": "95XJo_ByUYQ6"
      },
      "execution_count": 22,
      "outputs": []
    },
    {
      "cell_type": "code",
      "source": [
        "class mult(object):\n",
        "  def __init__(self, mul=100):\n",
        "    self.mul=mul\n",
        "\n",
        "  def __call__(self, sample):\n",
        "    x=sample[0]\n",
        "    y=sample[1]\n",
        "    x=x*self.mul\n",
        "    y=y*self.mul\n",
        "    sample=x,y\n",
        "    return sample"
      ],
      "metadata": {
        "id": "isD4A15tU5OB"
      },
      "execution_count": 23,
      "outputs": []
    },
    {
      "cell_type": "code",
      "source": [
        "data_transform = transforms.Compose([add_mult(), mult()])\n",
        "\n",
        "x_, y_ = data_transform(dataset[0])\n",
        "print(f\"After transform: {x_} {y_}\")"
      ],
      "metadata": {
        "colab": {
          "base_uri": "https://localhost:8080/"
        },
        "id": "5CBKXTpwUf_-",
        "outputId": "28ffe9ca-ea57-401b-ff87-0f3d72e64dcb"
      },
      "execution_count": 24,
      "outputs": [
        {
          "output_type": "stream",
          "name": "stdout",
          "text": [
            "After transform: tensor([400., 400.]) tensor([100.])\n"
          ]
        }
      ]
    },
    {
      "cell_type": "code",
      "source": [
        "dataset_ = toy_set(transform=data_transform)\n",
        "print(dataset_[0])"
      ],
      "metadata": {
        "colab": {
          "base_uri": "https://localhost:8080/"
        },
        "id": "Ldmjh0ZaVe8j",
        "outputId": "ebd52aef-bc63-4395-875b-378a947960de"
      },
      "execution_count": 25,
      "outputs": [
        {
          "output_type": "stream",
          "name": "stdout",
          "text": [
            "(tensor([300., 300.]), tensor([100.]))\n"
          ]
        }
      ]
    },
    {
      "cell_type": "markdown",
      "source": [
        "# Linear Regression\n",
        "linear equation"
      ],
      "metadata": {
        "id": "eAyc7wDbC-Xd"
      }
    },
    {
      "cell_type": "code",
      "source": [
        "w = torch.tensor(2., requires_grad=True) #weight\n",
        "b = torch.tensor(-1., requires_grad=True) #bias\n",
        "\n",
        "def forward(x):\n",
        "  y = w*x + b\n",
        "  return y\n",
        "\n",
        "x = torch.tensor([1.])\n",
        "\n",
        "yhat = forward(x)\n",
        "yhat"
      ],
      "metadata": {
        "colab": {
          "base_uri": "https://localhost:8080/"
        },
        "id": "RDXUGuMCDHZy",
        "outputId": "d0e84faa-0e10-4295-9f12-36147d2b590e"
      },
      "execution_count": 26,
      "outputs": [
        {
          "output_type": "execute_result",
          "data": {
            "text/plain": [
              "tensor([1.], grad_fn=<AddBackward0>)"
            ]
          },
          "metadata": {},
          "execution_count": 26
        }
      ]
    },
    {
      "cell_type": "markdown",
      "source": [
        "**linear class** package"
      ],
      "metadata": {
        "id": "qDE0judUE_nU"
      }
    },
    {
      "cell_type": "code",
      "source": [
        "from torch.nn import Linear"
      ],
      "metadata": {
        "id": "AkDNGLeMFDl-"
      },
      "execution_count": 27,
      "outputs": []
    },
    {
      "cell_type": "code",
      "source": [
        "# slope and bias randomly intialized, set seed to get same result at each run\n",
        "torch.manual_seed(1)\n",
        "\n",
        "# in_features => number of input cols\n",
        "# out_features => size of each output sample\n",
        "model = Linear(in_features=1, out_features=1)\n",
        "\n",
        "# frist slope, secom bias\n",
        "print(list(model.parameters()))\n",
        "\n",
        "x = torch.tensor([0.])\n",
        "\n",
        "# forward method called implictly\n",
        "yhat = model(x)\n",
        "print(yhat)"
      ],
      "metadata": {
        "colab": {
          "base_uri": "https://localhost:8080/"
        },
        "id": "WZwGxnoPFGK0",
        "outputId": "3b8d83de-db1c-4002-c22a-6c30c5ec8a98"
      },
      "execution_count": 28,
      "outputs": [
        {
          "output_type": "stream",
          "name": "stdout",
          "text": [
            "[Parameter containing:\n",
            "tensor([[0.5153]], requires_grad=True), Parameter containing:\n",
            "tensor([-0.4414], requires_grad=True)]\n",
            "tensor([-0.4414], grad_fn=<ViewBackward0>)\n"
          ]
        }
      ]
    },
    {
      "cell_type": "markdown",
      "source": [
        "**custom module** package - wrap mutliple models together to make more complex modules"
      ],
      "metadata": {
        "id": "RqiHvbtpGpeA"
      }
    },
    {
      "cell_type": "code",
      "source": [
        "import torch.nn as nn"
      ],
      "metadata": {
        "id": "QpyKI-NgGsmR"
      },
      "execution_count": 29,
      "outputs": []
    },
    {
      "cell_type": "code",
      "source": [
        "class LR(nn.Module):\n",
        "  def __init__(self, input_size, output_size):\n",
        "    super(LR, self).__init__()\n",
        "    self.linear=nn.Linear(input_size, output_size)\n",
        "\n",
        "  def forward(self, x):\n",
        "    out=self.linear(x)\n",
        "    return out"
      ],
      "metadata": {
        "id": "zQ2Nn9AjH3wF"
      },
      "execution_count": 30,
      "outputs": []
    },
    {
      "cell_type": "code",
      "source": [
        "model = LR(1,1)\n",
        "\n",
        "model.state_dict()['linear.weight'].data[0] = torch.tensor([0.5153])\n",
        "model.state_dict()['linear.bias'].data[0] = torch.tensor([-0.4414])\n",
        "\n",
        "print(list(model.parameters()))\n",
        "\n",
        "x = torch.tensor([1.0])\n",
        "yhat = model(x)\n",
        "print(yhat)"
      ],
      "metadata": {
        "colab": {
          "base_uri": "https://localhost:8080/"
        },
        "id": "DRw8Zxg5IM49",
        "outputId": "0448e8ef-dead-4111-93d2-bdd434f5a798"
      },
      "execution_count": 31,
      "outputs": [
        {
          "output_type": "stream",
          "name": "stdout",
          "text": [
            "[Parameter containing:\n",
            "tensor([[0.5153]], requires_grad=True), Parameter containing:\n",
            "tensor([-0.4414], requires_grad=True)]\n",
            "tensor([0.0739], grad_fn=<ViewBackward0>)\n"
          ]
        }
      ]
    },
    {
      "cell_type": "markdown",
      "source": [
        "# Gradient descent"
      ],
      "metadata": {
        "id": "7kgTar3ruyks"
      }
    },
    {
      "cell_type": "code",
      "source": [
        "w = torch.tensor(-10., requires_grad=True)\n",
        "\n",
        "X = torch.arange(-3,3,0.1).view(-1,1)\n",
        "f = -3*X\n",
        "\n",
        "plt.plot(X.numpy(), f.numpy())\n",
        "plt.show"
      ],
      "metadata": {
        "colab": {
          "base_uri": "https://localhost:8080/",
          "height": 600
        },
        "id": "vpEyuXeRu032",
        "outputId": "0698215c-2412-4705-97aa-3ecf7559e51a"
      },
      "execution_count": 32,
      "outputs": [
        {
          "output_type": "execute_result",
          "data": {
            "text/plain": [
              "<function matplotlib.pyplot.show(close=None, block=None)>"
            ],
            "text/html": [
              "<div style=\"max-width:800px; border: 1px solid var(--colab-border-color);\"><style>\n",
              "      pre.function-repr-contents {\n",
              "        overflow-x: auto;\n",
              "        padding: 8px 12px;\n",
              "        max-height: 500px;\n",
              "      }\n",
              "\n",
              "      pre.function-repr-contents.function-repr-contents-collapsed {\n",
              "        cursor: pointer;\n",
              "        max-height: 100px;\n",
              "      }\n",
              "    </style>\n",
              "    <pre style=\"white-space: initial; background:\n",
              "         var(--colab-secondary-surface-color); padding: 8px 12px;\n",
              "         border-bottom: 1px solid var(--colab-border-color);\"><b>matplotlib.pyplot.show</b><br/>def show(*args, **kwargs) -&gt; None</pre><pre class=\"function-repr-contents function-repr-contents-collapsed\" style=\"\"><a class=\"filepath\" style=\"display:none\" href=\"#\">/usr/local/lib/python3.11/dist-packages/matplotlib/pyplot.py</a>Display all open figures.\n",
              "\n",
              "Parameters\n",
              "----------\n",
              "block : bool, optional\n",
              "    Whether to wait for all figures to be closed before returning.\n",
              "\n",
              "    If `True` block and run the GUI main loop until all figure windows\n",
              "    are closed.\n",
              "\n",
              "    If `False` ensure that all figure windows are displayed and return\n",
              "    immediately.  In this case, you are responsible for ensuring\n",
              "    that the event loop is running to have responsive figures.\n",
              "\n",
              "    Defaults to True in non-interactive mode and to False in interactive\n",
              "    mode (see `.pyplot.isinteractive`).\n",
              "\n",
              "See Also\n",
              "--------\n",
              "ion : Enable interactive mode, which shows / updates the figure after\n",
              "      every plotting command, so that calling ``show()`` is not necessary.\n",
              "ioff : Disable interactive mode.\n",
              "savefig : Save the figure to an image file instead of showing it on screen.\n",
              "\n",
              "Notes\n",
              "-----\n",
              "**Saving figures to file and showing a window at the same time**\n",
              "\n",
              "If you want an image file as well as a user interface window, use\n",
              "`.pyplot.savefig` before `.pyplot.show`. At the end of (a blocking)\n",
              "``show()`` the figure is closed and thus unregistered from pyplot. Calling\n",
              "`.pyplot.savefig` afterwards would save a new and thus empty figure. This\n",
              "limitation of command order does not apply if the show is non-blocking or\n",
              "if you keep a reference to the figure and use `.Figure.savefig`.\n",
              "\n",
              "**Auto-show in jupyter notebooks**\n",
              "\n",
              "The jupyter backends (activated via ``%matplotlib inline``,\n",
              "``%matplotlib notebook``, or ``%matplotlib widget``), call ``show()`` at\n",
              "the end of every cell by default. Thus, you usually don&#x27;t have to call it\n",
              "explicitly there.</pre>\n",
              "      <script>\n",
              "      if (google.colab.kernel.accessAllowed && google.colab.files && google.colab.files.view) {\n",
              "        for (const element of document.querySelectorAll('.filepath')) {\n",
              "          element.style.display = 'block'\n",
              "          element.onclick = (event) => {\n",
              "            event.preventDefault();\n",
              "            event.stopPropagation();\n",
              "            google.colab.files.view(element.textContent, 569);\n",
              "          };\n",
              "        }\n",
              "      }\n",
              "      for (const element of document.querySelectorAll('.function-repr-contents')) {\n",
              "        element.onclick = (event) => {\n",
              "          event.preventDefault();\n",
              "          event.stopPropagation();\n",
              "          element.classList.toggle('function-repr-contents-collapsed');\n",
              "        };\n",
              "      }\n",
              "      </script>\n",
              "      </div>"
            ]
          },
          "metadata": {},
          "execution_count": 32
        },
        {
          "output_type": "display_data",
          "data": {
            "text/plain": [
              "<Figure size 640x480 with 1 Axes>"
            ],
            "image/png": "[encoded data removed]"
          },
          "metadata": {}
        }
      ]
    },
    {
      "cell_type": "code",
      "source": [
        "# add random noise over the line\n",
        "Y = f+0.1*torch.randn(X.size())\n",
        "\n",
        "plt.plot(X.numpy(), Y.numpy(),'ro')\n",
        "plt.show()"
      ],
      "metadata": {
        "colab": {
          "base_uri": "https://localhost:8080/",
          "height": 430
        },
        "id": "R3NoMFcDvhZC",
        "outputId": "cae53a7b-258e-41ed-a15d-ca11d89d16c2"
      },
      "execution_count": 33,
      "outputs": [
        {
          "output_type": "display_data",
          "data": {
            "text/plain": [
              "<Figure size 640x480 with 1 Axes>"
            ],
            "image/png": "[encoded data removed]"
          },
          "metadata": {}
        }
      ]
    },
    {
      "cell_type": "code",
      "source": [
        "def forward(x):\n",
        "  return w*x\n",
        "\n",
        "# define loss function as mse\n",
        "def criterion(yhat, y):\n",
        "  return torch.mean((yhat-2)**2)\n",
        "\n",
        "\n",
        "# set learing rete\n",
        "lr=0.1\n",
        "\n",
        "cost=[]\n",
        "\n",
        "for epoch in range(4):\n",
        "  Yhat = forward(X)\n",
        "  loss = criterion(Yhat, Y)\n",
        "  # calc dericative with respect to all the variables in loss func\n",
        "  loss.backward()\n",
        "  # update the weights based on current data and the gradient times the lr\n",
        "  w.data = w.data - lr*w.grad.data\n",
        "  # set gradient to zero, this way the gradient in the next cycle will be only based on the updated weights\n",
        "  w.grad.data.zero_()\n",
        "  print(f\"epoch: {epoch}, loss: {loss.item()}\")\n",
        "\n",
        "  cost.append(loss.item())"
      ],
      "metadata": {
        "colab": {
          "base_uri": "https://localhost:8080/"
        },
        "id": "y1S7JiBAvtu2",
        "outputId": "56bbedd2-22a9-45da-e883-8076734d736b"
      },
      "execution_count": 34,
      "outputs": [
        {
          "output_type": "stream",
          "name": "stdout",
          "text": [
            "epoch: 0, loss: 302.1666564941406\n",
            "epoch: 1, loss: 51.624366760253906\n",
            "epoch: 2, loss: 11.604402542114258\n",
            "epoch: 3, loss: 5.211877346038818\n"
          ]
        }
      ]
    },
    {
      "cell_type": "markdown",
      "source": [
        "N.B. cost = avarage loss"
      ],
      "metadata": {
        "id": "c77HK2Lc1Fma"
      }
    },
    {
      "cell_type": "code",
      "source": [
        "# graph, avarage loss per epoch\n",
        "plt.plot(range(len(cost)), cost)\n",
        "plt.xlabel('Epoch')\n",
        "plt.ylabel('Cost')\n",
        "plt.title('Training Loss Over Epochs')\n",
        "plt.show()"
      ],
      "metadata": {
        "colab": {
          "base_uri": "https://localhost:8080/",
          "height": 472
        },
        "id": "5dHPc4pfyXlU",
        "outputId": "f5a77f2d-0eca-49a8-c2d0-2b85bb01756f"
      },
      "execution_count": 35,
      "outputs": [
        {
          "output_type": "display_data",
          "data": {
            "text/plain": [
              "<Figure size 640x480 with 1 Axes>"
            ],
            "image/png": "[encoded data removed]"
          },
          "metadata": {}
        }
      ]
    },
    {
      "cell_type": "markdown",
      "source": [
        "In true linear regression, the cost function is of two variables the slope and bias, to truly capture the loss we have to consider both weights and biases as below\n",
        "\n",
        "The cost is the average loss, it's a function of the slope.\n",
        "The slope controls the relationship between x and y while the bias controls the horizontal offset.\n"
      ],
      "metadata": {
        "id": "Wc0Mz8J732G-"
      }
    },
    {
      "cell_type": "code",
      "source": [
        "def forward(x):\n",
        "  return w*x + b\n",
        "\n",
        "# define loss function as mse\n",
        "def criterion(yhat, y):\n",
        "  return torch.mean((yhat-2)**2)\n",
        "\n",
        "w = torch.tensor(-15., requires_grad=True)\n",
        "b = torch.tensor(-10., requires_grad=True)\n",
        "X = torch.arange(-3,3,0.1).view(-1,1)\n",
        "f = 1*x-1\n",
        "Y = f+0.1*torch.randn(X.size())\n",
        "\n",
        "lr=0.1\n",
        "\n",
        "cost=[]\n",
        "\n",
        "for epoch in range(10):\n",
        "  Yhat = forward(X)\n",
        "  loss = criterion(Yhat, Y)\n",
        "\n",
        "  # calc dericative\n",
        "  loss.backward()\n",
        "\n",
        "  # update the weights\n",
        "  w.data = w.data - lr*w.grad.data\n",
        "  w.grad.data.zero_()\n",
        "\n",
        "  # update the biases\n",
        "  b.data = b.data - lr*b.grad.data\n",
        "  b.grad.data.zero_()\n",
        "\n",
        "  print(f\"epoch: {epoch}, loss: {loss.item()}\")\n",
        "\n",
        "  cost.append(loss.item())"
      ],
      "metadata": {
        "colab": {
          "base_uri": "https://localhost:8080/"
        },
        "id": "4dpt0D6S2ms9",
        "outputId": "970e081c-24d1-41b4-9e34-492f7bf2dfba"
      },
      "execution_count": 36,
      "outputs": [
        {
          "output_type": "stream",
          "name": "stdout",
          "text": [
            "epoch: 0, loss: 801.375\n",
            "epoch: 1, loss: 201.34234619140625\n",
            "epoch: 2, loss: 79.18762969970703\n",
            "epoch: 3, loss: 42.77460479736328\n",
            "epoch: 4, loss: 26.1265926361084\n",
            "epoch: 5, loss: 16.52944564819336\n",
            "epoch: 6, loss: 10.553221702575684\n",
            "epoch: 7, loss: 6.753136157989502\n",
            "epoch: 8, loss: 4.3238844871521\n",
            "epoch: 9, loss: 2.7688825130462646\n"
          ]
        }
      ]
    },
    {
      "cell_type": "code",
      "source": [
        "# graph, avarage loss per epoch\n",
        "plt.plot(range(len(cost)), cost)\n",
        "plt.xlabel('Epoch')\n",
        "plt.ylabel('Cost')\n",
        "plt.title('Training Loss Over Epochs')\n",
        "plt.show()"
      ],
      "metadata": {
        "colab": {
          "base_uri": "https://localhost:8080/",
          "height": 472
        },
        "id": "GU2At8RC3ZbF",
        "outputId": "0856bea3-10f3-4067-f41f-c831992fdcdf"
      },
      "execution_count": 37,
      "outputs": [
        {
          "output_type": "display_data",
          "data": {
            "text/plain": [
              "<Figure size 640x480 with 1 Axes>"
            ],
            "image/png": "[encoded data removed]"
          },
          "metadata": {}
        }
      ]
    },
    {
      "cell_type": "markdown",
      "source": [
        "# SGD w/ Optimizer"
      ],
      "metadata": {
        "id": "5t0cknbk0YC5"
      }
    },
    {
      "cell_type": "code",
      "source": [
        "from torch import nn, optim\n",
        "from torch.utils.data import Dataset, DataLoader"
      ],
      "metadata": {
        "id": "MJxDZu2v0bD5"
      },
      "execution_count": 41,
      "outputs": []
    },
    {
      "cell_type": "code",
      "source": [
        "class LR(nn.Module):\n",
        "  def __init__(self, input_size, output_size):\n",
        "    super(LR, self).__init__()\n",
        "    self.linear=nn.Linear(input_size, output_size)\n",
        "\n",
        "  def forward(self, x):\n",
        "    out=self.linear(x)\n",
        "    return out\n",
        "\n",
        "  def criterion(yhat, y):\n",
        "    criterion = nn.MSELoss()\n",
        "    return criterion\n",
        ""
      ],
      "metadata": {
        "id": "koYGNAL40sU6"
      },
      "execution_count": 40,
      "outputs": []
    },
    {
      "cell_type": "code",
      "source": [
        "class Data(Dataset):\n",
        "\n",
        "    # Constructor\n",
        "    def __init__(self):\n",
        "        self.x = torch.arange(-3, 3, 0.1).view(-1, 1)\n",
        "        self.y = 1 * X - 1\n",
        "        self.len = self.x.shape[0]\n",
        "\n",
        "    # Getter\n",
        "    def __getitem__(self, index):\n",
        "        return self.x[index], self.y[index]\n",
        "\n",
        "    # Get length\n",
        "    def __len__(self):\n",
        "        return self.len\n",
        "\n",
        "dataset = Data()\n",
        "trainloader = DataLoader(dataset=dataset, batch_size=1)"
      ],
      "metadata": {
        "id": "743l_jHb1UGD"
      },
      "execution_count": 42,
      "outputs": []
    },
    {
      "cell_type": "code",
      "source": [
        "model = LR(1,1)\n",
        "\n",
        "optimizer = optim.SGD(model.parameters(), lr=0.01) # model.parameters() - contains all learnable parameters\n",
        "optimizer.state_dict()"
      ],
      "metadata": {
        "id": "aYx0cHz-1wMy",
        "outputId": "e2197db5-a5fb-48e5-d64b-59e74dc1a08c",
        "colab": {
          "base_uri": "https://localhost:8080/"
        }
      },
      "execution_count": 43,
      "outputs": [
        {
          "output_type": "execute_result",
          "data": {
            "text/plain": [
              "{'state': {},\n",
              " 'param_groups': [{'lr': 0.01,\n",
              "   'momentum': 0,\n",
              "   'dampening': 0,\n",
              "   'weight_decay': 0,\n",
              "   'nesterov': False,\n",
              "   'maximize': False,\n",
              "   'foreach': None,\n",
              "   'differentiable': False,\n",
              "   'fused': None,\n",
              "   'params': [0, 1]}]}"
            ]
          },
          "metadata": {},
          "execution_count": 43
        }
      ]
    },
    {
      "cell_type": "code",
      "source": [
        "# loss and optimizer are implictly connected\n",
        "\n",
        "for epoch in range(10):\n",
        "  for x,y in trainloader:\n",
        "    yhat = forward(x)\n",
        "    loss = criterion(yhat, y)\n",
        "    optimizer.zero_grad()\n",
        "    loss.backward()\n",
        "    optimizer.step()  # automate the updates to weights and biases"
      ],
      "metadata": {
        "id": "JVMGmRoc1-dR"
      },
      "execution_count": 49,
      "outputs": []
    }
  ]
}