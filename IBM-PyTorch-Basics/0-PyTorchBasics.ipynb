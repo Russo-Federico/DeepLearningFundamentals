{
  "nbformat": 4,
  "nbformat_minor": 0,
  "metadata": {
    "colab": {
      "provenance": [],
      "authorship_tag": "ABX9TyO53tyokd016Q5Xm8hmHbmH",
      "include_colab_link": true
    },
    "kernelspec": {
      "name": "python3",
      "display_name": "Python 3"
    },
    "language_info": {
      "name": "python"
    }
  },
  "cells": [
    {
      "cell_type": "markdown",
      "metadata": {
        "id": "view-in-github",
        "colab_type": "text"
      },
      "source": [
        "<a href=\"https://colab.research.google.com/github/Russo-Federico/DeepLearningFundamentals/blob/main/IBM-PyTorch-Basics/0-PyTorchBasics.ipynb\" target=\"_parent\"><img src=\"https://colab.research.google.com/assets/colab-badge.svg\" alt=\"Open In Colab\"/></a>"
      ]
    },
    {
      "cell_type": "code",
      "execution_count": 14,
      "metadata": {
        "id": "235qZawiGTAE"
      },
      "outputs": [],
      "source": [
        "import torch\n",
        "import numpy as np\n",
        "import matplotlib.pyplot as plt\n",
        "import pandas as pd"
      ]
    },
    {
      "cell_type": "markdown",
      "source": [
        "Basic operations on tensors"
      ],
      "metadata": {
        "id": "Du7_JvzvGdk4"
      }
    },
    {
      "cell_type": "code",
      "source": [
        "torch_tensor = torch.tensor([1,2,3,4,5])\n",
        "print(torch_tensor)\n",
        "\n",
        "torch_tensor_casting = torch.tensor([1,2,3,4,5], dtype=torch.float32)\n",
        "print(torch_tensor_casting)\n",
        "\n",
        "print(torch_tensor.dtype)\n",
        "print(torch_tensor.type())\n",
        "\n",
        "print(torch_tensor.ndimension())\n",
        "a_col = torch_tensor.view(-1,1)\n",
        "print(a_col)"
      ],
      "metadata": {
        "colab": {
          "base_uri": "https://localhost:8080/"
        },
        "id": "kJc2vxw1GcDM",
        "outputId": "b7347f69-09a0-4ca1-99ef-54fd6c785d60"
      },
      "execution_count": 12,
      "outputs": [
        {
          "output_type": "stream",
          "name": "stdout",
          "text": [
            "tensor([1, 2, 3, 4, 5])\n",
            "tensor([1., 2., 3., 4., 5.])\n",
            "torch.int64\n",
            "torch.LongTensor\n",
            "1\n",
            "tensor([[1],\n",
            "        [2],\n",
            "        [3],\n",
            "        [4],\n",
            "        [5]])\n"
          ]
        }
      ]
    },
    {
      "cell_type": "markdown",
      "source": [
        "**N.B.** each element of a tensor is a tensor itself, to get the python number use the .item() funciton"
      ],
      "metadata": {
        "id": "-1UIwsimIjwD"
      }
    },
    {
      "cell_type": "code",
      "source": [
        "print(torch_tensor[0])\n",
        "print(torch_tensor[0].item())"
      ],
      "metadata": {
        "colab": {
          "base_uri": "https://localhost:8080/"
        },
        "id": "HceJthPtIU--",
        "outputId": "8e1b0885-c023-45b1-bff7-2eaf810ed9b7"
      },
      "execution_count": 20,
      "outputs": [
        {
          "output_type": "stream",
          "name": "stdout",
          "text": [
            "tensor(1)\n",
            "1\n"
          ]
        }
      ]
    },
    {
      "cell_type": "code",
      "source": [
        "section_tensor = torch_tensor[1:3]\n",
        "print(section_tensor)"
      ],
      "metadata": {
        "colab": {
          "base_uri": "https://localhost:8080/"
        },
        "id": "lJBPnbijIvrS",
        "outputId": "833d2a89-165b-470f-b41a-6caa65c5e67d"
      },
      "execution_count": 21,
      "outputs": [
        {
          "output_type": "stream",
          "name": "stdout",
          "text": [
            "tensor([2, 3])\n"
          ]
        }
      ]
    },
    {
      "cell_type": "markdown",
      "source": [
        "assign new values to tensor elements"
      ],
      "metadata": {
        "id": "seJMk_RaI9mp"
      }
    },
    {
      "cell_type": "code",
      "source": [
        "torch_tensor[2] = torch.tensor([27])\n",
        "print(torch_tensor)\n",
        "print(section_tensor)"
      ],
      "metadata": {
        "colab": {
          "base_uri": "https://localhost:8080/"
        },
        "id": "PM5qLXszJAeg",
        "outputId": "623372a6-e783-475a-c5c0-0aba6c14110c"
      },
      "execution_count": 23,
      "outputs": [
        {
          "output_type": "stream",
          "name": "stdout",
          "text": [
            "tensor([ 1,  2, 27,  4,  5])\n",
            "tensor([ 2, 27])\n"
          ]
        }
      ]
    },
    {
      "cell_type": "markdown",
      "source": [
        "N.B as can be seen above, the tensor rifer to the original, so changing one changes all the others"
      ],
      "metadata": {
        "id": "z3mwDT9UJsA7"
      }
    },
    {
      "cell_type": "markdown",
      "source": [
        "Flowless integration within the python environment"
      ],
      "metadata": {
        "id": "-PFgL2MxHp4p"
      }
    },
    {
      "cell_type": "code",
      "source": [
        "numpy_array = np.array([9,8,7,6])\n",
        "print(numpy_array)\n",
        "\n",
        "to_torch = torch.from_numpy(numpy_array)\n",
        "print(to_torch)\n",
        "\n",
        "back_to_numpy = to_torch.numpy()\n",
        "print(back_to_numpy)"
      ],
      "metadata": {
        "colab": {
          "base_uri": "https://localhost:8080/"
        },
        "id": "TMO2z_-gHmmQ",
        "outputId": "135dd218-61c2-499c-aa50-b3f3db679bdf"
      },
      "execution_count": 18,
      "outputs": [
        {
          "output_type": "stream",
          "name": "stdout",
          "text": [
            "[9 8 7 6]\n",
            "tensor([9, 8, 7, 6])\n",
            "[9 8 7 6]\n"
          ]
        }
      ]
    },
    {
      "cell_type": "markdown",
      "source": [
        "# Basic Operations"
      ],
      "metadata": {
        "id": "Mkzi6oRFJ4rm"
      }
    },
    {
      "cell_type": "code",
      "source": [
        "# init\n",
        "a = torch.tensor([1,2])\n",
        "b = torch.tensor([3,4])\n",
        "\n",
        "c = a+b\n",
        "print(c)\n",
        "\n",
        "# scalar product\n",
        "c = c * 2\n",
        "print(c)\n",
        "\n",
        "# tensor product\n",
        "c = a * b\n",
        "print(c)\n",
        "\n",
        "# dot product\n",
        "c = torch.dot(a,b)\n",
        "print(c)\n",
        "\n",
        "# adding constant\n",
        "c = a + 2\n",
        "print(c)"
      ],
      "metadata": {
        "colab": {
          "base_uri": "https://localhost:8080/"
        },
        "id": "HfVZHb44KCVD",
        "outputId": "caf01799-b804-4a7f-eba0-6ead296f4bc2"
      },
      "execution_count": 32,
      "outputs": [
        {
          "output_type": "stream",
          "name": "stdout",
          "text": [
            "tensor([4, 6])\n",
            "tensor([ 8, 12])\n",
            "tensor([3, 8])\n",
            "tensor(11)\n",
            "tensor([3, 4])\n"
          ]
        }
      ]
    },
    {
      "cell_type": "markdown",
      "source": [
        "**universal functions**"
      ],
      "metadata": {
        "id": "eDKMm34mLcgm"
      }
    },
    {
      "cell_type": "code",
      "source": [
        "a_float = a.type(torch.FloatTensor)\n",
        "print(a_float)\n",
        "\n",
        "# get mean\n",
        "mean_a = a_float.mean()\n",
        "print(mean_a)\n",
        "\n",
        "# get max\n",
        "a_max = a.max()\n",
        "print(a_max)"
      ],
      "metadata": {
        "colab": {
          "base_uri": "https://localhost:8080/"
        },
        "id": "sf_b__edKbXp",
        "outputId": "55a42f7e-dc09-40b4-c2d5-552fc3714b28"
      },
      "execution_count": 41,
      "outputs": [
        {
          "output_type": "stream",
          "name": "stdout",
          "text": [
            "tensor([1., 2.])\n",
            "tensor(1.5000)\n",
            "tensor(2)\n"
          ]
        }
      ]
    },
    {
      "cell_type": "code",
      "source": [
        "# linspace ideal for plotting funcitons\n",
        "x = torch.linspace(-5,5,11) #starting point, ending point, steps\n",
        "print(x)\n",
        "\n",
        "y = torch.sin(x)\n",
        "print(y)\n",
        "\n",
        "plt.plot(x.numpy(), y.numpy())"
      ],
      "metadata": {
        "colab": {
          "base_uri": "https://localhost:8080/",
          "height": 501
        },
        "id": "xmsZkkdtMuIP",
        "outputId": "cbe2ea53-24f4-43c3-d1d4-9a936c22bdd7"
      },
      "execution_count": 39,
      "outputs": [
        {
          "output_type": "stream",
          "name": "stdout",
          "text": [
            "tensor([-5., -4., -3., -2., -1.,  0.,  1.,  2.,  3.,  4.,  5.])\n",
            "tensor([ 0.9589,  0.7568, -0.1411, -0.9093, -0.8415,  0.0000,  0.8415,  0.9093,\n",
            "         0.1411, -0.7568, -0.9589])\n"
          ]
        },
        {
          "output_type": "execute_result",
          "data": {
            "text/plain": [
              "[<matplotlib.lines.Line2D at 0x7af6524b6990>]"
            ]
          },
          "metadata": {},
          "execution_count": 39
        },
        {
          "output_type": "display_data",
          "data": {
            "text/plain": [
              "<Figure size 640x480 with 1 Axes>"
            ],
            "image/png": "[encoded data removed]"
          },
          "metadata": {}
        }
      ]
    }
  ]
}