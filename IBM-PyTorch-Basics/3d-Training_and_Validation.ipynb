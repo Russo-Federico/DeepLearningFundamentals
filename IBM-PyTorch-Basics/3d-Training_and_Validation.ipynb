{
  "cells": [
    {
      "cell_type": "markdown",
      "metadata": {
        "id": "view-in-github",
        "colab_type": "text"
      },
      "source": [
        "<a href=\"https://colab.research.google.com/github/Russo-Federico/DeepLearningFundamentals/blob/main/IBM-PyTorch-Basics/3d-Training_and_Validation.ipynb\" target=\"_parent\"><img src=\"https://colab.research.google.com/assets/colab-badge.svg\" alt=\"Open In Colab\"/></a>"
      ]
    },
    {
      "cell_type": "markdown",
      "metadata": {
        "id": "43bb35c8-a3ea-4641-8c25-a0f03d33f0af"
      },
      "source": [
        "<p style=\"text-align:center\">\n",
        "    <a href=\"https://skills.network\" target=\"_blank\">\n",
        "    <img src=\"https://cf-courses-data.s3.us.cloud-object-storage.appdomain.cloud/assets/logos/SN_web_lightmode.png\" width=\"200\" alt=\"Skills Network Logo\">\n",
        "    </a>\n",
        "</p>\n"
      ]
    },
    {
      "cell_type": "markdown",
      "metadata": {
        "id": "102916e5-66d5-4e1d-846b-cc756e5a0225"
      },
      "source": [
        "<h1>Linear regression: Training and Validation Data</h1>\n"
      ]
    },
    {
      "cell_type": "markdown",
      "metadata": {
        "id": "426b0341-e8b3-427a-a1d8-5deeea4918ee"
      },
      "source": [
        "<h2>Objective</h2><ul><li> How to use learning rate hyperparameter to improve your model result.  .</li></ul>\n"
      ]
    },
    {
      "cell_type": "markdown",
      "metadata": {
        "id": "bd6a2e11-d5e6-4219-8e03-4d3fe27f9b4e"
      },
      "source": [
        "<h2>Table of Contents</h2>\n",
        "<p>In this lab, you will learn to select the best learning rate by using validation data.</p>\n",
        "\n",
        "<div class=\"alert alert-block alert-info\" style=\"margin-top: 20px\">\n",
        "<font size=\"3\">\n",
        "        1. <a href=\"#Make-Some-Data\">Make Some Data</a><br>\n",
        "        2. <a href=\"#Create-a-Linear-Regression-Object-Data-Loader-and-Criterion-Function\">Create a Linear Regression Object Data Loader and Criterion Function</a><br>\n",
        "        3. <a href=\"#Different-learning-rates-and-Data-Structures-to-Store-results-for-Different-Hyperparameters\">Different learning rates and Data Structures to Store results for Different Hyperparameters</a><br>\n",
        "        4. <a href=\"#Train-different-modules-for-different-Hyperparameters\">Train different modules for different Hyperparameters</a><br>\n",
        "        5. <a href=\"#View-Results\">View Results</a><br>\n",
        "    \n",
        "<p>Estimated Time Needed: <strong>30 min</strong></p>\n",
        "</font>\n",
        "</div>\n"
      ]
    },
    {
      "cell_type": "markdown",
      "metadata": {
        "id": "39a95b05-c89a-49e1-a0e6-09d4aef4c404"
      },
      "source": [
        "<h2>Preparation</h2>\n"
      ]
    },
    {
      "cell_type": "markdown",
      "metadata": {
        "id": "79d32d70-0bd8-4fc0-a33a-4e29b904b188"
      },
      "source": [
        "We'll need the following libraries and set the random seed.\n"
      ]
    },
    {
      "cell_type": "code",
      "metadata": {
        "id": "06cbcff6-2f64-40d5-9497-27a95931d97d"
      },
      "outputs": [],
      "source": [
        "# Import libraries we need for this lab, and set the random seed\n",
        "\n",
        "from torch import nn\n",
        "import torch\n",
        "import numpy as np\n",
        "import matplotlib.pyplot as plt\n",
        "from torch import nn,optim"
      ],
      "execution_count": 1
    },
    {
      "cell_type": "markdown",
      "metadata": {
        "id": "57543f90-caf5-4e8f-a175-7bdfd8e52328"
      },
      "source": [
        "<!--Empty Space for separating topics-->\n"
      ]
    },
    {
      "cell_type": "markdown",
      "metadata": {
        "id": "64950326-f458-4db8-8f5e-53656171dcd3"
      },
      "source": [
        "<!-- <h2 id=\"Makeup_Data\">Make Some Data</h2> -->\n",
        "## Make Some Data\n"
      ]
    },
    {
      "cell_type": "markdown",
      "metadata": {
        "id": "e8341e4b-1c2b-4416-bf76-c2c0e30b9335"
      },
      "source": [
        "First, we'll create some artificial data in a dataset class. The class will include the option to produce training data or validation data. The training data will include outliers.\n"
      ]
    },
    {
      "cell_type": "code",
      "metadata": {
        "id": "c1e00d25-59a3-4821-8540-8427a1b26a6f"
      },
      "outputs": [],
      "source": [
        "# Create Data class\n",
        "\n",
        "from torch.utils.data import Dataset, DataLoader\n",
        "\n",
        "class Data(Dataset):\n",
        "\n",
        "    # Constructor\n",
        "    def __init__(self, train = True):\n",
        "            self.x = torch.arange(-3, 3, 0.1).view(-1, 1)\n",
        "            self.f = -3 * self.x + 1\n",
        "            self.y = self.f + 0.1 * torch.randn(self.x.size())\n",
        "            self.len = self.x.shape[0]\n",
        "\n",
        "            #outliers\n",
        "            if train == True:\n",
        "                self.y[0] = 0\n",
        "                self.y[50:55] = 20\n",
        "            else:\n",
        "                pass\n",
        "\n",
        "    # Getter\n",
        "    def __getitem__(self, index):\n",
        "        return self.x[index], self.y[index]\n",
        "\n",
        "    # Get Length\n",
        "    def __len__(self):\n",
        "        return self.len"
      ],
      "execution_count": 2
    },
    {
      "cell_type": "markdown",
      "metadata": {
        "id": "d3c86f7a-a6e7-44ec-9134-53edf52bd7b6"
      },
      "source": [
        "Create two objects: one that contains training data and a second that contains validation data. Assume that the training data has the outliers.\n"
      ]
    },
    {
      "cell_type": "code",
      "metadata": {
        "id": "402435d1-3fa0-4714-ab3e-a73eac56d413"
      },
      "outputs": [],
      "source": [
        "# Create training dataset and validation dataset\n",
        "\n",
        "train_data = Data()\n",
        "val_data = Data(train = False)"
      ],
      "execution_count": 3
    },
    {
      "cell_type": "markdown",
      "metadata": {
        "id": "802a6435-2475-4077-bf3f-5f5afc3fa9f8"
      },
      "source": [
        "Overlay the training points in red over the function that generated the data. Notice the outliers at x=-3 and around x=2:\n"
      ]
    },
    {
      "cell_type": "code",
      "metadata": {
        "colab": {
          "base_uri": "https://localhost:8080/",
          "height": 449
        },
        "id": "0202c54d-7372-4d86-b799-fd7538b069f1",
        "outputId": "89d2c62c-89c0-4c97-f853-4c595deb769a"
      },
      "outputs": [
        {
          "output_type": "display_data",
          "data": {
            "text/plain": [
              "<Figure size 640x480 with 1 Axes>"
            ],
            "image/png": "[encoded data removed]"
          },
          "metadata": {}
        }
      ],
      "source": [
        "# Plot out training points\n",
        "\n",
        "plt.plot(train_data.x.numpy(), train_data.y.numpy(), 'xr',label=\"training data \")\n",
        "plt.plot(train_data.x.numpy(), train_data.f.numpy(),label=\"true function  \")\n",
        "plt.xlabel('x')\n",
        "plt.ylabel('y')\n",
        "plt.legend()\n",
        "plt.show()"
      ],
      "execution_count": 4
    },
    {
      "cell_type": "markdown",
      "metadata": {
        "id": "45556d56-81a5-4089-8942-f7d8c5882331"
      },
      "source": [
        "<!--Empty Space for separating topics-->\n"
      ]
    },
    {
      "cell_type": "markdown",
      "metadata": {
        "id": "ffb07c0a-7da0-4de2-999e-05dc9400f66d"
      },
      "source": [
        "<!-- <h2 id=\"LR_Loader_Cost\">Create a Linear Regression Object,  Data Loader, and Criterion Function</h2> -->\n",
        "## Create a Linear Regression Object Data Loader and Criterion Function\n"
      ]
    },
    {
      "cell_type": "code",
      "metadata": {
        "id": "fb957467-024e-45cc-8bfd-d4521769482c"
      },
      "outputs": [],
      "source": [
        "# Create Linear Regression Class\n",
        "\n",
        "from torch import nn\n",
        "\n",
        "class linear_regression(nn.Module):\n",
        "\n",
        "    # Constructor\n",
        "    def __init__(self, input_size, output_size):\n",
        "        super(linear_regression, self).__init__()\n",
        "        self.linear = nn.Linear(input_size, output_size)\n",
        "\n",
        "    # Prediction function\n",
        "    def forward(self, x):\n",
        "        yhat = self.linear(x)\n",
        "        return yhat"
      ],
      "execution_count": 5
    },
    {
      "cell_type": "markdown",
      "metadata": {
        "id": "b90b28ed-c280-48b8-942a-355c757a9cf9"
      },
      "source": [
        "Create the criterion function and a <code>DataLoader</code> object:\n"
      ]
    },
    {
      "cell_type": "code",
      "metadata": {
        "id": "60e5cbab-bb1f-4c4c-b5fc-daab7096d4b9"
      },
      "outputs": [],
      "source": [
        "# Create MSELoss function and DataLoader\n",
        "\n",
        "criterion = nn.MSELoss()\n",
        "trainloader = DataLoader(dataset = train_data, batch_size = 1)"
      ],
      "execution_count": 6
    },
    {
      "cell_type": "markdown",
      "metadata": {
        "id": "9b7d45d8-e8a8-4340-bacb-e6509716f56a"
      },
      "source": [
        "<!--Empty Space for separating topics-->\n"
      ]
    },
    {
      "cell_type": "markdown",
      "metadata": {
        "id": "ef1be327-6da9-4db8-947a-29df974d1113"
      },
      "source": [
        "<!-- <h2 id=\"LR_Hyper\">Different learning rates and Data Structures to Store results for different Hyperparameters</h2> -->\n",
        "## Different learning rates and Data Structures to Store results for Different Hyperparameters\n"
      ]
    },
    {
      "cell_type": "markdown",
      "metadata": {
        "id": "9f7076b7-a94a-49c6-9540-ba3fdbb8d0af"
      },
      "source": [
        "Create a list with different learning rates and a tensor (can be a list) for the training and validating cost/total loss. Include the list MODELS, which stores the training model for every value of the learning rate.\n"
      ]
    },
    {
      "cell_type": "code",
      "metadata": {
        "id": "22920823-cb2f-462f-9f59-4e3283e9efdf"
      },
      "outputs": [],
      "source": [
        "# Create Learning Rate list, the error lists and the MODELS list\n",
        "\n",
        "learning_rates=[0.0001, 0.001, 0.01, 0.1]\n",
        "\n",
        "train_error=torch.zeros(len(learning_rates))\n",
        "validation_error=torch.zeros(len(learning_rates))\n",
        "\n",
        "MODELS=[]"
      ],
      "execution_count": 7
    },
    {
      "cell_type": "markdown",
      "metadata": {
        "id": "e3fd0f35-b360-4d49-b20d-f609c3b839ea"
      },
      "source": [
        "<!--Empty Space for separating topics-->\n"
      ]
    },
    {
      "cell_type": "markdown",
      "metadata": {
        "id": "e2197d89-06be-45a1-906e-69cf9f876882"
      },
      "source": [
        "<!-- <h2 id=\"Model\">Train different models  for different Hyperparameters</h2> -->\n",
        "## Train different modules for different Hyperparameters\n"
      ]
    },
    {
      "cell_type": "markdown",
      "metadata": {
        "id": "fdbbf201-dba6-426a-a8f4-a0b1a3425f29"
      },
      "source": [
        "Try different values of learning rates, perform stochastic gradient descent, and save the results on the training data and validation data. Finally, save each model in a list.\n"
      ]
    },
    {
      "cell_type": "code",
      "metadata": {
        "id": "a1066d78-98a3-4807-94fe-9f4b29bd5a8f"
      },
      "outputs": [],
      "source": [
        "# Define the train model function and train the model\n",
        "\n",
        "def train_model_with_lr (iter, lr_list):\n",
        "\n",
        "    # iterate through different learning rates\n",
        "    for i, lr in enumerate(lr_list):\n",
        "        model = linear_regression(1, 1)\n",
        "        optimizer = optim.SGD(model.parameters(), lr = lr)\n",
        "        for epoch in range(iter):\n",
        "            for x, y in trainloader:\n",
        "                yhat = model(x)\n",
        "                loss = criterion(yhat, y)\n",
        "                optimizer.zero_grad()\n",
        "                loss.backward()\n",
        "                optimizer.step()\n",
        "\n",
        "        # train data\n",
        "        Yhat = model(train_data.x)\n",
        "        train_loss = criterion(Yhat, train_data.y)\n",
        "        train_error[i] = train_loss.item()\n",
        "\n",
        "        # validation data\n",
        "        Yhat = model(val_data.x)\n",
        "        val_loss = criterion(Yhat, val_data.y)\n",
        "        validation_error[i] = val_loss.item()\n",
        "        MODELS.append(model)\n",
        "\n",
        "train_model_with_lr(10, learning_rates)"
      ],
      "execution_count": 8
    },
    {
      "cell_type": "markdown",
      "metadata": {
        "id": "d8d8c824-e5db-452d-8d7f-2ea391240db9"
      },
      "source": [
        "<!--Empty Space for separating topics-->\n"
      ]
    },
    {
      "cell_type": "markdown",
      "metadata": {
        "id": "9473133f-ed0d-423c-b117-3f282a1e54f4"
      },
      "source": [
        "<!-- <h2 id=\"Result\">View the Results</h2>\n",
        " -->\n",
        "## View Results\n"
      ]
    },
    {
      "cell_type": "markdown",
      "metadata": {
        "id": "504f9d8f-6826-499f-8350-0a0fe42ad1fa"
      },
      "source": [
        "Plot the training loss and validation loss for each learning rate:  \n"
      ]
    },
    {
      "cell_type": "code",
      "metadata": {
        "colab": {
          "base_uri": "https://localhost:8080/",
          "height": 454
        },
        "id": "48ed7f4e-f3e0-445c-9555-cebd1482509e",
        "outputId": "a5e63689-3e77-4d1e-ee46-0b14dd152e2f"
      },
      "outputs": [
        {
          "output_type": "display_data",
          "data": {
            "text/plain": [
              "<Figure size 640x480 with 1 Axes>"
            ],
            "image/png": "[encoded data removed]"
          },
          "metadata": {}
        }
      ],
      "source": [
        "# Plot the training loss and validation loss\n",
        "\n",
        "plt.semilogx(np.array(learning_rates), train_error.numpy(), label = 'training loss/total Loss')\n",
        "plt.semilogx(np.array(learning_rates), validation_error.numpy(), label = 'validation cost/total Loss')\n",
        "plt.ylabel('Cost\\ Total Loss')\n",
        "plt.xlabel('learning rate')\n",
        "plt.legend()\n",
        "plt.show()"
      ],
      "execution_count": 9
    },
    {
      "cell_type": "markdown",
      "metadata": {
        "id": "0772302c-399b-4e17-8ba5-071fde71326c"
      },
      "source": [
        "Produce a prediction by using the validation data for each model:  \n"
      ]
    },
    {
      "cell_type": "code",
      "metadata": {
        "colab": {
          "base_uri": "https://localhost:8080/",
          "height": 663
        },
        "id": "4f8a9c4d-a919-48e5-adb6-141d929f2f65",
        "outputId": "007fb641-b57d-404e-ab82-30cb65794adc"
      },
      "outputs": [
        {
          "output_type": "stream",
          "name": "stdout",
          "text": [
            "0 [[0.5486362 ]\n",
            " [0.51432383]\n",
            " [0.48001134]]\n",
            "1 [[5.4636903]\n",
            " [5.345603 ]\n",
            " [5.227515 ]]\n",
            "2 [[6.6308947]\n",
            " [6.4953775]\n",
            " [6.3598604]]\n",
            "3 [[14.672744]\n",
            " [14.230321]\n",
            " [13.787897]]\n"
          ]
        },
        {
          "output_type": "display_data",
          "data": {
            "text/plain": [
              "<Figure size 640x480 with 1 Axes>"
            ],
            "image/png": "[encoded data removed]"
          },
          "metadata": {}
        }
      ],
      "source": [
        "# Plot the predictions\n",
        "\n",
        "i = 0\n",
        "for model, learning_rate in zip(MODELS, learning_rates):\n",
        "    yhat = model(val_data.x)\n",
        "    plt.plot(val_data.x.numpy(), yhat.detach().numpy(), label = 'lr:' + str(learning_rate))\n",
        "    print(i, yhat.detach().numpy()[0:3])\n",
        "    i+=1\n",
        "plt.plot(val_data.x.numpy(), val_data.f.numpy(), 'or', label = 'validation data')\n",
        "plt.xlabel('x')\n",
        "plt.ylabel('y')\n",
        "plt.legend()\n",
        "plt.show()"
      ],
      "execution_count": 10
    },
    {
      "cell_type": "markdown",
      "metadata": {
        "id": "24aeeaa0-4d21-4d13-a39f-eb7c8e1fb8fe"
      },
      "source": [
        "<!--Empty Space for separating topics-->\n"
      ]
    },
    {
      "cell_type": "markdown",
      "metadata": {
        "id": "6a72d7e3-2541-4e15-8632-5728f6a0614c"
      },
      "source": [
        "<h3>Practice</h3>\n"
      ]
    },
    {
      "cell_type": "markdown",
      "metadata": {
        "id": "2b683e9c-3d36-419b-9c92-9d64d24e4cf0"
      },
      "source": [
        "The object <code>good_model</code> is the best performing model. Use the train loader to get the data samples x and y. Produce an estimate for <code>yhat</code> and print it out for every sample in a for a loop. Compare it to the actual prediction <code>y</code>.\n"
      ]
    },
    {
      "cell_type": "code",
      "metadata": {
        "colab": {
          "base_uri": "https://localhost:8080/"
        },
        "id": "cfe25893-47cc-4b1d-834f-84e554a1de1b",
        "outputId": "78725d7b-7300-49a0-d3ae-97c02acf1b04"
      },
      "outputs": [
        {
          "output_type": "stream",
          "name": "stdout",
          "text": [
            "Prediction yhat - Actual value y: 14.672743797302246 - 0.0\n",
            "Prediction yhat - Actual value y: 14.230320930480957 - 9.720158576965332\n",
            "Prediction yhat - Actual value y: 13.787897109985352 - 9.375480651855469\n",
            "Prediction yhat - Actual value y: 13.345474243164062 - 9.122739791870117\n",
            "Prediction yhat - Actual value y: 12.903050422668457 - 8.79737663269043\n",
            "Prediction yhat - Actual value y: 12.460627555847168 - 8.490438461303711\n",
            "Prediction yhat - Actual value y: 12.018204689025879 - 8.174800872802734\n",
            "Prediction yhat - Actual value y: 11.575780868530273 - 7.848132610321045\n",
            "Prediction yhat - Actual value y: 11.133358001708984 - 7.703855514526367\n",
            "Prediction yhat - Actual value y: 10.690935134887695 - 7.300086498260498\n",
            "Prediction yhat - Actual value y: 10.24851131439209 - 6.952284812927246\n",
            "Prediction yhat - Actual value y: 9.8060884475708 - 6.75299072265625\n",
            "Prediction yhat - Actual value y: 9.363665580749512 - 6.463776111602783\n",
            "Prediction yhat - Actual value y: 8.921241760253906 - 6.116166114807129\n",
            "Prediction yhat - Actual value y: 8.478818893432617 - 5.9297637939453125\n",
            "Prediction yhat - Actual value y: 8.036395072937012 - 5.415326118469238\n",
            "Prediction yhat - Actual value y: 7.593972206115723 - 5.452183723449707\n",
            "Prediction yhat - Actual value y: 7.151548862457275 - 5.051514625549316\n",
            "Prediction yhat - Actual value y: 6.709125518798828 - 4.80637788772583\n",
            "Prediction yhat - Actual value y: 6.266702651977539 - 4.219330787658691\n",
            "Prediction yhat - Actual value y: 5.824279308319092 - 3.964454174041748\n",
            "Prediction yhat - Actual value y: 5.3818559646606445 - 3.6384241580963135\n",
            "Prediction yhat - Actual value y: 4.939432621002197 - 3.26203989982605\n",
            "Prediction yhat - Actual value y: 4.49700927734375 - 3.091702699661255\n",
            "Prediction yhat - Actual value y: 4.054586410522461 - 2.6986191272735596\n",
            "Prediction yhat - Actual value y: 3.6121630668640137 - 2.4195117950439453\n",
            "Prediction yhat - Actual value y: 3.1697397232055664 - 2.079252243041992\n",
            "Prediction yhat - Actual value y: 2.727316379547119 - 1.9881622791290283\n",
            "Prediction yhat - Actual value y: 2.284893274307251 - 1.4652622938156128\n",
            "Prediction yhat - Actual value y: 1.8424700498580933 - 1.445754885673523\n",
            "Prediction yhat - Actual value y: 1.4000468254089355 - 1.0093923807144165\n",
            "Prediction yhat - Actual value y: 0.9576235413551331 - 0.7053482532501221\n",
            "Prediction yhat - Actual value y: 0.5152001976966858 - 0.33895978331565857\n",
            "Prediction yhat - Actual value y: 0.0727769136428833 - 0.11818882822990417\n",
            "Prediction yhat - Actual value y: -0.3696463108062744 - -0.3426787257194519\n",
            "Prediction yhat - Actual value y: -0.8120695352554321 - -0.48486584424972534\n",
            "Prediction yhat - Actual value y: -1.2544928789138794 - -0.8903295397758484\n",
            "Prediction yhat - Actual value y: -1.6969159841537476 - -1.103359580039978\n",
            "Prediction yhat - Actual value y: -2.1393394470214844 - -1.4453731775283813\n",
            "Prediction yhat - Actual value y: -2.5817623138427734 - -1.7347851991653442\n",
            "Prediction yhat - Actual value y: -3.0241856575012207 - -1.8948032855987549\n",
            "Prediction yhat - Actual value y: -3.466609001159668 - -2.408999443054199\n",
            "Prediction yhat - Actual value y: -3.9090323448181152 - -2.4348104000091553\n",
            "Prediction yhat - Actual value y: -4.351455211639404 - -2.791478157043457\n",
            "Prediction yhat - Actual value y: -4.793878555297852 - -3.3711373805999756\n",
            "Prediction yhat - Actual value y: -5.236301898956299 - -3.4169275760650635\n",
            "Prediction yhat - Actual value y: -5.678725242614746 - -3.760312795639038\n",
            "Prediction yhat - Actual value y: -6.121148586273193 - -4.205776691436768\n",
            "Prediction yhat - Actual value y: -6.563571453094482 - -4.302626132965088\n",
            "Prediction yhat - Actual value y: -7.0059943199157715 - -4.634032249450684\n",
            "Prediction yhat - Actual value y: -7.448418140411377 - 20.0\n",
            "Prediction yhat - Actual value y: -7.890841007232666 - 20.0\n",
            "Prediction yhat - Actual value y: -8.33326530456543 - 20.0\n",
            "Prediction yhat - Actual value y: -8.775688171386719 - 20.0\n",
            "Prediction yhat - Actual value y: -9.218111991882324 - 20.0\n",
            "Prediction yhat - Actual value y: -9.660534858703613 - -6.347146034240723\n",
            "Prediction yhat - Actual value y: -10.102957725524902 - -6.837805271148682\n",
            "Prediction yhat - Actual value y: -10.545381546020508 - -7.2978129386901855\n",
            "Prediction yhat - Actual value y: -10.987804412841797 - -7.4162726402282715\n",
            "Prediction yhat - Actual value y: -11.430228233337402 - -7.81918478012085\n"
          ]
        }
      ],
      "source": [
        "good_model = MODELS[np.argmin(validation_error)]\n",
        "\n",
        "for x, y in trainloader:\n",
        "  yhat = model(x)\n",
        "  print(f\"Prediction yhat - Actual value y: {yhat.item()} - {y.item()}\")"
      ],
      "execution_count": 14
    },
    {
      "cell_type": "markdown",
      "metadata": {
        "id": "4106e73d-a570-4f16-b732-38938195ac3f"
      },
      "source": [
        "Double-click <b>here</b> for the solution.\n",
        "\n",
        "<!--\n",
        "for x, y in trainloader:\n",
        "    print(\"yhat= \", model(x),\"y\", y)\n",
        "-->\n"
      ]
    },
    {
      "cell_type": "markdown",
      "metadata": {
        "id": "e03cb28b-3803-469a-b144-37595d259869"
      },
      "source": [
        "\n",
        "\n",
        "<a href=\"https://dataplatform.cloud.ibm.com/registration/stepone?utm_source=skills_network&utm_content=in_lab_content_link&utm_id=Lab-IBMDeveloperSkillsNetwork-DL0110EN-SkillsNetwork&context=cpdaas&apps=data_science_experience%2Cwatson_machine_learning\"><img src=\"https://cf-courses-data.s3.us.cloud-object-storage.appdomain.cloud/IBMDeveloperSkillsNetwork-DL0110EN-SkillsNetwork/Template/module%201/images/Watson_Studio.png\"></a>\n"
      ]
    },
    {
      "cell_type": "markdown",
      "metadata": {
        "id": "77a9ad60-d157-435b-ad20-188032f411e5"
      },
      "source": [
        "<!--Empty Space for separating topics-->\n"
      ]
    },
    {
      "cell_type": "markdown",
      "metadata": {
        "id": "54a1a0d8-d6aa-4fc8-85b1-937ae8c8f9b8"
      },
      "source": [
        "<h2>About the Authors:</h2>\n",
        "\n",
        "<a href=\"https://www.linkedin.com/in/joseph-s-50398b136/\">Joseph Santarcangelo</a> has a PhD in Electrical Engineering, his research focused on using machine learning, signal processing, and computer vision to determine how videos impact human cognition. Joseph has been working for IBM since he completed his PhD.\n"
      ]
    },
    {
      "cell_type": "markdown",
      "metadata": {
        "id": "576db191-c84d-4e60-ba76-80effd745419"
      },
      "source": [
        "Other contributors: <a href=\"https://www.linkedin.com/in/michelleccarey/\">Michelle Carey</a>, <a href=\"https://www.linkedin.com/in/jiahui-mavis-zhou-a4537814a/\">Mavis Zhou</a>\n"
      ]
    },
    {
      "cell_type": "markdown",
      "metadata": {
        "id": "fddd935f-6d45-439d-a877-37c17a45c102"
      },
      "source": [
        "<!--\n",
        "## Change Log\n",
        "\n",
        "|  Date (YYYY-MM-DD) |  Version | Changed By  |  Change Description |\n",
        "|---|---|---|---|\n",
        "| 2020-09-23  | 2.0  | Shubham  |  Migrated Lab to Markdown and added to course repo in GitLab |\n",
        "\n",
        "-->\n"
      ]
    },
    {
      "cell_type": "markdown",
      "metadata": {
        "id": "6efac2d7-ade9-44d7-a36d-544307fb3920"
      },
      "source": [
        "<hr>\n"
      ]
    },
    {
      "cell_type": "markdown",
      "metadata": {
        "id": "7c8a8ad9-0738-4dc4-880d-6cd04b60b99b"
      },
      "source": [
        "\n",
        "\n",
        "\n",
        "## <h3 align=\"center\"> &#169; IBM Corporation. All rights reserved. <h3/>\n"
      ]
    }
  ],
  "metadata": {
    "kernelspec": {
      "display_name": "Python",
      "language": "python",
      "name": "conda-env-python-py"
    },
    "language_info": {
      "codemirror_mode": {
        "name": "ipython",
        "version": 3
      },
      "file_extension": ".py",
      "mimetype": "text/x-python",
      "name": "python",
      "nbconvert_exporter": "python",
      "pygments_lexer": "ipython3",
      "version": "3.7.12"
    },
    "prev_pub_hash": "66fe89bc4b52d8961054dd9d19aa868bf7acc2d75fda5be07c64a3610bcc44d9",
    "colab": {
      "provenance": [],
      "include_colab_link": true
    }
  },
  "nbformat": 4,
  "nbformat_minor": 0
}