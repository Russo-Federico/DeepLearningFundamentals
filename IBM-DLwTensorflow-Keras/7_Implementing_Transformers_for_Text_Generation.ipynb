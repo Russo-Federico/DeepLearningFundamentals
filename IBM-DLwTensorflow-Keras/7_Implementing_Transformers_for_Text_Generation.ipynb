{
  "cells": [
    {
      "cell_type": "markdown",
      "metadata": {
        "id": "view-in-github",
        "colab_type": "text"
      },
      "source": [
        "<a href=\"https://colab.research.google.com/github/Russo-Federico/DeepLearningFundamentals/blob/main/IBM-DLwTensorflow-Keras/7_Implementing_Transformers_for_Text_Generation.ipynb\" target=\"_parent\"><img src=\"https://colab.research.google.com/assets/colab-badge.svg\" alt=\"Open In Colab\"/></a>"
      ]
    },
    {
      "cell_type": "markdown",
      "metadata": {
        "id": "ef43d606-ffbf-4d31-8bf2-4e282a3b7fd1"
      },
      "source": [
        "<p style=\"text-align:center\">\n",
        "    <a href=\"https://skills.network\" target=\"_blank\">\n",
        "    <img src=\"https://cf-courses-data.s3.us.cloud-object-storage.appdomain.cloud/assets/logos/SN_web_lightmode.png\" width=\"200\" alt=\"Skills Network Logo\"  />\n",
        "    </a>\n",
        "</p>\n"
      ]
    },
    {
      "cell_type": "markdown",
      "metadata": {
        "id": "0d1070d7-bdee-4cdd-998e-43fc69221a57"
      },
      "source": [
        "# **Lab: Implementing Transformers for Text Generation**\n"
      ]
    },
    {
      "cell_type": "markdown",
      "metadata": {
        "id": "06518731-3adb-44fb-b07a-e92be1e9ef46"
      },
      "source": [
        "Estimated time needed: **30** minutes\n"
      ]
    },
    {
      "cell_type": "markdown",
      "metadata": {
        "id": "c8de81c8-a381-441d-aad9-81be2958b7f2"
      },
      "source": [
        "In this lab, you will learn to implement Transformers for text generation tasks.\n"
      ]
    },
    {
      "cell_type": "markdown",
      "metadata": {
        "id": "c49e21a1-9b40-4e25-9a5f-fe992516dc37"
      },
      "source": [
        "## Learning Objectives\n",
        "\n",
        "- Implement Transformers for text generation tasks\n",
        "\n",
        "- Build, train, and evaluate Transformer models for text generation using TensorFlow and Keras\n",
        "\n",
        "- Apply text generation in real-world scenarios\n"
      ]
    },
    {
      "cell_type": "markdown",
      "metadata": {
        "id": "cc08e5d2-f3e9-4dd6-b814-5f19e29fff46"
      },
      "source": [
        "----\n"
      ]
    },
    {
      "cell_type": "markdown",
      "metadata": {
        "id": "204c16a7-09f7-40e3-9f04-f6d1d0b96295"
      },
      "source": [
        "### Step-by-step instructions\n",
        "\n",
        "#### Step 1: Set up the environment\n",
        "\n",
        "- Import necessary libraries and load the data set\n",
        "\n",
        "- Preprocess the dataset for training\n",
        "\n",
        "In the following code:\n",
        "\n",
        "- Import TensorFlow and other necessary libraries.\n",
        "\n",
        "- Load the Shakespeare text dataset.\n",
        "\n",
        "- Preprocess the data set using the TextVectorization layer to convert text into integer sequences.\n"
      ]
    },
    {
      "cell_type": "code",
      "metadata": {
        "id": "6405c6b6-bcd4-49b4-9773-602bfd73d0dd"
      },
      "outputs": [],
      "source": [
        "%%capture\n",
        "!pip install tensorflow==2.16.2\n",
        "!pip install pandas\n",
        "!pip install scikit-learn"
      ],
      "execution_count": 1
    },
    {
      "cell_type": "code",
      "metadata": {
        "id": "e7a238cf-153b-436e-bb20-f49db0c396d4"
      },
      "outputs": [],
      "source": [
        "import tensorflow as tf\n",
        "import numpy as np\n",
        "from tensorflow.keras.layers import TextVectorization\n",
        "from tensorflow.keras.utils import get_file"
      ],
      "execution_count": 2
    },
    {
      "cell_type": "code",
      "metadata": {
        "colab": {
          "base_uri": "https://localhost:8080/"
        },
        "id": "f838869d-eccd-42f2-b3f3-3ae7c0bbd2cc",
        "outputId": "3a4b7091-a7cd-4a05-f8a0-c7cd22264fd8"
      },
      "outputs": [
        {
          "output_type": "stream",
          "name": "stdout",
          "text": [
            "Downloading data from https://storage.googleapis.com/download.tensorflow.org/data/shakespeare.txt\n",
            "\u001b[1m1115394/1115394\u001b[0m \u001b[32m━━━━━━━━━━━━━━━━━━━━\u001b[0m\u001b[37m\u001b[0m \u001b[1m0s\u001b[0m 0us/step\n",
            "First Citizen:\n",
            "Before we proceed any further, hear me speak.\n",
            "\n",
            "All:\n",
            "Speak, speak.\n",
            "\n",
            "First Citizen:\n",
            "You are all resolved rather to die than to famish?\n",
            "\n",
            "All:\n",
            "Resolved. resolved.\n",
            "\n",
            "First Citizen:\n",
            "First, you know Caius Marcius is chief enemy to the people.\n",
            "\n",
            "All:\n",
            "We know't, we know't.\n",
            "\n",
            "First Citizen:\n",
            "Let us kill him, and we'll have corn at our own price.\n",
            "Is't a verdict?\n",
            "\n",
            "All:\n",
            "No more talking on't; let it be done: away, away!\n",
            "\n",
            "Second Citizen:\n",
            "One word, good citizens.\n",
            "\n",
            "First Citizen:\n",
            "We are accounted poor citizens, the patricians good.\n",
            "What authority surfeits on would relieve us: if they\n",
            "would yield us but the superfluity, while it were\n",
            "wholesome, we might guess they relieved us humanely;\n",
            "but they think we are too dear: the leanness that\n",
            "afflicts us, the object of our misery, is as an\n",
            "inventory to particularise their abundance; our\n",
            "sufferance is a gain to them Let us revenge this with\n",
            "our pikes, ere we become rakes: for the gods know I\n",
            "speak this in hunger for bread, not in thirst for revenge.\n",
            "\n",
            "\n"
          ]
        }
      ],
      "source": [
        "# Load the dataset\n",
        "path_to_file = get_file('shakespeare.txt', 'https://storage.googleapis.com/download.tensorflow.org/data/shakespeare.txt')\n",
        "text = open(path_to_file, 'rb').read().decode(encoding='utf-8')\n",
        "\n",
        "# Preview the dataset\n",
        "print(text[:1000])"
      ],
      "execution_count": 3
    },
    {
      "cell_type": "code",
      "metadata": {
        "colab": {
          "base_uri": "https://localhost:8080/"
        },
        "id": "0a140479-c1f7-4358-9bf7-ea8858115461",
        "outputId": "dc5be90a-5659-4ef6-dbd1-a0af17330250"
      },
      "outputs": [
        {
          "output_type": "stream",
          "name": "stdout",
          "text": [
            "Vectorized text shape: (202646,)\n",
            "First 10 vectorized tokens: [ 89 270 138  36 982 144 673 125  16 106]\n"
          ]
        }
      ],
      "source": [
        "# Preprocess the dataset\n",
        "vocab_size = 10000\n",
        "seq_length = 100\n",
        "\n",
        "# Adapt TextVectorization to full text\n",
        "vectorizer = TextVectorization(max_tokens=vocab_size, output_mode='int')\n",
        "text_ds = tf.data.Dataset.from_tensor_slices([text]).batch(1)\n",
        "vectorizer.adapt(text_ds)\n",
        "\n",
        "# Vectorize the text\n",
        "vectorized_text = vectorizer([text])[0]\n",
        "print(\"Vectorized text shape:\", vectorized_text.shape)\n",
        "print(\"First 10 vectorized tokens:\", vectorized_text.numpy()[:10])"
      ],
      "execution_count": 4
    },
    {
      "cell_type": "markdown",
      "metadata": {
        "id": "f0bd5ac5-7709-4010-9632-ac2697f0ab20"
      },
      "source": [
        "#### Step 2: Create input and target sequences\n",
        "\n",
        "Generate input and target sequences for training the Transformer model.\n",
        "\n",
        "In the following code:\n",
        "\n",
        "- Define a function to generate input and target sequences.\n",
        "\n",
        "- Split the text data into sequences of the specified length.\n",
        "\n",
        "- Convert the sequences into TensorFlow tensors for training.\n",
        "\n",
        "Generative sequence:\n"
      ]
    },
    {
      "cell_type": "code",
      "metadata": {
        "colab": {
          "base_uri": "https://localhost:8080/"
        },
        "id": "9817281d-8c7f-4079-978c-5635afe250e2",
        "outputId": "5e2a29cc-5957-49e7-e1e7-e025ff77a358"
      },
      "outputs": [
        {
          "output_type": "stream",
          "name": "stdout",
          "text": [
            "Number of sequences generated: 202546\n",
            "Sample input sequence: [  89  270  138   36  982  144  673  125   16  106   34  106  106   89\n",
            "  270    7   41   34 1286  344    4  200   64    4 3690   34 1286 1286\n",
            "   89  270   89    7   93 1187  225   12 2442  592    4    2  307   34\n",
            "   36 2655   36 2655   89  270   72   79  506   27    3   56   24 1390\n",
            "   57   40  161 2328  644    9 4980   34   32   54 2863  885   72   17\n",
            "   18  163  146  146  165  270   74  218   46  595   89  270   36   41\n",
            " 6739  172  595    2 1780   46   29 1323 5151   47   58 4151   79   39\n",
            "   60   58]\n",
            "Shape of X: (202546, 100)\n",
            "Shape of Y: (202546, 100)\n"
          ]
        }
      ],
      "source": [
        "def create_sequences(text, seq_length):\n",
        "    input_seqs = []\n",
        "    target_seqs = []\n",
        "    for i in range(len(text) - seq_length):\n",
        "        input_seq = text[i:i + seq_length]\n",
        "        target_seq = text[i + 1:i + seq_length + 1]\n",
        "        input_seqs.append(input_seq)\n",
        "        target_seqs.append(target_seq)\n",
        "    return np.array(input_seqs), np.array(target_seqs)\n",
        "\n",
        "# Generate sequences\n",
        "X, Y = create_sequences(vectorized_text.numpy(), seq_length)\n",
        "\n",
        "# Check if sequences are correctly generated\n",
        "print(\"Number of sequences generated:\", len(X))\n",
        "print(\"Sample input sequence:\", X[0] if len(X) > 0 else \"No sequences generated\")\n",
        "\n",
        "# Check if X and Y are not empty\n",
        "assert X.size > 0, \"Input data X is empty\"\n",
        "assert Y.size > 0, \"Target data Y is empty\"\n",
        "X = tf.convert_to_tensor(X)\n",
        "Y = tf.convert_to_tensor(Y)\n",
        "print(\"Shape of X:\", X.shape)\n",
        "print(\"Shape of Y:\", Y.shape)\n"
      ],
      "execution_count": 5
    },
    {
      "cell_type": "markdown",
      "metadata": {
        "id": "041b9862-1332-493c-8f74-16ebe085d729"
      },
      "source": [
        "#### Step 3: Build the Transformer model\n",
        "\n",
        "Define the Transformer model architecture for text generation.\n",
        "\n",
        "In the following code:\n",
        "\n",
        "- Define the TransformerBlock class that includes multi-head attention and feedforward layers with normalization and dropout.\n",
        "\n",
        "- Define the TransformerModel class, including embedding, positional encoding, and multiple Transformer blocks.\n",
        "\n",
        "- Compile the Transformer model using the Adam optimizer and sparse categorical cross-entropy loss function.\n",
        "\n",
        "Transformer model:\n"
      ]
    },
    {
      "cell_type": "code",
      "metadata": {
        "id": "2c47ef52-13aa-4b4c-848e-ac3189190c5f"
      },
      "outputs": [],
      "source": [
        "from tensorflow.keras.layers import Embedding, MultiHeadAttention, Dense, LayerNormalization, Dropout\n",
        "from tensorflow.keras.models import Model\n",
        "\n",
        "class TransformerBlock(tf.keras.layers.Layer):\n",
        "    def __init__(self, embed_dim, num_heads, ff_dim, rate=0.1):\n",
        "        super(TransformerBlock, self).__init__()\n",
        "        self.att = MultiHeadAttention(num_heads=num_heads, key_dim=embed_dim)\n",
        "        self.ffn = tf.keras.Sequential([\n",
        "            Dense(ff_dim, activation=\"relu\"),\n",
        "            Dense(embed_dim),\n",
        "        ])\n",
        "        self.layernorm1 = LayerNormalization(epsilon=1e-6)\n",
        "        self.layernorm2 = LayerNormalization(epsilon=1e-6)\n",
        "        self.dropout1 = Dropout(rate)\n",
        "        self.dropout2 = Dropout(rate)\n",
        "\n",
        "    def call(self, inputs, training=False):\n",
        "        attn_output = self.att(inputs, inputs)\n",
        "        attn_output = self.dropout1(attn_output, training=training)\n",
        "        out1 = self.layernorm1(inputs + attn_output)\n",
        "        ffn_output = self.ffn(out1)\n",
        "        ffn_output = self.dropout2(ffn_output, training=training)\n",
        "        return self.layernorm2(out1 + ffn_output)\n",
        "\n",
        "class TransformerModel(Model):  # Model is now properly imported\n",
        "    def __init__(self, vocab_size, embed_dim, num_heads, ff_dim, num_layers, seq_length):\n",
        "        super(TransformerModel, self).__init__()\n",
        "        self.embedding = Embedding(vocab_size, embed_dim)\n",
        "        self.pos_encoding = self.positional_encoding(seq_length, embed_dim)\n",
        "        self.transformer_blocks = [TransformerBlock(embed_dim, num_heads, ff_dim) for _ in range(num_layers)]\n",
        "        self.dense = Dense(vocab_size)\n",
        "\n",
        "    def positional_encoding(self, seq_length, embed_dim):\n",
        "        angle_rads = self.get_angles(np.arange(seq_length)[:, np.newaxis], np.arange(embed_dim)[np.newaxis, :], embed_dim)\n",
        "        angle_rads[:, 0::2] = np.sin(angle_rads[:, 0::2])\n",
        "        angle_rads[:, 1::2] = np.cos(angle_rads[:, 1::2])\n",
        "        pos_encoding = angle_rads[np.newaxis, ...]\n",
        "        return tf.cast(pos_encoding, dtype=tf.float32)\n",
        "\n",
        "    def get_angles(self, pos, i, embed_dim):\n",
        "        angle_rates = 1 / np.power(10000, (2 * (i // 2)) / np.float32(embed_dim))\n",
        "        return pos * angle_rates\n",
        "\n",
        "    def call(self, inputs, training=False):\n",
        "        seq_len = tf.shape(inputs)[1]\n",
        "        x = self.embedding(inputs)\n",
        "        x += self.pos_encoding[:, :seq_len, :]\n",
        "        for transformer_block in self.transformer_blocks:\n",
        "            x = transformer_block(x, training=training)  # Pass training argument correctly\n",
        "        output = self.dense(x)\n",
        "        return output"
      ],
      "execution_count": 6
    },
    {
      "cell_type": "code",
      "metadata": {
        "colab": {
          "base_uri": "https://localhost:8080/",
          "height": 397
        },
        "id": "231b39d7-f3eb-433f-afd6-ee221dccb00d",
        "outputId": "1c49efe3-9c0a-4848-e6af-08c5cdf6c24b"
      },
      "outputs": [
        {
          "output_type": "display_data",
          "data": {
            "text/plain": [
              "\u001b[1mModel: \"transformer_model\"\u001b[0m\n"
            ],
            "text/html": [
              "<pre style=\"white-space:pre;overflow-x:auto;line-height:normal;font-family:Menlo,'DejaVu Sans Mono',consolas,'Courier New',monospace\"><span style=\"font-weight: bold\">Model: \"transformer_model\"</span>\n",
              "</pre>\n"
            ]
          },
          "metadata": {}
        },
        {
          "output_type": "display_data",
          "data": {
            "text/plain": [
              "┏━━━━━━━━━━━━━━━━━━━━━━━━━━━━━━━━━┳━━━━━━━━━━━━━━━━━━━━━━━━┳━━━━━━━━━━━━━━━┓\n",
              "┃\u001b[1m \u001b[0m\u001b[1mLayer (type)                   \u001b[0m\u001b[1m \u001b[0m┃\u001b[1m \u001b[0m\u001b[1mOutput Shape          \u001b[0m\u001b[1m \u001b[0m┃\u001b[1m \u001b[0m\u001b[1m      Param #\u001b[0m\u001b[1m \u001b[0m┃\n",
              "┡━━━━━━━━━━━━━━━━━━━━━━━━━━━━━━━━━╇━━━━━━━━━━━━━━━━━━━━━━━━╇━━━━━━━━━━━━━━━┩\n",
              "│ embedding (\u001b[38;5;33mEmbedding\u001b[0m)           │ (\u001b[38;5;34m1\u001b[0m, \u001b[38;5;34m100\u001b[0m, \u001b[38;5;34m256\u001b[0m)          │     \u001b[38;5;34m2,560,000\u001b[0m │\n",
              "├─────────────────────────────────┼────────────────────────┼───────────────┤\n",
              "│ transformer_block               │ ?                      │     \u001b[38;5;34m1,315,840\u001b[0m │\n",
              "│ (\u001b[38;5;33mTransformerBlock\u001b[0m)              │                        │               │\n",
              "├─────────────────────────────────┼────────────────────────┼───────────────┤\n",
              "│ transformer_block_1             │ ?                      │     \u001b[38;5;34m1,315,840\u001b[0m │\n",
              "│ (\u001b[38;5;33mTransformerBlock\u001b[0m)              │                        │               │\n",
              "├─────────────────────────────────┼────────────────────────┼───────────────┤\n",
              "│ transformer_block_2             │ ?                      │     \u001b[38;5;34m1,315,840\u001b[0m │\n",
              "│ (\u001b[38;5;33mTransformerBlock\u001b[0m)              │                        │               │\n",
              "├─────────────────────────────────┼────────────────────────┼───────────────┤\n",
              "│ transformer_block_3             │ ?                      │     \u001b[38;5;34m1,315,840\u001b[0m │\n",
              "│ (\u001b[38;5;33mTransformerBlock\u001b[0m)              │                        │               │\n",
              "├─────────────────────────────────┼────────────────────────┼───────────────┤\n",
              "│ dense_8 (\u001b[38;5;33mDense\u001b[0m)                 │ (\u001b[38;5;34m1\u001b[0m, \u001b[38;5;34m100\u001b[0m, \u001b[38;5;34m10000\u001b[0m)        │     \u001b[38;5;34m2,570,000\u001b[0m │\n",
              "└─────────────────────────────────┴────────────────────────┴───────────────┘\n"
            ],
            "text/html": [
              "<pre style=\"white-space:pre;overflow-x:auto;line-height:normal;font-family:Menlo,'DejaVu Sans Mono',consolas,'Courier New',monospace\">┏━━━━━━━━━━━━━━━━━━━━━━━━━━━━━━━━━┳━━━━━━━━━━━━━━━━━━━━━━━━┳━━━━━━━━━━━━━━━┓\n",
              "┃<span style=\"font-weight: bold\"> Layer (type)                    </span>┃<span style=\"font-weight: bold\"> Output Shape           </span>┃<span style=\"font-weight: bold\">       Param # </span>┃\n",
              "┡━━━━━━━━━━━━━━━━━━━━━━━━━━━━━━━━━╇━━━━━━━━━━━━━━━━━━━━━━━━╇━━━━━━━━━━━━━━━┩\n",
              "│ embedding (<span style=\"color: #0087ff; text-decoration-color: #0087ff\">Embedding</span>)           │ (<span style=\"color: #00af00; text-decoration-color: #00af00\">1</span>, <span style=\"color: #00af00; text-decoration-color: #00af00\">100</span>, <span style=\"color: #00af00; text-decoration-color: #00af00\">256</span>)          │     <span style=\"color: #00af00; text-decoration-color: #00af00\">2,560,000</span> │\n",
              "├─────────────────────────────────┼────────────────────────┼───────────────┤\n",
              "│ transformer_block               │ ?                      │     <span style=\"color: #00af00; text-decoration-color: #00af00\">1,315,840</span> │\n",
              "│ (<span style=\"color: #0087ff; text-decoration-color: #0087ff\">TransformerBlock</span>)              │                        │               │\n",
              "├─────────────────────────────────┼────────────────────────┼───────────────┤\n",
              "│ transformer_block_1             │ ?                      │     <span style=\"color: #00af00; text-decoration-color: #00af00\">1,315,840</span> │\n",
              "│ (<span style=\"color: #0087ff; text-decoration-color: #0087ff\">TransformerBlock</span>)              │                        │               │\n",
              "├─────────────────────────────────┼────────────────────────┼───────────────┤\n",
              "│ transformer_block_2             │ ?                      │     <span style=\"color: #00af00; text-decoration-color: #00af00\">1,315,840</span> │\n",
              "│ (<span style=\"color: #0087ff; text-decoration-color: #0087ff\">TransformerBlock</span>)              │                        │               │\n",
              "├─────────────────────────────────┼────────────────────────┼───────────────┤\n",
              "│ transformer_block_3             │ ?                      │     <span style=\"color: #00af00; text-decoration-color: #00af00\">1,315,840</span> │\n",
              "│ (<span style=\"color: #0087ff; text-decoration-color: #0087ff\">TransformerBlock</span>)              │                        │               │\n",
              "├─────────────────────────────────┼────────────────────────┼───────────────┤\n",
              "│ dense_8 (<span style=\"color: #0087ff; text-decoration-color: #0087ff\">Dense</span>)                 │ (<span style=\"color: #00af00; text-decoration-color: #00af00\">1</span>, <span style=\"color: #00af00; text-decoration-color: #00af00\">100</span>, <span style=\"color: #00af00; text-decoration-color: #00af00\">10000</span>)        │     <span style=\"color: #00af00; text-decoration-color: #00af00\">2,570,000</span> │\n",
              "└─────────────────────────────────┴────────────────────────┴───────────────┘\n",
              "</pre>\n"
            ]
          },
          "metadata": {}
        },
        {
          "output_type": "display_data",
          "data": {
            "text/plain": [
              "\u001b[1m Total params: \u001b[0m\u001b[38;5;34m10,393,360\u001b[0m (39.65 MB)\n"
            ],
            "text/html": [
              "<pre style=\"white-space:pre;overflow-x:auto;line-height:normal;font-family:Menlo,'DejaVu Sans Mono',consolas,'Courier New',monospace\"><span style=\"font-weight: bold\"> Total params: </span><span style=\"color: #00af00; text-decoration-color: #00af00\">10,393,360</span> (39.65 MB)\n",
              "</pre>\n"
            ]
          },
          "metadata": {}
        },
        {
          "output_type": "display_data",
          "data": {
            "text/plain": [
              "\u001b[1m Trainable params: \u001b[0m\u001b[38;5;34m10,393,360\u001b[0m (39.65 MB)\n"
            ],
            "text/html": [
              "<pre style=\"white-space:pre;overflow-x:auto;line-height:normal;font-family:Menlo,'DejaVu Sans Mono',consolas,'Courier New',monospace\"><span style=\"font-weight: bold\"> Trainable params: </span><span style=\"color: #00af00; text-decoration-color: #00af00\">10,393,360</span> (39.65 MB)\n",
              "</pre>\n"
            ]
          },
          "metadata": {}
        },
        {
          "output_type": "display_data",
          "data": {
            "text/plain": [
              "\u001b[1m Non-trainable params: \u001b[0m\u001b[38;5;34m0\u001b[0m (0.00 B)\n"
            ],
            "text/html": [
              "<pre style=\"white-space:pre;overflow-x:auto;line-height:normal;font-family:Menlo,'DejaVu Sans Mono',consolas,'Courier New',monospace\"><span style=\"font-weight: bold\"> Non-trainable params: </span><span style=\"color: #00af00; text-decoration-color: #00af00\">0</span> (0.00 B)\n",
              "</pre>\n"
            ]
          },
          "metadata": {}
        }
      ],
      "source": [
        "# Hyperparameters\n",
        "embed_dim = 256\n",
        "num_heads = 4\n",
        "ff_dim = 512\n",
        "num_layers = 4\n",
        "\n",
        "# Build the Transformer model\n",
        "model = TransformerModel(vocab_size, embed_dim, num_heads, ff_dim, num_layers, seq_length)\n",
        "\n",
        "# Provide input shape to build the model by passing a dummy input with maxval specified\n",
        "_ = model(tf.random.uniform((1, seq_length), maxval=vocab_size, dtype=tf.int32))\n",
        "\n",
        "# Compile the model\n",
        "model.compile(optimizer='adam', loss='sparse_categorical_crossentropy')\n",
        "\n",
        "# Summary of the model\n",
        "model.summary()\n"
      ],
      "execution_count": 7
    },
    {
      "cell_type": "markdown",
      "metadata": {
        "id": "35b11812-91be-4b76-8e91-3c013004d23f"
      },
      "source": [
        "#### Step 4: Train the Transformer model\n",
        "\n",
        "Train the Transformer model on the preprocessed text data.\n",
        "\n",
        "In the following code:\n",
        "\n",
        "- Train the Transformer model on the input and target sequences\n",
        "\n",
        "- Plot the training loss to monitor the model's performance over epochs\n",
        "\n",
        "Model training:\n"
      ]
    },
    {
      "cell_type": "code",
      "metadata": {
        "colab": {
          "base_uri": "https://localhost:8080/"
        },
        "id": "3f7f57a6-4d39-4851-a6d2-8eb006633842",
        "outputId": "c7a9bec6-46e9-4ed9-c2dc-e050bcbf9c3a"
      },
      "outputs": [
        {
          "output_type": "stream",
          "name": "stdout",
          "text": [
            "Requirement already satisfied: matplotlib in /usr/local/lib/python3.11/dist-packages (3.10.0)\n",
            "Requirement already satisfied: contourpy>=1.0.1 in /usr/local/lib/python3.11/dist-packages (from matplotlib) (1.3.2)\n",
            "Requirement already satisfied: cycler>=0.10 in /usr/local/lib/python3.11/dist-packages (from matplotlib) (0.12.1)\n",
            "Requirement already satisfied: fonttools>=4.22.0 in /usr/local/lib/python3.11/dist-packages (from matplotlib) (4.58.4)\n",
            "Requirement already satisfied: kiwisolver>=1.3.1 in /usr/local/lib/python3.11/dist-packages (from matplotlib) (1.4.8)\n",
            "Requirement already satisfied: numpy>=1.23 in /usr/local/lib/python3.11/dist-packages (from matplotlib) (1.26.4)\n",
            "Requirement already satisfied: packaging>=20.0 in /usr/local/lib/python3.11/dist-packages (from matplotlib) (24.2)\n",
            "Requirement already satisfied: pillow>=8 in /usr/local/lib/python3.11/dist-packages (from matplotlib) (11.2.1)\n",
            "Requirement already satisfied: pyparsing>=2.3.1 in /usr/local/lib/python3.11/dist-packages (from matplotlib) (3.2.3)\n",
            "Requirement already satisfied: python-dateutil>=2.7 in /usr/local/lib/python3.11/dist-packages (from matplotlib) (2.9.0.post0)\n",
            "Requirement already satisfied: six>=1.5 in /usr/local/lib/python3.11/dist-packages (from python-dateutil>=2.7->matplotlib) (1.17.0)\n"
          ]
        }
      ],
      "source": [
        "!pip install matplotlib"
      ],
      "execution_count": 8
    },
    {
      "cell_type": "markdown",
      "metadata": {
        "id": "ac7ec952-b011-4e75-a8b6-bf46905c57e4"
      },
      "source": [
        "> #### Note: The original dataset is large, we have reduced it to 10,000 samples and limited the training to 2 epochs in order to minimize execution time\n"
      ]
    },
    {
      "cell_type": "code",
      "metadata": {
        "id": "7a6df9d3-6339-406d-89ef-48f33ee2f11d"
      },
      "outputs": [],
      "source": [
        "X = X[:10000]\n",
        "Y = Y[:10000]"
      ],
      "execution_count": 9
    },
    {
      "cell_type": "code",
      "metadata": {
        "colab": {
          "base_uri": "https://localhost:8080/",
          "height": 543
        },
        "id": "3bd697c2-5f63-4d31-89af-f812a9223ff8",
        "outputId": "826d5721-7f9a-4e52-a3f5-72ee82f4232d"
      },
      "outputs": [
        {
          "output_type": "stream",
          "name": "stdout",
          "text": [
            "Epoch 1/2\n",
            "\u001b[1m313/313\u001b[0m \u001b[32m━━━━━━━━━━━━━━━━━━━━\u001b[0m\u001b[37m\u001b[0m \u001b[1m1807s\u001b[0m 6s/step - loss: 10.9144\n",
            "Epoch 2/2\n",
            "\u001b[1m313/313\u001b[0m \u001b[32m━━━━━━━━━━━━━━━━━━━━\u001b[0m\u001b[37m\u001b[0m \u001b[1m1765s\u001b[0m 6s/step - loss: 10.9582\n"
          ]
        },
        {
          "output_type": "display_data",
          "data": {
            "text/plain": [
              "<Figure size 640x480 with 1 Axes>"
            ],
            "image/png": "[encoded data removed]"
          },
          "metadata": {}
        }
      ],
      "source": [
        "# Import necessary libraries for training visualization\n",
        "import matplotlib.pyplot as plt\n",
        "from tensorflow.keras.callbacks import EarlyStopping\n",
        "\n",
        "# Early stopping callback to stop training if the loss doesn't improve\n",
        "early_stopping = EarlyStopping(monitor='loss', patience=2, restore_best_weights=True)\n",
        "\n",
        "# Train the transformer model on the full input and target sequences\n",
        "history = model.fit(X, Y, epochs=2, batch_size=32, callbacks=[early_stopping])\n",
        "\n",
        "# Plot training loss to monitor model performance over epochs\n",
        "plt.plot(history.history['loss'])\n",
        "plt.xlabel('Epoch')\n",
        "plt.ylabel('Loss')\n",
        "plt.title('Training Loss')\n",
        "plt.show()\n"
      ],
      "execution_count": 10
    },
    {
      "cell_type": "markdown",
      "metadata": {
        "id": "0d4fdde7-77ee-48ae-8958-d7c107a24cd6"
      },
      "source": [
        "#### Step 5: Generate text with the trained model\n",
        "\n",
        "Define a function to generate text using the trained Transformer model.\n",
        "\n",
        "In the following code:\n",
        "\n",
        "- Define the generate_text function to generate text using the trained Transformer model\n",
        "\n",
        "- Convert the start string into numerical format\n",
        "\n",
        "- Use the model to predict the next word and append it to the generated text\n",
        "\n",
        "- Print the generated text\n",
        "\n",
        "#### Text generation:\n"
      ]
    },
    {
      "cell_type": "code",
      "metadata": {
        "colab": {
          "base_uri": "https://localhost:8080/"
        },
        "id": "ddbd51c2-d35a-47cf-ba48-95a1de701738",
        "outputId": "88e28d09-0441-43c1-d298-1820a7937d63"
      },
      "outputs": [
        {
          "output_type": "stream",
          "name": "stdout",
          "text": [
            "To be, or not to be mildness operation hair qualified wounds oerwhelm retreat give men stratagems toe temptations corpse cleave appellant vanquishd prescription speak rankscented pattern selfwilld filld give pantler transported vanquisher merriment let valued ostler eyes sups names obstacles watchman speak restrain petitionary lightens beggd soldier 3 power eat has stitchery instruct rest featly trifling speak true vines speak lartius sink tried unroosted dances defects men metres men sick ivy banished maintaind consorted bastard unclog alone forth slanderous sweetly fight lineament ask unattainted screen were merriment forth sovereignty allow maliciously give speak oertake nicholas up wounds winking give what unkind proud outtalk pranks strike steel\n"
          ]
        }
      ],
      "source": [
        "def generate_text(model, start_string, num_generate=100, temperature=1.0):\n",
        "    # Convert the start string to a vectorized format\n",
        "    input_eval = vectorizer([start_string]).numpy()\n",
        "\n",
        "    # Ensure the input length is the same as the model's expected input shape\n",
        "    if input_eval.shape[1] < seq_length:\n",
        "        # Pad the input if it's shorter than the expected sequence length\n",
        "        padding = np.zeros((1, seq_length - input_eval.shape[1]))\n",
        "        input_eval = np.concatenate((padding, input_eval), axis=1)\n",
        "    elif input_eval.shape[1] > seq_length:\n",
        "        # Truncate the input if it's longer than the expected sequence length\n",
        "        input_eval = input_eval[:, -seq_length:]\n",
        "\n",
        "    input_eval = tf.convert_to_tensor(input_eval)\n",
        "\n",
        "    # Initialize an empty list to store generated text\n",
        "    text_generated = []\n",
        "\n",
        "    # Start generating text\n",
        "    for i in range(num_generate):\n",
        "        # Make predictions using the model\n",
        "        predictions = model(input_eval)\n",
        "\n",
        "        # Remove only the batch dimension, keep the logits as 2D (batch_size, vocab_size)\n",
        "        predictions = predictions[0]  # This should be of shape [vocab_size]\n",
        "\n",
        "        # Apply temperature to predictions\n",
        "        predictions = predictions / temperature\n",
        "\n",
        "        # Use a categorical distribution to predict the next word\n",
        "        predicted_id = tf.random.categorical(predictions, num_samples=1)[0, 0].numpy()\n",
        "\n",
        "        # Update the input tensor to include the predicted word, maintaining the sequence length\n",
        "        input_eval = np.append(input_eval.numpy(), [[predicted_id]], axis=1)  # Append predicted token\n",
        "        input_eval = input_eval[:, -seq_length:]  # Keep only the last `seq_length` tokens\n",
        "        input_eval = tf.convert_to_tensor(input_eval)  # Convert back to tensor\n",
        "\n",
        "        # Append the predicted word to the generated text\n",
        "        text_generated.append(vectorizer.get_vocabulary()[predicted_id])\n",
        "\n",
        "    # Return the generated text starting from the initial seed\n",
        "    return start_string + ' ' + ' '.join(text_generated)\n",
        "\n",
        "# Generate text with temperature control\n",
        "start_string = \"To be, or not to be\"\n",
        "generated_text = generate_text(model, start_string, temperature=0.7)  # Lower temperature for more focused predictions\n",
        "print(generated_text)\n"
      ],
      "execution_count": 11
    },
    {
      "cell_type": "markdown",
      "metadata": {
        "id": "342fc265-5f20-4a69-824b-aeb9b901f4bd"
      },
      "source": [
        "### Practice exercises\n",
        "\n",
        "> ####  Note: Results may vary since the dataset size was reduced and training was limited to 2 epochs to shorten execution time. However, you are encouraged to experiment with different epoch values for deeper learning\n",
        "\n",
        "### Exercise 1: Experiment with different sequence lengths\n",
        "\n",
        "**Objective:** Implement different sequence lengths to understand their effect on the performance of the Transformer model.\n",
        "\n",
        "**Instructions:**\n",
        "\n",
        "- Change the sequence length to 50\n",
        "\n",
        "- Preprocess the data set with the new sequence length\n",
        "\n",
        "- Train the model and compare the training loss\n"
      ]
    },
    {
      "cell_type": "code",
      "metadata": {
        "colab": {
          "base_uri": "https://localhost:8080/",
          "height": 1000
        },
        "id": "efad4066-d8a9-4954-a08a-c7ba680b509c",
        "outputId": "5744a92c-1002-4c76-9b7f-2fde29f56537"
      },
      "outputs": [
        {
          "output_type": "stream",
          "name": "stdout",
          "text": [
            "Vectorized text shape: (202646,)\n",
            "First 10 vectorized tokens: [ 89 270 138  36 982 144 673 125  16 106]\n",
            "Number of sequences generated: 202596\n",
            "Sample input sequence: [  89  270  138   36  982  144  673  125   16  106   34  106  106   89\n",
            "  270    7   41   34 1286  344    4  200   64    4 3690   34 1286 1286\n",
            "   89  270   89    7   93 1187  225   12 2442  592    4    2  307   34\n",
            "   36 2655   36 2655   89  270   72   79]\n",
            "Shape of X: (202596, 50)\n",
            "Shape of Y: (202596, 50)\n"
          ]
        },
        {
          "output_type": "display_data",
          "data": {
            "text/plain": [
              "\u001b[1mModel: \"transformer_model_1\"\u001b[0m\n"
            ],
            "text/html": [
              "<pre style=\"white-space:pre;overflow-x:auto;line-height:normal;font-family:Menlo,'DejaVu Sans Mono',consolas,'Courier New',monospace\"><span style=\"font-weight: bold\">Model: \"transformer_model_1\"</span>\n",
              "</pre>\n"
            ]
          },
          "metadata": {}
        },
        {
          "output_type": "display_data",
          "data": {
            "text/plain": [
              "┏━━━━━━━━━━━━━━━━━━━━━━━━━━━━━━━━━┳━━━━━━━━━━━━━━━━━━━━━━━━┳━━━━━━━━━━━━━━━┓\n",
              "┃\u001b[1m \u001b[0m\u001b[1mLayer (type)                   \u001b[0m\u001b[1m \u001b[0m┃\u001b[1m \u001b[0m\u001b[1mOutput Shape          \u001b[0m\u001b[1m \u001b[0m┃\u001b[1m \u001b[0m\u001b[1m      Param #\u001b[0m\u001b[1m \u001b[0m┃\n",
              "┡━━━━━━━━━━━━━━━━━━━━━━━━━━━━━━━━━╇━━━━━━━━━━━━━━━━━━━━━━━━╇━━━━━━━━━━━━━━━┩\n",
              "│ embedding_1 (\u001b[38;5;33mEmbedding\u001b[0m)         │ (\u001b[38;5;34m1\u001b[0m, \u001b[38;5;34m50\u001b[0m, \u001b[38;5;34m256\u001b[0m)           │     \u001b[38;5;34m2,560,000\u001b[0m │\n",
              "├─────────────────────────────────┼────────────────────────┼───────────────┤\n",
              "│ transformer_block_4             │ ?                      │     \u001b[38;5;34m1,315,840\u001b[0m │\n",
              "│ (\u001b[38;5;33mTransformerBlock\u001b[0m)              │                        │               │\n",
              "├─────────────────────────────────┼────────────────────────┼───────────────┤\n",
              "│ transformer_block_5             │ ?                      │     \u001b[38;5;34m1,315,840\u001b[0m │\n",
              "│ (\u001b[38;5;33mTransformerBlock\u001b[0m)              │                        │               │\n",
              "├─────────────────────────────────┼────────────────────────┼───────────────┤\n",
              "│ transformer_block_6             │ ?                      │     \u001b[38;5;34m1,315,840\u001b[0m │\n",
              "│ (\u001b[38;5;33mTransformerBlock\u001b[0m)              │                        │               │\n",
              "├─────────────────────────────────┼────────────────────────┼───────────────┤\n",
              "│ transformer_block_7             │ ?                      │     \u001b[38;5;34m1,315,840\u001b[0m │\n",
              "│ (\u001b[38;5;33mTransformerBlock\u001b[0m)              │                        │               │\n",
              "├─────────────────────────────────┼────────────────────────┼───────────────┤\n",
              "│ dense_17 (\u001b[38;5;33mDense\u001b[0m)                │ (\u001b[38;5;34m1\u001b[0m, \u001b[38;5;34m50\u001b[0m, \u001b[38;5;34m10000\u001b[0m)         │     \u001b[38;5;34m2,570,000\u001b[0m │\n",
              "└─────────────────────────────────┴────────────────────────┴───────────────┘\n"
            ],
            "text/html": [
              "<pre style=\"white-space:pre;overflow-x:auto;line-height:normal;font-family:Menlo,'DejaVu Sans Mono',consolas,'Courier New',monospace\">┏━━━━━━━━━━━━━━━━━━━━━━━━━━━━━━━━━┳━━━━━━━━━━━━━━━━━━━━━━━━┳━━━━━━━━━━━━━━━┓\n",
              "┃<span style=\"font-weight: bold\"> Layer (type)                    </span>┃<span style=\"font-weight: bold\"> Output Shape           </span>┃<span style=\"font-weight: bold\">       Param # </span>┃\n",
              "┡━━━━━━━━━━━━━━━━━━━━━━━━━━━━━━━━━╇━━━━━━━━━━━━━━━━━━━━━━━━╇━━━━━━━━━━━━━━━┩\n",
              "│ embedding_1 (<span style=\"color: #0087ff; text-decoration-color: #0087ff\">Embedding</span>)         │ (<span style=\"color: #00af00; text-decoration-color: #00af00\">1</span>, <span style=\"color: #00af00; text-decoration-color: #00af00\">50</span>, <span style=\"color: #00af00; text-decoration-color: #00af00\">256</span>)           │     <span style=\"color: #00af00; text-decoration-color: #00af00\">2,560,000</span> │\n",
              "├─────────────────────────────────┼────────────────────────┼───────────────┤\n",
              "│ transformer_block_4             │ ?                      │     <span style=\"color: #00af00; text-decoration-color: #00af00\">1,315,840</span> │\n",
              "│ (<span style=\"color: #0087ff; text-decoration-color: #0087ff\">TransformerBlock</span>)              │                        │               │\n",
              "├─────────────────────────────────┼────────────────────────┼───────────────┤\n",
              "│ transformer_block_5             │ ?                      │     <span style=\"color: #00af00; text-decoration-color: #00af00\">1,315,840</span> │\n",
              "│ (<span style=\"color: #0087ff; text-decoration-color: #0087ff\">TransformerBlock</span>)              │                        │               │\n",
              "├─────────────────────────────────┼────────────────────────┼───────────────┤\n",
              "│ transformer_block_6             │ ?                      │     <span style=\"color: #00af00; text-decoration-color: #00af00\">1,315,840</span> │\n",
              "│ (<span style=\"color: #0087ff; text-decoration-color: #0087ff\">TransformerBlock</span>)              │                        │               │\n",
              "├─────────────────────────────────┼────────────────────────┼───────────────┤\n",
              "│ transformer_block_7             │ ?                      │     <span style=\"color: #00af00; text-decoration-color: #00af00\">1,315,840</span> │\n",
              "│ (<span style=\"color: #0087ff; text-decoration-color: #0087ff\">TransformerBlock</span>)              │                        │               │\n",
              "├─────────────────────────────────┼────────────────────────┼───────────────┤\n",
              "│ dense_17 (<span style=\"color: #0087ff; text-decoration-color: #0087ff\">Dense</span>)                │ (<span style=\"color: #00af00; text-decoration-color: #00af00\">1</span>, <span style=\"color: #00af00; text-decoration-color: #00af00\">50</span>, <span style=\"color: #00af00; text-decoration-color: #00af00\">10000</span>)         │     <span style=\"color: #00af00; text-decoration-color: #00af00\">2,570,000</span> │\n",
              "└─────────────────────────────────┴────────────────────────┴───────────────┘\n",
              "</pre>\n"
            ]
          },
          "metadata": {}
        },
        {
          "output_type": "display_data",
          "data": {
            "text/plain": [
              "\u001b[1m Total params: \u001b[0m\u001b[38;5;34m10,393,360\u001b[0m (39.65 MB)\n"
            ],
            "text/html": [
              "<pre style=\"white-space:pre;overflow-x:auto;line-height:normal;font-family:Menlo,'DejaVu Sans Mono',consolas,'Courier New',monospace\"><span style=\"font-weight: bold\"> Total params: </span><span style=\"color: #00af00; text-decoration-color: #00af00\">10,393,360</span> (39.65 MB)\n",
              "</pre>\n"
            ]
          },
          "metadata": {}
        },
        {
          "output_type": "display_data",
          "data": {
            "text/plain": [
              "\u001b[1m Trainable params: \u001b[0m\u001b[38;5;34m10,393,360\u001b[0m (39.65 MB)\n"
            ],
            "text/html": [
              "<pre style=\"white-space:pre;overflow-x:auto;line-height:normal;font-family:Menlo,'DejaVu Sans Mono',consolas,'Courier New',monospace\"><span style=\"font-weight: bold\"> Trainable params: </span><span style=\"color: #00af00; text-decoration-color: #00af00\">10,393,360</span> (39.65 MB)\n",
              "</pre>\n"
            ]
          },
          "metadata": {}
        },
        {
          "output_type": "display_data",
          "data": {
            "text/plain": [
              "\u001b[1m Non-trainable params: \u001b[0m\u001b[38;5;34m0\u001b[0m (0.00 B)\n"
            ],
            "text/html": [
              "<pre style=\"white-space:pre;overflow-x:auto;line-height:normal;font-family:Menlo,'DejaVu Sans Mono',consolas,'Courier New',monospace\"><span style=\"font-weight: bold\"> Non-trainable params: </span><span style=\"color: #00af00; text-decoration-color: #00af00\">0</span> (0.00 B)\n",
              "</pre>\n"
            ]
          },
          "metadata": {}
        },
        {
          "output_type": "stream",
          "name": "stdout",
          "text": [
            "Epoch 1/2\n",
            "\u001b[1m313/313\u001b[0m \u001b[32m━━━━━━━━━━━━━━━━━━━━\u001b[0m\u001b[37m\u001b[0m \u001b[1m1087s\u001b[0m 3s/step - loss: 11.9017\n",
            "Epoch 2/2\n",
            "\u001b[1m313/313\u001b[0m \u001b[32m━━━━━━━━━━━━━━━━━━━━\u001b[0m\u001b[37m\u001b[0m \u001b[1m1100s\u001b[0m 3s/step - loss: 12.0342\n"
          ]
        },
        {
          "output_type": "display_data",
          "data": {
            "text/plain": [
              "<Figure size 640x480 with 1 Axes>"
            ],
            "image/png": "[encoded data removed]"
          },
          "metadata": {}
        }
      ],
      "source": [
        "# Preprocess the dataset\n",
        "vocab_size = 10000\n",
        "seq_length = 50\n",
        "\n",
        "# Adapt TextVectorization to full text\n",
        "vectorizer = TextVectorization(max_tokens=vocab_size, output_mode='int')\n",
        "text_ds = tf.data.Dataset.from_tensor_slices([text]).batch(1)\n",
        "vectorizer.adapt(text_ds)\n",
        "\n",
        "# Vectorize the text\n",
        "vectorized_text = vectorizer([text])[0]\n",
        "print(\"Vectorized text shape:\", vectorized_text.shape)\n",
        "print(\"First 10 vectorized tokens:\", vectorized_text.numpy()[:10])\n",
        "\n",
        "X, Y = create_sequences(vectorized_text.numpy(), seq_length)\n",
        "\n",
        "# Check if sequences are correctly generated\n",
        "print(\"Number of sequences generated:\", len(X))\n",
        "print(\"Sample input sequence:\", X[0] if len(X) > 0 else \"No sequences generated\")\n",
        "\n",
        "# Check if X and Y are not empty\n",
        "assert X.size > 0, \"Input data X is empty\"\n",
        "assert Y.size > 0, \"Target data Y is empty\"\n",
        "X = tf.convert_to_tensor(X)\n",
        "Y = tf.convert_to_tensor(Y)\n",
        "print(\"Shape of X:\", X.shape)\n",
        "print(\"Shape of Y:\", Y.shape)\n",
        "X = X[:10000]\n",
        "Y = Y[:10000]\n",
        "# Hyperparameters\n",
        "embed_dim = 256\n",
        "num_heads = 4\n",
        "ff_dim = 512\n",
        "num_layers = 4\n",
        "\n",
        "# Build the Transformer model\n",
        "model = TransformerModel(vocab_size, embed_dim, num_heads, ff_dim, num_layers, seq_length)\n",
        "\n",
        "# Provide input shape to build the model by passing a dummy input with maxval specified\n",
        "_ = model(tf.random.uniform((1, seq_length), maxval=vocab_size, dtype=tf.int32))\n",
        "\n",
        "# Compile the model\n",
        "model.compile(optimizer='adam', loss='sparse_categorical_crossentropy')\n",
        "\n",
        "# Summary of the model\n",
        "model.summary()\n",
        "# Early stopping callback to stop training if the loss doesn't improve\n",
        "early_stopping = EarlyStopping(monitor='loss', patience=2, restore_best_weights=True)\n",
        "\n",
        "# Train the transformer model on the full input and target sequences\n",
        "history = model.fit(X, Y, epochs=2, batch_size=32, callbacks=[early_stopping])\n",
        "\n",
        "# Plot training loss to monitor model performance over epochs\n",
        "plt.plot(history.history['loss'])\n",
        "plt.xlabel('Epoch')\n",
        "plt.ylabel('Loss')\n",
        "plt.title('Training Loss')\n",
        "plt.show()"
      ],
      "execution_count": 12
    },
    {
      "cell_type": "markdown",
      "metadata": {
        "id": "6c917aab-6517-4eec-aee3-26f342d02eb5"
      },
      "source": [
        "<details>\n",
        "    <summary>Click here for Solution</summary>\n",
        "\n",
        "```python\n",
        "\n",
        "\n",
        "\n",
        "# Preprocess the dataset\n",
        "vocab_size = 10000\n",
        "seq_length = 50\n",
        "\n",
        "# Adapt TextVectorization to full text\n",
        "vectorizer = TextVectorization(max_tokens=vocab_size, output_mode='int')\n",
        "text_ds = tf.data.Dataset.from_tensor_slices([text]).batch(1)\n",
        "vectorizer.adapt(text_ds)\n",
        "\n",
        "# Vectorize the text\n",
        "vectorized_text = vectorizer([text])[0]\n",
        "print(\"Vectorized text shape:\", vectorized_text.shape)\n",
        "print(\"First 10 vectorized tokens:\", vectorized_text.numpy()[:10])\n",
        "\n",
        "X, Y = create_sequences(vectorized_text.numpy(), seq_length)\n",
        "\n",
        "\n",
        "# Check if sequences are correctly generated\n",
        "print(\"Number of sequences generated:\", len(X))\n",
        "print(\"Sample input sequence:\", X[0] if len(X) > 0 else \"No sequences generated\")\n",
        "\n",
        "# Check if X and Y are not empty\n",
        "assert X.size > 0, \"Input data X is empty\"\n",
        "assert Y.size > 0, \"Target data Y is empty\"\n",
        "X = tf.convert_to_tensor(X)\n",
        "Y = tf.convert_to_tensor(Y)\n",
        "print(\"Shape of X:\", X.shape)\n",
        "print(\"Shape of Y:\", Y.shape)\n",
        "X = X[:10000]\n",
        "Y = Y[:10000]\n",
        "# Hyperparameters\n",
        "embed_dim = 256\n",
        "num_heads = 4\n",
        "ff_dim = 512\n",
        "num_layers = 4\n",
        "\n",
        "# Build the Transformer model\n",
        "model = TransformerModel(vocab_size, embed_dim, num_heads, ff_dim, num_layers, seq_length)\n",
        "\n",
        "# Provide input shape to build the model by passing a dummy input with maxval specified\n",
        "_ = model(tf.random.uniform((1, seq_length), maxval=vocab_size, dtype=tf.int32))\n",
        "\n",
        "# Compile the model\n",
        "model.compile(optimizer='adam', loss='sparse_categorical_crossentropy')\n",
        "\n",
        "# Summary of the model\n",
        "model.summary()\n",
        "# Early stopping callback to stop training if the loss doesn't improve\n",
        "early_stopping = EarlyStopping(monitor='loss', patience=2, restore_best_weights=True)\n",
        "\n",
        "# Train the transformer model on the full input and target sequences\n",
        "history = model.fit(X, Y, epochs=2, batch_size=32, callbacks=[early_stopping])\n",
        "\n",
        "# Plot training loss to monitor model performance over epochs\n",
        "plt.plot(history.history['loss'])\n",
        "plt.xlabel('Epoch')\n",
        "plt.ylabel('Loss')\n",
        "plt.title('Training Loss')\n",
        "plt.show()\n",
        "```\n",
        "\n",
        "</details>\n"
      ]
    },
    {
      "cell_type": "markdown",
      "metadata": {
        "id": "079a20f6-786d-49cb-ba8a-7b6e3a41cc9b"
      },
      "source": [
        "### Exercise 2: Add a learning rate scheduler\n",
        "\n",
        "**Objective:** Implement a learning rate scheduler to adjust the learning rate during training.\n",
        "\n",
        "**Instructions:**\n",
        "\n",
        "- Define a learning rate scheduler that reduces the learning rate by half every 10 epochs\n",
        "\n",
        "- Train the model with the learning rate scheduler and compare the training loss\n"
      ]
    },
    {
      "cell_type": "code",
      "metadata": {
        "colab": {
          "base_uri": "https://localhost:8080/",
          "height": 543
        },
        "id": "443cbe06-9032-4d2d-a009-e19ec93c726f",
        "outputId": "c10c5ec2-b8e1-4c63-c544-5f2fb0e7b8c7"
      },
      "outputs": [
        {
          "output_type": "stream",
          "name": "stdout",
          "text": [
            "Epoch 1/2\n",
            "\u001b[1m157/157\u001b[0m \u001b[32m━━━━━━━━━━━━━━━━━━━━\u001b[0m\u001b[37m\u001b[0m \u001b[1m1043s\u001b[0m 7s/step - loss: 11.9815 - learning_rate: 0.0010\n",
            "Epoch 2/2\n",
            "\u001b[1m157/157\u001b[0m \u001b[32m━━━━━━━━━━━━━━━━━━━━\u001b[0m\u001b[37m\u001b[0m \u001b[1m1043s\u001b[0m 7s/step - loss: 12.0057 - learning_rate: 0.0010\n"
          ]
        },
        {
          "output_type": "display_data",
          "data": {
            "text/plain": [
              "<Figure size 640x480 with 1 Axes>"
            ],
            "image/png": "[encoded data removed]"
          },
          "metadata": {}
        }
      ],
      "source": [
        "import pandas as pd\n",
        "from sklearn.preprocessing import MinMaxScaler\n",
        "from sklearn.model_selection import train_test_split\n",
        "from tensorflow.keras.layers import Layer, Dense, LayerNormalization, Dropout, Input\n",
        "from tensorflow.keras.callbacks import EarlyStopping\n",
        "\n",
        "# Define a learning rate scheduler\n",
        "def scheduler(epoch, lr):\n",
        "    if epoch % 10 == 0 and epoch != 0:\n",
        "        lr = lr * 0.5\n",
        "    return lr\n",
        "\n",
        "callback = tf.keras.callbacks.LearningRateScheduler(scheduler)\n",
        "\n",
        "history = model.fit(X, Y, epochs=2, batch_size=64, callbacks=[callback])\n",
        "\n",
        "plt.plot(history.history['loss'])\n",
        "plt.xlabel('Epoch')\n",
        "plt.ylabel('Loss')\n",
        "plt.title('Training Loss with Learning Rate Scheduler')\n",
        "plt.show()"
      ],
      "execution_count": 13
    },
    {
      "cell_type": "markdown",
      "metadata": {
        "id": "aed69733-172f-4c34-9d4f-5d957b967f0f"
      },
      "source": [
        "<details>\n",
        "    <summary>Click here for Solution</summary>\n",
        "\n",
        "```python\n",
        "# Write your code here\n",
        "!pip install pandas\n",
        "!pip install scikit-learn\n",
        "import numpy as np\n",
        "import pandas as pd\n",
        "import tensorflow as tf\n",
        "from sklearn.preprocessing import MinMaxScaler\n",
        "from sklearn.model_selection import train_test_split\n",
        "from tensorflow.keras.layers import Layer, Dense, LayerNormalization, Dropout, Input\n",
        "from tensorflow.keras.callbacks import EarlyStopping\n",
        "import matplotlib.pyplot as plt\n",
        "\n",
        "# Define a learning rate scheduler  \n",
        "def scheduler(epoch, lr):  \n",
        "    if epoch % 10 == 0 and epoch != 0:  \n",
        "        lr = lr * 0.5  \n",
        "    return lr  \n",
        "\n",
        "\n",
        "callback = tf.keras.callbacks.LearningRateScheduler(scheduler)  \n",
        "\n",
        "\n",
        "# Train the model with the learning rate scheduler  \n",
        "history = model.fit(X, Y, epochs=2, batch_size=64, callbacks=[callback])  \n",
        "   \n",
        "\n",
        "# Plot the training loss  \n",
        "plt.plot(history.history['loss'])  \n",
        "plt.xlabel('Epoch')  \n",
        "plt.ylabel('Loss')  \n",
        "plt.title('Training Loss with Learning Rate Scheduler')  \n",
        "plt.show()\n",
        "```\n",
        "\n",
        "</details>\n"
      ]
    },
    {
      "cell_type": "markdown",
      "metadata": {
        "id": "6275b71b-3530-424b-b711-9a1a497c0a53"
      },
      "source": [
        "### Exercise 3: Generate longer text sequences\n",
        "\n",
        "**Objective:** To explore the model's text generation capabilities and generate longer sequences.\n",
        "\n",
        "**Instructions:**\n",
        "\n",
        "- Modify the `generate_text` function to generate 200 tokens instead of 100\n",
        "\n",
        "- Generate text using the trained model and the modified function\n"
      ]
    },
    {
      "cell_type": "code",
      "metadata": {
        "colab": {
          "base_uri": "https://localhost:8080/"
        },
        "id": "2a2e4fe5-3673-4418-9f0a-f1dcca23cad4",
        "outputId": "0b942a44-2974-4b2e-f22a-52930817bec2"
      },
      "outputs": [
        {
          "output_type": "stream",
          "name": "stdout",
          "text": [
            "To be, or not to be looker incensed cry prudence silversweet valance graves complaints elected you justs cover betweens would entrance indeed usurpd embraced duellist should lawyers lip proudhearted substitute city runagate smallof disposed rumourd skipper warning twine untrussing bone the nobler potpan cockatrice mask where sire matron limited true caps behavior [UNK] love love flow aspiring muteor blown ear supportance thou approaches city ages saved by puller proserpina unfashionable can lave thousands unfurnished shone plumepluckd mortality bettering thoroughly brooks extempore marchpane chosen besides traitorous pent gratis perceives city wrongincensed prizes sinister minim vile mong womanly shrugs sympathize stolen hes spacious hostile saucy can too follow sixteen chamber men tother i weighd stillwaking nobleness has thereat upward city can most morning so deserves theekeep him would peers intended has mistrusted rome i boy calumny staves shift stabbed tother fish should viands preserve maliciously gains topgallant deem wrecks untangled exiled blank misused one shy trunk scruples yields repaird lamenting intelligence see whit pots predominant sty half feeling then wishd has can bauble reclaimd us see by fretting moonlight lartius give simile where smoothing city peoplewhich murderd minim woful choose exceeds orisons clamour to widow by transmutation hold unhorse ladyship exactly science hop promiseth unaching can universal half\n"
          ]
        }
      ],
      "source": [
        "def generate_text(model, start_string, num_generate=200):\n",
        "    # Convert the start string to numbers (vectorize)\n",
        "    input_eval = vectorizer([start_string]).numpy()\n",
        "\n",
        "    # Ensure the input tensor has the correct shape\n",
        "    input_eval = tf.convert_to_tensor(input_eval[:, -5:])  # Ensure it has a shape of (1, 5)\n",
        "\n",
        "    text_generated = []\n",
        "\n",
        "    for i in range(num_generate):\n",
        "        # Make predictions using the model\n",
        "        predictions = model(input_eval)\n",
        "\n",
        "        # Use a categorical distribution to predict the next word\n",
        "        last_prediction = predictions[:, -1, :]\n",
        "        predicted_id = tf.random.categorical(last_prediction, num_samples=1)[-1, 0].numpy()\n",
        "\n",
        "        # Update the input tensor to include the predicted word, maintaining the sequence length\n",
        "        input_eval = np.append(input_eval.numpy(), [[predicted_id]], axis=1)  # Append predicted token\n",
        "        input_eval = input_eval[:, -5:]  # Keep only the last 5 tokens to match input shape\n",
        "        input_eval = tf.convert_to_tensor(input_eval)  # Convert back to tensor\n",
        "\n",
        "        # Add the predicted word to the generated text\n",
        "        text_generated.append(vectorizer.get_vocabulary()[predicted_id])\n",
        "\n",
        "    return start_string + ' ' + ' '.join(text_generated)\n",
        "\n",
        "\n",
        "# Generate longer text\n",
        "start_string = \"To be, or not to be\"\n",
        "generated_text = generate_text(model, start_string)\n",
        "print(generated_text)"
      ],
      "execution_count": 16
    },
    {
      "cell_type": "markdown",
      "metadata": {
        "id": "2fc87675-cdd4-4983-8b71-5883245b00ac"
      },
      "source": [
        "<details>\n",
        "    <summary>Click here for Solution</summary>\n",
        "\n",
        "```python\n",
        "\n",
        "import numpy as np\n",
        "import pandas as pd\n",
        "import tensorflow as tf\n",
        "from sklearn.preprocessing import MinMaxScaler\n",
        "from sklearn.model_selection import train_test_split\n",
        "from tensorflow.keras.layers import Layer, Dense, LayerNormalization, Dropout, Input\n",
        "from tensorflow.keras.callbacks import EarlyStopping\n",
        "import matplotlib.pyplot as plt\n",
        "\n",
        "def generate_text(model, start_string, num_generate=200):\n",
        "    # Convert the start string to numbers (vectorize)\n",
        "    input_eval = vectorizer([start_string]).numpy()\n",
        "\n",
        "    # Ensure the input tensor has the correct shape\n",
        "    input_eval = tf.convert_to_tensor(input_eval[:, -5:])  # Ensure it has a shape of (1, 5)\n",
        "    \n",
        "    text_generated = []\n",
        "\n",
        "    for i in range(num_generate):\n",
        "        # Make predictions using the model\n",
        "        predictions = model(input_eval)\n",
        "\n",
        "        # Ensure predictions is a matrix with shape [batch_size, num_classes]\n",
        "        predictions = tf.squeeze(predictions, 0)  # Remove the batch dimension\n",
        "        predictions = tf.expand_dims(predictions, 0)  # Add back a batch dimension for categorical\n",
        "        \n",
        "        # Use a categorical distribution to predict the next word\n",
        "        predicted_id = tf.random.categorical(predictions, num_samples=1)[-1, 0].numpy()\n",
        "\n",
        "        # Update the input tensor to include the predicted word, maintaining the sequence length\n",
        "        input_eval = np.append(input_eval.numpy(), [[predicted_id]], axis=1)  # Append predicted token\n",
        "        input_eval = input_eval[:, -5:]  # Keep only the last 5 tokens to match input shape\n",
        "        input_eval = tf.convert_to_tensor(input_eval)  # Convert back to tensor\n",
        "        \n",
        "        # Add the predicted word to the generated text\n",
        "        text_generated.append(vectorizer.get_vocabulary()[predicted_id])\n",
        "\n",
        "    return start_string + ' ' + ' '.join(text_generated)\n",
        "\n",
        "\n",
        "# Generate longer text\n",
        "start_string = \"To be, or not to be\"\n",
        "generated_text = generate_text(model, start_string)\n",
        "\n",
        "print(generated_text)\n",
        "```\n",
        "\n",
        "</details>\n"
      ]
    },
    {
      "cell_type": "markdown",
      "metadata": {
        "id": "d47df242-e5fc-4b22-b943-96b5bee87e52"
      },
      "source": [
        "#### Conclusion\n",
        "\n",
        "Congratulations on completing this lab! You have successfully built and trained a Transformer model for text generation in this lab using TensorFlow and Keras. You learned how to preprocess text data, create input and target sequences, define the Transformer model architecture, train the model, and generate text using the trained model. By completing this lab, you gained hands-on experience with Transformers for text generation and explored practical applications of this robust model architecture.\n"
      ]
    },
    {
      "cell_type": "markdown",
      "metadata": {
        "id": "c072ce91-6814-4dda-b1f7-57d43398ab22"
      },
      "source": [
        "Copyright © IBM Corporation. All rights reserved.\n"
      ]
    }
  ],
  "metadata": {
    "kernelspec": {
      "display_name": "Python 3 (ipykernel)",
      "language": "python",
      "name": "python3"
    },
    "language_info": {
      "codemirror_mode": {
        "name": "ipython",
        "version": 3
      },
      "file_extension": ".py",
      "mimetype": "text/x-python",
      "name": "python",
      "nbconvert_exporter": "python",
      "pygments_lexer": "ipython3",
      "version": "3.12.8"
    },
    "prev_pub_hash": "fffe2e8a6841414ac70c57a6272bf08575362563ed7123ff0baf7c2db7be259e",
    "colab": {
      "provenance": [],
      "include_colab_link": true
    }
  },
  "nbformat": 4,
  "nbformat_minor": 0
}