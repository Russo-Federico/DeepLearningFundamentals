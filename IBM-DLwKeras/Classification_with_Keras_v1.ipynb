{
  "cells": [
    {
      "cell_type": "markdown",
      "metadata": {
        "id": "view-in-github",
        "colab_type": "text"
      },
      "source": [
        "<a href=\"https://colab.research.google.com/github/Russo-Federico/DeepLearningFundamentals/blob/main/IBM-DLwKeras/Classification_with_Keras_v1.ipynb\" target=\"_parent\"><img src=\"https://colab.research.google.com/assets/colab-badge.svg\" alt=\"Open In Colab\"/></a>"
      ]
    },
    {
      "cell_type": "markdown",
      "metadata": {
        "id": "c7aa2c85-4e2d-4cbf-bdb2-b8758e146341"
      },
      "source": [
        "<a href=\"https://cognitiveclass.ai\"><img src=\"https://cf-courses-data.s3.us.cloud-object-storage.appdomain.cloud/IBMDeveloperSkillsNetwork-DL0101EN-SkillsNetwork/images/IDSN-logo.png\" width=\"400\"> </a>\n",
        "\n",
        "# Classification Models with Keras\n",
        "\n",
        "Estimated time needed: **30** mins\n"
      ]
    },
    {
      "cell_type": "markdown",
      "metadata": {
        "id": "d60e2240-e5ce-4f7b-b436-b1126bbc6593"
      },
      "source": [
        "## Introduction\n"
      ]
    },
    {
      "cell_type": "markdown",
      "metadata": {
        "id": "8557d517-d46f-4aa0-9eaf-be6f58b1a79d"
      },
      "source": [
        "In this lab, we will learn how to use the Keras library to build models for classificaiton problems. We will use the popular MNIST dataset, a dataset of images, for a change.\n",
        "\n",
        "The <strong>MNIST database</strong>, short for Modified National Institute of Standards and Technology database, is a large database of handwritten digits that is commonly used for training various image processing systems. The database is also widely used for training and testing in the field of machine learning.\n",
        "    \n",
        "The MNIST database contains 60,000 training images and 10,000 testing images of digits written by high school students and employees of the United States Census Bureau.\n",
        "\n",
        "Also, this way, you will get to compare how conventional neural networks compare to convolutional neural networks, that we will build in the next module.\n"
      ]
    },
    {
      "cell_type": "markdown",
      "metadata": {
        "id": "43b909ae-4a8f-4bde-a66b-090afd8151eb"
      },
      "source": [
        "## Objectives for this Notebook    \n",
        "* Use the MNIST database for training various image processing systems\n",
        "* Build a neural network\n",
        "* Train and test the network\n"
      ]
    },
    {
      "cell_type": "markdown",
      "metadata": {
        "id": "549f5fe3-653b-4e2f-b5fa-0933d7d0b5f0"
      },
      "source": [
        "## Table of Contents\n",
        "\n",
        "<div class=\"alert alert-block alert-info\" style=\"margin-top: 20px\">\n",
        "\n",
        "<font size = 3>\n",
        "\n",
        "1. <a href=\"#Import-Keras-and-Packages\">Import Keras and Packages</a>      \n",
        "2. <a href=\"#Build-a-Neural-Network\">Build a Neural Network</a>     \n",
        "3. <a href=\"#Train-and-Test-the-Network\">Train and Test the Network</a>     \n",
        "\n",
        "</font>\n",
        "</div>\n"
      ]
    },
    {
      "cell_type": "markdown",
      "metadata": {
        "id": "99aebb57-a565-45b5-9470-803d2f5eefd2"
      },
      "source": [
        "Let's start by installing Keras and other necessary libraries.\n"
      ]
    },
    {
      "cell_type": "markdown",
      "metadata": {
        "id": "cad2aba1-3b72-4200-b30a-0a0e4f6c191f"
      },
      "source": [
        "The following required libraries are __not__ pre-installed in the Skills Network Labs environment. __You will need to run the following cell__ to install them:\n"
      ]
    },
    {
      "cell_type": "code",
      "metadata": {
        "colab": {
          "base_uri": "https://localhost:8080/"
        },
        "id": "03bee01a-08f2-448a-9c9a-ad111912c44c",
        "outputId": "413a14d0-1928-4d1e-8155-a552dfd65a30"
      },
      "outputs": [
        {
          "output_type": "stream",
          "name": "stdout",
          "text": [
            "Requirement already satisfied: tensorflow_cpu==2.18.0 in /usr/local/lib/python3.11/dist-packages (2.18.0)\n",
            "Requirement already satisfied: absl-py>=1.0.0 in /usr/local/lib/python3.11/dist-packages (from tensorflow_cpu==2.18.0) (1.4.0)\n",
            "Requirement already satisfied: astunparse>=1.6.0 in /usr/local/lib/python3.11/dist-packages (from tensorflow_cpu==2.18.0) (1.6.3)\n",
            "Requirement already satisfied: flatbuffers>=24.3.25 in /usr/local/lib/python3.11/dist-packages (from tensorflow_cpu==2.18.0) (25.2.10)\n",
            "Requirement already satisfied: gast!=0.5.0,!=0.5.1,!=0.5.2,>=0.2.1 in /usr/local/lib/python3.11/dist-packages (from tensorflow_cpu==2.18.0) (0.6.0)\n",
            "Requirement already satisfied: google-pasta>=0.1.1 in /usr/local/lib/python3.11/dist-packages (from tensorflow_cpu==2.18.0) (0.2.0)\n",
            "Requirement already satisfied: libclang>=13.0.0 in /usr/local/lib/python3.11/dist-packages (from tensorflow_cpu==2.18.0) (18.1.1)\n",
            "Requirement already satisfied: opt-einsum>=2.3.2 in /usr/local/lib/python3.11/dist-packages (from tensorflow_cpu==2.18.0) (3.4.0)\n",
            "Requirement already satisfied: packaging in /usr/local/lib/python3.11/dist-packages (from tensorflow_cpu==2.18.0) (24.2)\n",
            "Requirement already satisfied: protobuf!=4.21.0,!=4.21.1,!=4.21.2,!=4.21.3,!=4.21.4,!=4.21.5,<6.0.0dev,>=3.20.3 in /usr/local/lib/python3.11/dist-packages (from tensorflow_cpu==2.18.0) (5.29.5)\n",
            "Requirement already satisfied: requests<3,>=2.21.0 in /usr/local/lib/python3.11/dist-packages (from tensorflow_cpu==2.18.0) (2.32.3)\n",
            "Requirement already satisfied: setuptools in /usr/local/lib/python3.11/dist-packages (from tensorflow_cpu==2.18.0) (75.2.0)\n",
            "Requirement already satisfied: six>=1.12.0 in /usr/local/lib/python3.11/dist-packages (from tensorflow_cpu==2.18.0) (1.17.0)\n",
            "Requirement already satisfied: termcolor>=1.1.0 in /usr/local/lib/python3.11/dist-packages (from tensorflow_cpu==2.18.0) (3.1.0)\n",
            "Requirement already satisfied: typing-extensions>=3.6.6 in /usr/local/lib/python3.11/dist-packages (from tensorflow_cpu==2.18.0) (4.14.0)\n",
            "Requirement already satisfied: wrapt>=1.11.0 in /usr/local/lib/python3.11/dist-packages (from tensorflow_cpu==2.18.0) (1.17.2)\n",
            "Requirement already satisfied: grpcio<2.0,>=1.24.3 in /usr/local/lib/python3.11/dist-packages (from tensorflow_cpu==2.18.0) (1.72.1)\n",
            "Requirement already satisfied: tensorboard<2.19,>=2.18 in /usr/local/lib/python3.11/dist-packages (from tensorflow_cpu==2.18.0) (2.18.0)\n",
            "Requirement already satisfied: keras>=3.5.0 in /usr/local/lib/python3.11/dist-packages (from tensorflow_cpu==2.18.0) (3.8.0)\n",
            "Requirement already satisfied: numpy<2.1.0,>=1.26.0 in /usr/local/lib/python3.11/dist-packages (from tensorflow_cpu==2.18.0) (2.0.2)\n",
            "Requirement already satisfied: h5py>=3.11.0 in /usr/local/lib/python3.11/dist-packages (from tensorflow_cpu==2.18.0) (3.13.0)\n",
            "Requirement already satisfied: ml-dtypes<0.5.0,>=0.4.0 in /usr/local/lib/python3.11/dist-packages (from tensorflow_cpu==2.18.0) (0.4.1)\n",
            "Requirement already satisfied: tensorflow-io-gcs-filesystem>=0.23.1 in /usr/local/lib/python3.11/dist-packages (from tensorflow_cpu==2.18.0) (0.37.1)\n",
            "Requirement already satisfied: wheel<1.0,>=0.23.0 in /usr/local/lib/python3.11/dist-packages (from astunparse>=1.6.0->tensorflow_cpu==2.18.0) (0.45.1)\n",
            "Requirement already satisfied: rich in /usr/local/lib/python3.11/dist-packages (from keras>=3.5.0->tensorflow_cpu==2.18.0) (13.9.4)\n",
            "Requirement already satisfied: namex in /usr/local/lib/python3.11/dist-packages (from keras>=3.5.0->tensorflow_cpu==2.18.0) (0.1.0)\n",
            "Requirement already satisfied: optree in /usr/local/lib/python3.11/dist-packages (from keras>=3.5.0->tensorflow_cpu==2.18.0) (0.16.0)\n",
            "Requirement already satisfied: charset-normalizer<4,>=2 in /usr/local/lib/python3.11/dist-packages (from requests<3,>=2.21.0->tensorflow_cpu==2.18.0) (3.4.2)\n",
            "Requirement already satisfied: idna<4,>=2.5 in /usr/local/lib/python3.11/dist-packages (from requests<3,>=2.21.0->tensorflow_cpu==2.18.0) (3.10)\n",
            "Requirement already satisfied: urllib3<3,>=1.21.1 in /usr/local/lib/python3.11/dist-packages (from requests<3,>=2.21.0->tensorflow_cpu==2.18.0) (2.4.0)\n",
            "Requirement already satisfied: certifi>=2017.4.17 in /usr/local/lib/python3.11/dist-packages (from requests<3,>=2.21.0->tensorflow_cpu==2.18.0) (2025.4.26)\n",
            "Requirement already satisfied: markdown>=2.6.8 in /usr/local/lib/python3.11/dist-packages (from tensorboard<2.19,>=2.18->tensorflow_cpu==2.18.0) (3.8)\n",
            "Requirement already satisfied: tensorboard-data-server<0.8.0,>=0.7.0 in /usr/local/lib/python3.11/dist-packages (from tensorboard<2.19,>=2.18->tensorflow_cpu==2.18.0) (0.7.2)\n",
            "Requirement already satisfied: werkzeug>=1.0.1 in /usr/local/lib/python3.11/dist-packages (from tensorboard<2.19,>=2.18->tensorflow_cpu==2.18.0) (3.1.3)\n",
            "Requirement already satisfied: MarkupSafe>=2.1.1 in /usr/local/lib/python3.11/dist-packages (from werkzeug>=1.0.1->tensorboard<2.19,>=2.18->tensorflow_cpu==2.18.0) (3.0.2)\n",
            "Requirement already satisfied: markdown-it-py>=2.2.0 in /usr/local/lib/python3.11/dist-packages (from rich->keras>=3.5.0->tensorflow_cpu==2.18.0) (3.0.0)\n",
            "Requirement already satisfied: pygments<3.0.0,>=2.13.0 in /usr/local/lib/python3.11/dist-packages (from rich->keras>=3.5.0->tensorflow_cpu==2.18.0) (2.19.1)\n",
            "Requirement already satisfied: mdurl~=0.1 in /usr/local/lib/python3.11/dist-packages (from markdown-it-py>=2.2.0->rich->keras>=3.5.0->tensorflow_cpu==2.18.0) (0.1.2)\n",
            "Requirement already satisfied: matplotlib==3.9.2 in /usr/local/lib/python3.11/dist-packages (3.9.2)\n",
            "Requirement already satisfied: contourpy>=1.0.1 in /usr/local/lib/python3.11/dist-packages (from matplotlib==3.9.2) (1.3.2)\n",
            "Requirement already satisfied: cycler>=0.10 in /usr/local/lib/python3.11/dist-packages (from matplotlib==3.9.2) (0.12.1)\n",
            "Requirement already satisfied: fonttools>=4.22.0 in /usr/local/lib/python3.11/dist-packages (from matplotlib==3.9.2) (4.58.1)\n",
            "Requirement already satisfied: kiwisolver>=1.3.1 in /usr/local/lib/python3.11/dist-packages (from matplotlib==3.9.2) (1.4.8)\n",
            "Requirement already satisfied: numpy>=1.23 in /usr/local/lib/python3.11/dist-packages (from matplotlib==3.9.2) (2.0.2)\n",
            "Requirement already satisfied: packaging>=20.0 in /usr/local/lib/python3.11/dist-packages (from matplotlib==3.9.2) (24.2)\n",
            "Requirement already satisfied: pillow>=8 in /usr/local/lib/python3.11/dist-packages (from matplotlib==3.9.2) (11.2.1)\n",
            "Requirement already satisfied: pyparsing>=2.3.1 in /usr/local/lib/python3.11/dist-packages (from matplotlib==3.9.2) (3.2.3)\n",
            "Requirement already satisfied: python-dateutil>=2.7 in /usr/local/lib/python3.11/dist-packages (from matplotlib==3.9.2) (2.9.0.post0)\n",
            "Requirement already satisfied: six>=1.5 in /usr/local/lib/python3.11/dist-packages (from python-dateutil>=2.7->matplotlib==3.9.2) (1.17.0)\n",
            "==== All required libraries are installed =====\n"
          ]
        }
      ],
      "source": [
        "!pip install tensorflow_cpu==2.18.0\n",
        "!pip install matplotlib==3.9.2\n",
        "\n",
        "print(\"==== All required libraries are installed =====\")"
      ],
      "execution_count": 1
    },
    {
      "cell_type": "markdown",
      "metadata": {
        "id": "e34069b6-a5a9-463b-8d90-a77b16901f15"
      },
      "source": [
        "#### Suppress the tensorflow warning messages\n",
        "We use the following code to  suppress the warning messages due to use of CPU architechture for tensoflow.\n",
        "\n",
        "You may want to **comment out** these lines if you are using the GPU architechture\n"
      ]
    },
    {
      "cell_type": "code",
      "metadata": {
        "id": "4e0382f2-f135-4870-9d71-212e59c9f988"
      },
      "outputs": [],
      "source": [
        "import os\n",
        "os.environ['TF_ENABLE_ONEDNN_OPTS'] = '0'\n",
        "os.environ['TF_CPP_MIN_LOG_LEVEL'] = '2'"
      ],
      "execution_count": 2
    },
    {
      "cell_type": "markdown",
      "metadata": {
        "id": "8b413e7b-7155-4227-8c72-9b22fc7ffd49"
      },
      "source": [
        "## Import Keras and Packages\n"
      ]
    },
    {
      "cell_type": "markdown",
      "metadata": {
        "id": "e4895aa9-8bcb-46e6-a79c-a7a881c670ba"
      },
      "source": [
        "### Import the libraries.\n",
        "There might be some warning messages related to floating point round off errors and lack of GPU and other compiler related options. You can ignore these warnings and proceed.\n"
      ]
    },
    {
      "cell_type": "code",
      "metadata": {
        "id": "19c0174a-5eef-4c5f-8a9c-54c150f90ce2"
      },
      "outputs": [],
      "source": [
        "import keras\n",
        "\n",
        "from keras.models import Sequential\n",
        "from keras.layers import Dense\n",
        "from keras.layers import Input\n",
        "from keras.utils import to_categorical"
      ],
      "execution_count": 3
    },
    {
      "cell_type": "markdown",
      "metadata": {
        "id": "6cf5d38c-7c50-4d4f-a0e3-c6be5a0c9afa"
      },
      "source": [
        "Since we are dealing we images, let's also import the Matplotlib scripting layer in order to view the images.\n"
      ]
    },
    {
      "cell_type": "code",
      "metadata": {
        "id": "958bff1a-07f8-4968-bd16-06ea5897a19b"
      },
      "outputs": [],
      "source": [
        "import matplotlib.pyplot as plt"
      ],
      "execution_count": 4
    },
    {
      "cell_type": "markdown",
      "metadata": {
        "id": "a7fe0e17-5d41-4dfb-8c57-b86293309403"
      },
      "source": [
        "The Keras library conveniently includes the MNIST dataset as part of its API. You can check other datasets within the Keras library [here](https://keras.io/datasets/).\n",
        "\n",
        "So, let's load the MNIST dataset from the Keras library. The dataset is readily divided into a training set and a test set.\n"
      ]
    },
    {
      "cell_type": "code",
      "metadata": {
        "colab": {
          "base_uri": "https://localhost:8080/"
        },
        "id": "1fb035b3-f6b0-455c-9c43-e7445d3a42d4",
        "outputId": "26f7fd7f-235f-492d-c5ca-325bd72b34c9"
      },
      "outputs": [
        {
          "output_type": "stream",
          "name": "stdout",
          "text": [
            "Downloading data from https://storage.googleapis.com/tensorflow/tf-keras-datasets/mnist.npz\n",
            "\u001b[1m11490434/11490434\u001b[0m \u001b[32m━━━━━━━━━━━━━━━━━━━━\u001b[0m\u001b[37m\u001b[0m \u001b[1m1s\u001b[0m 0us/step\n"
          ]
        }
      ],
      "source": [
        "# import the data\n",
        "from keras.datasets import mnist\n",
        "\n",
        "# read the data\n",
        "(X_train, y_train), (X_test, y_test) = mnist.load_data()"
      ],
      "execution_count": 5
    },
    {
      "cell_type": "markdown",
      "metadata": {
        "id": "9cca734f-7ccb-4ec6-9dcc-47462d8db865"
      },
      "source": [
        "Let's confirm the number of images in each set. According to the dataset's documentation, we should have 60000 images in X_train and 10000 images in the X_test.\n"
      ]
    },
    {
      "cell_type": "code",
      "metadata": {
        "colab": {
          "base_uri": "https://localhost:8080/"
        },
        "id": "85c93f66-dac7-4937-ae8f-2f346e6dd258",
        "outputId": "c5d2b7c1-6f62-4e33-e451-f839e20d9a25"
      },
      "outputs": [
        {
          "output_type": "execute_result",
          "data": {
            "text/plain": [
              "(60000, 28, 28)"
            ]
          },
          "metadata": {},
          "execution_count": 6
        }
      ],
      "source": [
        "X_train.shape"
      ],
      "execution_count": 6
    },
    {
      "cell_type": "markdown",
      "metadata": {
        "id": "61c9c1ec-94a1-4545-9205-133bd8476ee0"
      },
      "source": [
        "The first number in the output tuple is the number of images, and the other two numbers are the size of the images in datset. So, each image is 28 pixels by 28 pixels.\n"
      ]
    },
    {
      "cell_type": "markdown",
      "metadata": {
        "id": "7c0b2825-42a0-4052-b0d5-5ae02dc5e859"
      },
      "source": [
        "Let's visualize the first image in the training set using Matplotlib's scripting layer.\n"
      ]
    },
    {
      "cell_type": "code",
      "metadata": {
        "colab": {
          "base_uri": "https://localhost:8080/",
          "height": 448
        },
        "id": "755619b2-64e3-416d-922b-8e6b8526d05b",
        "outputId": "5c610bbe-fea7-4f74-a208-a02d827b52ac"
      },
      "outputs": [
        {
          "output_type": "execute_result",
          "data": {
            "text/plain": [
              "<matplotlib.image.AxesImage at 0x7c775f6438d0>"
            ]
          },
          "metadata": {},
          "execution_count": 7
        },
        {
          "output_type": "display_data",
          "data": {
            "text/plain": [
              "<Figure size 640x480 with 1 Axes>"
            ],
            "image/png": "[encoded data removed]"
          },
          "metadata": {}
        }
      ],
      "source": [
        "plt.imshow(X_train[0])"
      ],
      "execution_count": 7
    },
    {
      "cell_type": "markdown",
      "metadata": {
        "id": "b9f703ea-874d-47dd-9d7a-20c78cc13b36"
      },
      "source": [
        "With conventional neural networks, we cannot feed in the image as input as is. So we need to **flatten the images into one-dimensional vectors**, each of size 1 x (28 x 28) = 1 x 784.\n"
      ]
    },
    {
      "cell_type": "code",
      "metadata": {
        "id": "f9a137c1-3554-4027-86f0-b1409ba810f4"
      },
      "outputs": [],
      "source": [
        "# flatten images into one-dimensional vector\n",
        "\n",
        "num_pixels = X_train.shape[1] * X_train.shape[2] # find size of one-dimensional vector\n",
        "\n",
        "X_train = X_train.reshape(X_train.shape[0], num_pixels).astype('float32') # flatten training images\n",
        "X_test = X_test.reshape(X_test.shape[0], num_pixels).astype('float32') # flatten test images"
      ],
      "execution_count": 8
    },
    {
      "cell_type": "markdown",
      "source": [
        "Visualize the new df shape"
      ],
      "metadata": {
        "id": "FcyS5qTvF26K"
      }
    },
    {
      "cell_type": "code",
      "source": [
        "X_train.shape"
      ],
      "metadata": {
        "colab": {
          "base_uri": "https://localhost:8080/"
        },
        "id": "lQSEXHdXFzxb",
        "outputId": "263c9550-8fe2-4c68-8314-72d78bbe054c"
      },
      "execution_count": 9,
      "outputs": [
        {
          "output_type": "execute_result",
          "data": {
            "text/plain": [
              "(60000, 784)"
            ]
          },
          "metadata": {},
          "execution_count": 9
        }
      ]
    },
    {
      "cell_type": "markdown",
      "metadata": {
        "id": "da865046-1d25-4855-bb8d-3b6bfb15343a"
      },
      "source": [
        "Since pixel values can range from 0 to 255, let's **normalize the vectors** to be between 0 and 1.\n"
      ]
    },
    {
      "cell_type": "code",
      "metadata": {
        "id": "b2b71bef-dd01-4e76-914e-f97e280b3be1"
      },
      "outputs": [],
      "source": [
        "# normalize inputs from 0-255 to 0-1\n",
        "X_train = X_train / 255\n",
        "X_test = X_test / 255"
      ],
      "execution_count": 10
    },
    {
      "cell_type": "markdown",
      "metadata": {
        "id": "8dba8319-79d1-4079-9afd-047692d9f3e4"
      },
      "source": [
        "Finally, before we start building our model, remember that for classification we need to **divide our target variable into categories**. We use the to_categorical function from the Keras Utilities package.\n"
      ]
    },
    {
      "cell_type": "code",
      "metadata": {
        "colab": {
          "base_uri": "https://localhost:8080/"
        },
        "id": "416635d1-1051-4b66-9acb-8dd5b8e68290",
        "outputId": "71060450-14af-418e-ed63-0dc40d403f8f"
      },
      "outputs": [
        {
          "output_type": "stream",
          "name": "stdout",
          "text": [
            "10\n"
          ]
        }
      ],
      "source": [
        "# one hot encode outputs\n",
        "y_train = to_categorical(y_train)\n",
        "y_test = to_categorical(y_test)\n",
        "\n",
        "num_classes = y_test.shape[1]\n",
        "print(num_classes)"
      ],
      "execution_count": 11
    },
    {
      "cell_type": "markdown",
      "metadata": {
        "id": "b11ce88d-0157-43f2-b64f-5b09fd916c78"
      },
      "source": [
        "## Build a Neural Network\n"
      ]
    },
    {
      "cell_type": "code",
      "metadata": {
        "id": "22f4c784-d600-4b17-b494-3e98ee07af75"
      },
      "outputs": [],
      "source": [
        "# define classification model\n",
        "def classification_model():\n",
        "    # create model\n",
        "\n",
        "    model = Sequential()\n",
        "    model.add(Input(shape=(num_pixels,)))\n",
        "    model.add(Dense(num_pixels, activation='relu'))\n",
        "    model.add(Dense(100, activation='relu'))\n",
        "    model.add(Dense(num_classes, activation='softmax'))\n",
        "\n",
        "\n",
        "    # compile model\n",
        "    model.compile(optimizer='adam', loss='categorical_crossentropy', metrics=['accuracy'])\n",
        "    return model"
      ],
      "execution_count": 12
    },
    {
      "cell_type": "markdown",
      "metadata": {
        "id": "aa0d7bc7-1344-4d0d-857b-4a91c685c232"
      },
      "source": [
        "## Train and Test the Network\n"
      ]
    },
    {
      "cell_type": "code",
      "metadata": {
        "colab": {
          "base_uri": "https://localhost:8080/"
        },
        "id": "711b258f-73fe-4ace-ae96-e72c71d6af67",
        "outputId": "f11d28ef-4500-4754-f1c5-ae068300f48a"
      },
      "outputs": [
        {
          "output_type": "stream",
          "name": "stdout",
          "text": [
            "Epoch 1/10\n",
            "1875/1875 - 24s - 13ms/step - accuracy: 0.9443 - loss: 0.1841 - val_accuracy: 0.9643 - val_loss: 0.1094\n",
            "Epoch 2/10\n",
            "1875/1875 - 19s - 10ms/step - accuracy: 0.9748 - loss: 0.0794 - val_accuracy: 0.9763 - val_loss: 0.0775\n",
            "Epoch 3/10\n",
            "1875/1875 - 21s - 11ms/step - accuracy: 0.9833 - loss: 0.0524 - val_accuracy: 0.9791 - val_loss: 0.0648\n",
            "Epoch 4/10\n",
            "1875/1875 - 20s - 10ms/step - accuracy: 0.9872 - loss: 0.0389 - val_accuracy: 0.9802 - val_loss: 0.0680\n",
            "Epoch 5/10\n",
            "1875/1875 - 21s - 11ms/step - accuracy: 0.9897 - loss: 0.0322 - val_accuracy: 0.9780 - val_loss: 0.0866\n",
            "Epoch 6/10\n",
            "1875/1875 - 21s - 11ms/step - accuracy: 0.9913 - loss: 0.0268 - val_accuracy: 0.9743 - val_loss: 0.1001\n",
            "Epoch 7/10\n",
            "1875/1875 - 19s - 10ms/step - accuracy: 0.9923 - loss: 0.0235 - val_accuracy: 0.9818 - val_loss: 0.0727\n",
            "Epoch 8/10\n",
            "1875/1875 - 20s - 11ms/step - accuracy: 0.9939 - loss: 0.0193 - val_accuracy: 0.9777 - val_loss: 0.0897\n",
            "Epoch 9/10\n",
            "1875/1875 - 19s - 10ms/step - accuracy: 0.9939 - loss: 0.0180 - val_accuracy: 0.9799 - val_loss: 0.0912\n",
            "Epoch 10/10\n",
            "1875/1875 - 20s - 11ms/step - accuracy: 0.9949 - loss: 0.0151 - val_accuracy: 0.9806 - val_loss: 0.0944\n"
          ]
        }
      ],
      "source": [
        "# build the model\n",
        "model = classification_model()\n",
        "\n",
        "# fit the model\n",
        "model.fit(X_train, y_train, validation_data=(X_test, y_test), epochs=10, verbose=2)\n",
        "\n",
        "# evaluate the model\n",
        "scores = model.evaluate(X_test, y_test, verbose=0)"
      ],
      "execution_count": 13
    },
    {
      "cell_type": "markdown",
      "metadata": {
        "id": "d8668581-4e3e-4cae-a0ba-1932c560aa01"
      },
      "source": [
        "Let's print the accuracy and the corresponding error.\n"
      ]
    },
    {
      "cell_type": "code",
      "metadata": {
        "colab": {
          "base_uri": "https://localhost:8080/"
        },
        "id": "c62635ba-7b96-44d8-85e5-b93101313e45",
        "outputId": "020eca07-0b88-4d01-af4f-f138b3eac843"
      },
      "outputs": [
        {
          "output_type": "stream",
          "name": "stdout",
          "text": [
            "Accuracy: 0.9805999994277954% \n",
            " Error: 0.01940000057220459\n"
          ]
        }
      ],
      "source": [
        "print('Accuracy: {}% \\n Error: {}'.format(scores[1], 1 - scores[1]))"
      ],
      "execution_count": 14
    },
    {
      "cell_type": "markdown",
      "metadata": {
        "id": "8cb896d9-ac23-49e1-a08d-3e95a12f3baa"
      },
      "source": [
        "Just running 10 epochs could actually take over 20 minutes. But enjoy the results as they are getting generated.\n"
      ]
    },
    {
      "cell_type": "markdown",
      "metadata": {
        "id": "738fbd92-dfb1-49c5-b8d4-a1c0a60a4b06"
      },
      "source": [
        "Sometimes, you cannot afford to retrain your model everytime you want to use it, especially if you are limited on computational resources and training your model can take a long time. Therefore, with the Keras library, you can save your model after training. To do that, we use the save method.\n"
      ]
    },
    {
      "cell_type": "code",
      "metadata": {
        "id": "26f2fd96-8a5e-4323-9fa2-0102ad9cabab"
      },
      "outputs": [],
      "source": [
        "model.save('classification_model.keras')"
      ],
      "execution_count": 15
    },
    {
      "cell_type": "markdown",
      "metadata": {
        "id": "b3f9a939-77b2-47df-ab3c-fb98d5951f3d"
      },
      "source": [
        "Since our model contains multidimensional arrays of data, then models are usually saved as .keras files.\n"
      ]
    },
    {
      "cell_type": "markdown",
      "metadata": {
        "id": "87d23cda-d3df-451f-bb71-087284ef482d"
      },
      "source": [
        "When you are ready to use your model again, you use the load_model function from <strong>keras.saving</strong>.\n"
      ]
    },
    {
      "cell_type": "code",
      "metadata": {
        "id": "30487ebb-692c-4cdc-b3ea-ac0df17cfcff"
      },
      "outputs": [],
      "source": [
        "pretrained_model = keras.saving.load_model('classification_model.keras')"
      ],
      "execution_count": 16
    },
    {
      "cell_type": "markdown",
      "metadata": {
        "id": "59a77d59-6abd-4025-ac75-2e890c84a72b"
      },
      "source": [
        "<h3>Practice Exercise 1</h3>\n"
      ]
    },
    {
      "cell_type": "markdown",
      "metadata": {
        "id": "9b4499a9-fdaa-4c5e-8a44-1332791440a0"
      },
      "source": [
        "Create a neural network model with 6 dense layers and compare its accuracy\n"
      ]
    },
    {
      "cell_type": "code",
      "metadata": {
        "colab": {
          "base_uri": "https://localhost:8080/"
        },
        "id": "3c920a54-1d95-4f5a-8f3a-95f1f933a775",
        "outputId": "72ee7086-5428-4432-c27b-10cdf50284e8"
      },
      "outputs": [
        {
          "output_type": "stream",
          "name": "stdout",
          "text": [
            "Epoch 1/10\n",
            "1875/1875 - 24s - 13ms/step - accuracy: 0.9335 - loss: 0.2178 - val_accuracy: 0.9600 - val_loss: 0.1261\n",
            "Epoch 2/10\n",
            "1875/1875 - 20s - 11ms/step - accuracy: 0.9704 - loss: 0.0990 - val_accuracy: 0.9609 - val_loss: 0.1394\n",
            "Epoch 3/10\n",
            "1875/1875 - 23s - 12ms/step - accuracy: 0.9784 - loss: 0.0734 - val_accuracy: 0.9710 - val_loss: 0.0970\n",
            "Epoch 4/10\n",
            "1875/1875 - 39s - 21ms/step - accuracy: 0.9833 - loss: 0.0572 - val_accuracy: 0.9766 - val_loss: 0.0884\n",
            "Epoch 5/10\n",
            "1875/1875 - 42s - 22ms/step - accuracy: 0.9860 - loss: 0.0476 - val_accuracy: 0.9787 - val_loss: 0.0794\n",
            "Epoch 6/10\n",
            "1875/1875 - 40s - 22ms/step - accuracy: 0.9886 - loss: 0.0386 - val_accuracy: 0.9803 - val_loss: 0.0768\n",
            "Epoch 7/10\n",
            "1875/1875 - 40s - 21ms/step - accuracy: 0.9898 - loss: 0.0344 - val_accuracy: 0.9757 - val_loss: 0.0983\n",
            "Epoch 8/10\n",
            "1875/1875 - 21s - 11ms/step - accuracy: 0.9916 - loss: 0.0291 - val_accuracy: 0.9824 - val_loss: 0.0723\n",
            "Epoch 9/10\n",
            "1875/1875 - 40s - 21ms/step - accuracy: 0.9928 - loss: 0.0252 - val_accuracy: 0.9815 - val_loss: 0.0883\n",
            "Epoch 10/10\n",
            "1875/1875 - 21s - 11ms/step - accuracy: 0.9932 - loss: 0.0246 - val_accuracy: 0.9844 - val_loss: 0.0676\n"
          ]
        }
      ],
      "source": [
        "def classification_model_1():\n",
        "  model = Sequential()\n",
        "\n",
        "  model.add(Input(shape=[num_pixels,]))\n",
        "  model.add(Dense(num_pixels, activation=\"relu\"))\n",
        "  model.add(Dense(100, activation=\"relu\"))\n",
        "  model.add(Dense(100, activation=\"relu\"))\n",
        "  model.add(Dense(100, activation=\"relu\"))\n",
        "  model.add(Dense(100, activation=\"relu\"))\n",
        "  model.add(Dense(num_classes, activation=\"softmax\"))\n",
        "\n",
        "  model.compile(optimizer=\"adam\", loss=\"categorical_crossentropy\", metrics=['accuracy'])\n",
        "  return model\n",
        "\n",
        "model_1 = classification_model_1()\n",
        "model_1.fit(X_train, y_train, validation_data=(X_test, y_test), epochs=10, verbose=2)\n",
        "scores_1 = model.evaluate(X_test, y_test, verbose=0)"
      ],
      "execution_count": 18
    },
    {
      "cell_type": "code",
      "source": [
        "print('Accuracy: {}% \\n Error: {}'.format(scores_1[1], 1 - scores_1[1]))"
      ],
      "metadata": {
        "colab": {
          "base_uri": "https://localhost:8080/"
        },
        "id": "vlf_e8dQJLns",
        "outputId": "ac8df66b-6eba-4d12-e6be-e52c38a7e058"
      },
      "execution_count": 19,
      "outputs": [
        {
          "output_type": "stream",
          "name": "stdout",
          "text": [
            "Accuracy: 0.9805999994277954% \n",
            " Error: 0.01940000057220459\n"
          ]
        }
      ]
    },
    {
      "cell_type": "markdown",
      "metadata": {
        "id": "5ea8cf34-bed0-4c53-84ff-9c5f180c1ca7"
      },
      "source": [
        "Double-click <b>here</b> for the solution.\n",
        "\n",
        "<!-- Your answer is below:\n",
        "def classification_model_6layers():\n",
        "    # create model\n",
        "    \n",
        "    model = Sequential()\n",
        "    model.add(Input(shape=(num_pixels,)))\n",
        "    model.add(Dense(num_pixels, activation='relu'))\n",
        "    model.add(Dense(100, activation='relu'))\n",
        "    model.add(Dense(100, activation='relu'))\n",
        "    model.add(Dense(100, activation='relu'))\n",
        "    model.add(Dense(100, activation='relu'))\n",
        "    model.add(Dense(num_classes, activation='softmax'))\n",
        "    \n",
        "    \n",
        "    # compile model\n",
        "    model.compile(optimizer='adam', loss='categorical_crossentropy', metrics=['accuracy'])\n",
        "    return model\n",
        "\n",
        "# build the model\n",
        "model_6layers = classification_model_6layers()\n",
        "\n",
        "# fit the model\n",
        "model_6layers.fit(X_train, y_train, validation_data=(X_test, y_test), epochs=10, verbose=2)\n",
        "\n",
        "# evaluate the model\n",
        "scores_6layers = model_6layers.evaluate(X_test, y_test, verbose=0)\n",
        "\n",
        "print('Accuracy_3_layers: {}% \\n Accuracy_6_layers: {}'.format(scores[1], scores_6layers[1]))   \n",
        "\n",
        "-->\n"
      ]
    },
    {
      "cell_type": "markdown",
      "metadata": {
        "id": "06868e1f-5543-4536-8ed3-ebbf3715663f"
      },
      "source": [
        "<h3>Practice Exercise 2</h3>\n"
      ]
    },
    {
      "cell_type": "markdown",
      "metadata": {
        "id": "c26cca9e-a280-4083-9399-536639edcc00"
      },
      "source": [
        "Now, load the the earlier saved model, train it further for 10 more epochs and check the accuracy\n"
      ]
    },
    {
      "cell_type": "code",
      "metadata": {
        "colab": {
          "base_uri": "https://localhost:8080/"
        },
        "id": "02fdd930-699f-4483-842e-38f66775fd36",
        "outputId": "01002a18-1048-42aa-aed9-1019047fbea5"
      },
      "outputs": [
        {
          "output_type": "stream",
          "name": "stdout",
          "text": [
            "Epoch 1/10\n",
            "1875/1875 - 21s - 11ms/step - accuracy: 0.9951 - loss: 0.0154 - val_accuracy: 0.9790 - val_loss: 0.0909\n",
            "Epoch 2/10\n",
            "1875/1875 - 21s - 11ms/step - accuracy: 0.9959 - loss: 0.0122 - val_accuracy: 0.9789 - val_loss: 0.0909\n",
            "Epoch 3/10\n",
            "1875/1875 - 22s - 12ms/step - accuracy: 0.9961 - loss: 0.0123 - val_accuracy: 0.9783 - val_loss: 0.1162\n",
            "Epoch 4/10\n",
            "1875/1875 - 21s - 11ms/step - accuracy: 0.9959 - loss: 0.0140 - val_accuracy: 0.9778 - val_loss: 0.1168\n",
            "Epoch 5/10\n",
            "1875/1875 - 19s - 10ms/step - accuracy: 0.9963 - loss: 0.0128 - val_accuracy: 0.9811 - val_loss: 0.0981\n",
            "Epoch 6/10\n",
            "1875/1875 - 20s - 11ms/step - accuracy: 0.9965 - loss: 0.0112 - val_accuracy: 0.9824 - val_loss: 0.1099\n",
            "Epoch 7/10\n",
            "1875/1875 - 21s - 11ms/step - accuracy: 0.9965 - loss: 0.0115 - val_accuracy: 0.9819 - val_loss: 0.1037\n",
            "Epoch 8/10\n",
            "1875/1875 - 40s - 22ms/step - accuracy: 0.9973 - loss: 0.0100 - val_accuracy: 0.9816 - val_loss: 0.1168\n",
            "Epoch 9/10\n",
            "1875/1875 - 19s - 10ms/step - accuracy: 0.9969 - loss: 0.0108 - val_accuracy: 0.9822 - val_loss: 0.1083\n",
            "Epoch 10/10\n",
            "1875/1875 - 21s - 11ms/step - accuracy: 0.9973 - loss: 0.0096 - val_accuracy: 0.9827 - val_loss: 0.1116\n",
            "Accuracy_10_epochs: 0.9805999994277954% \n",
            " Accuracy_20_epochs: 0.982699990272522\n"
          ]
        }
      ],
      "source": [
        "pretrained_model = keras.saving.load_model('classification_model.keras')\n",
        "\n",
        "pretrained_model.fit(X_train, y_train, validation_data=(X_test, y_test), epochs=10, verbose=2)\n",
        "\n",
        "scores_pre = pretrained_model.evaluate(X_test, y_test, verbose=0)\n",
        "\n",
        "print('Accuracy_10_epochs: {}% \\n Accuracy_20_epochs: {}'.format(scores[1], scores_pre[1]))"
      ],
      "execution_count": 20
    },
    {
      "cell_type": "markdown",
      "metadata": {
        "id": "669c6dda-3892-4a90-a700-772e7e690942"
      },
      "source": [
        "Double-click <b>here</b> for the solution.\n",
        "\n",
        "<!-- Your answer is below:\n",
        "\n",
        "#load the saved model\n",
        "pretrained_model = keras.saving.load_model('classification_model.keras')\n",
        "\n",
        "print(\"Pre-trained model loaded successufully\")\n",
        "\n",
        "# Further train the loaded model\n",
        "pretrained_model.fit(X_train, y_train, validation_data=(X_test, y_test), epochs=10, verbose=2)\n",
        "\n",
        "# evaluate the model\n",
        "scores_20_epochs = pretrained_model.evaluate(X_test, y_test, verbose=0)\n",
        "print('Accuracy_10_epochs: {}% \\n Accuracy_20_epochs: {}'.format(scores[1], scores_20_epochs[1]))   \n",
        "\n",
        "-->\n"
      ]
    },
    {
      "cell_type": "markdown",
      "metadata": {
        "id": "aba414e9-b546-4a17-a341-c43163da57fb"
      },
      "source": [
        "### Thank you for completing this lab!\n",
        "\n",
        "This notebook was created by [Alex Aklson](https://www.linkedin.com/in/aklson/). I hope you found this lab interesting and educational. Feel free to contact me if you have any questions!\n"
      ]
    },
    {
      "cell_type": "markdown",
      "metadata": {
        "id": "22a30a27-69bc-40b0-9227-7a2cb40dc5ea"
      },
      "source": [
        "<!--\n",
        "## Change Log\n",
        "\n",
        "|  Date (YYYY-MM-DD) |  Version | Changed By  |  Change Description |\n",
        "|---|---|---|---|\n",
        "| 2024-11-20  | 3.0  |   Aman   |  Updated the library versions to current |\n",
        "| 2020-09-21  | 2.0  | Srishti  |  Migrated Lab to Markdown and added to course repo in GitLab |\n",
        "\n",
        "\n",
        "\n",
        "<hr>\n",
        "\n",
        "## <h3 align=\"center\"> © IBM Corporation. All rights reserved. <h3/>\n"
      ]
    },
    {
      "cell_type": "markdown",
      "metadata": {
        "id": "d1b83917-d21c-453d-8f41-4721aee322ce"
      },
      "source": [
        "## <h3 align=\"center\"> &#169; IBM Corporation. All rights reserved. <h3/>\n",
        "\n"
      ]
    }
  ],
  "metadata": {
    "kernelspec": {
      "display_name": "Python 3 (ipykernel)",
      "language": "python",
      "name": "python3"
    },
    "language_info": {
      "name": "python",
      "version": "3.12.8",
      "mimetype": "text/x-python",
      "codemirror_mode": {
        "name": "ipython",
        "version": 3
      },
      "pygments_lexer": "ipython3",
      "nbconvert_exporter": "python",
      "file_extension": ".py"
    },
    "prev_pub_hash": "c850b639d611b84ea2eecf5ddb84ea433849e20b6766a84b43a9df0c51e4e9ee",
    "colab": {
      "provenance": [],
      "include_colab_link": true
    }
  },
  "nbformat": 4,
  "nbformat_minor": 0
}